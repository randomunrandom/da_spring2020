{
 "cells": [
  {
   "cell_type": "code",
   "execution_count": 2,
   "metadata": {
    "ExecuteTime": {
     "end_time": "2020-04-06T10:50:16.866361Z",
     "start_time": "2020-04-06T10:50:16.748155Z"
    }
   },
   "outputs": [],
   "source": [
    "import numpy as np\n",
    "import pandas as pd\n",
    "from scipy import stats\n",
    "import matplotlib.pyplot as plt\n",
    "%matplotlib inline\n",
    "import seaborn as sns; sns.set(style='whitegrid')"
   ]
  },
  {
   "cell_type": "code",
   "execution_count": 3,
   "metadata": {
    "ExecuteTime": {
     "end_time": "2020-04-06T10:55:46.051741Z",
     "start_time": "2020-04-06T10:55:46.016835Z"
    }
   },
   "outputs": [
    {
     "data": {
      "text/plain": [
       "array([[1625,    5],\n",
       "       [1022,   11]])"
      ]
     },
     "execution_count": 3,
     "metadata": {},
     "output_type": "execute_result"
    }
   ],
   "source": [
    "a = np.array([\n",
    "    [1625, 5],\n",
    "    [1022, 11]\n",
    "])\n",
    "a"
   ]
  },
  {
   "cell_type": "code",
   "execution_count": 5,
   "metadata": {
    "ExecuteTime": {
     "end_time": "2020-04-06T10:59:17.485872Z",
     "start_time": "2020-04-06T10:59:17.476894Z"
    }
   },
   "outputs": [
    {
     "data": {
      "text/plain": [
       "(4.881662029541069,\n",
       " 0.027143470897616286,\n",
       " 1,\n",
       " array([[1620.20653398,    9.79346602],\n",
       "        [1026.79346602,    6.20653398]]))"
      ]
     },
     "execution_count": 5,
     "metadata": {},
     "output_type": "execute_result"
    }
   ],
   "source": [
    "stats.chi2_contingency(a)"
   ]
  },
  {
   "cell_type": "code",
   "execution_count": 6,
   "metadata": {
    "ExecuteTime": {
     "end_time": "2020-04-06T11:00:04.627291Z",
     "start_time": "2020-04-06T11:00:04.615322Z"
    }
   },
   "outputs": [
    {
     "data": {
      "text/plain": [
       "(0.0,\n",
       " 1.0,\n",
       " 1,\n",
       " array([[10., 10.],\n",
       "        [10., 10.]]))"
      ]
     },
     "execution_count": 6,
     "metadata": {},
     "output_type": "execute_result"
    }
   ],
   "source": [
    "a = np.array([\n",
    "    [10, 10],\n",
    "    [10, 10]\n",
    "])\n",
    "stats.chi2_contingency(a)"
   ]
  },
  {
   "cell_type": "code",
   "execution_count": 123,
   "metadata": {
    "ExecuteTime": {
     "end_time": "2020-04-06T13:20:36.247835Z",
     "start_time": "2020-04-06T13:20:36.238856Z"
    }
   },
   "outputs": [
    {
     "data": {
      "text/plain": [
       "(40.0,\n",
       " 2.5396285894708634e-10,\n",
       " 1,\n",
       " array([[10., 10.],\n",
       "        [10., 10.]]))"
      ]
     },
     "execution_count": 123,
     "metadata": {},
     "output_type": "execute_result"
    }
   ],
   "source": [
    "a = np.array([\n",
    "    [20, 0],\n",
    "    [0, 20]\n",
    "])\n",
    "stats.chi2_contingency(a, correction=False)"
   ]
  },
  {
   "cell_type": "code",
   "execution_count": 9,
   "metadata": {
    "ExecuteTime": {
     "end_time": "2020-04-06T11:02:53.141473Z",
     "start_time": "2020-04-06T11:02:53.132499Z"
    }
   },
   "outputs": [
    {
     "data": {
      "text/plain": [
       "(0.0,\n",
       " 1.0,\n",
       " 1,\n",
       " array([[10., 20.],\n",
       "        [30., 60.]]))"
      ]
     },
     "execution_count": 9,
     "metadata": {},
     "output_type": "execute_result"
    }
   ],
   "source": [
    "a = np.array([\n",
    "    [10, 20], # Курят\n",
    "    [30, 60] # Не курят\n",
    "])\n",
    "stats.chi2_contingency(a)"
   ]
  },
  {
   "cell_type": "code",
   "execution_count": 19,
   "metadata": {
    "ExecuteTime": {
     "end_time": "2020-04-06T11:11:40.164879Z",
     "start_time": "2020-04-06T11:11:40.152911Z"
    }
   },
   "outputs": [
    {
     "data": {
      "text/plain": [
       "(48.02, 200)"
      ]
     },
     "execution_count": 19,
     "metadata": {},
     "output_type": "execute_result"
    }
   ],
   "source": [
    "a = np.array([\n",
    "    [25, 75], # Курят\n",
    "    [75, 25] # Не курят\n",
    "])\n",
    "c1, _, _, _ = stats.chi2_contingency(a)\n",
    "n1 = a.sum()\n",
    "c1, n1"
   ]
  },
  {
   "cell_type": "code",
   "execution_count": 20,
   "metadata": {
    "ExecuteTime": {
     "end_time": "2020-04-06T11:11:55.027893Z",
     "start_time": "2020-04-06T11:11:55.019915Z"
    }
   },
   "outputs": [],
   "source": [
    "a = np.array([\n",
    "    [5, 15], # Курят\n",
    "    [15, 5] # Не курят\n",
    "])\n",
    "c2 , _, _, _ = stats.chi2_contingency(a)\n",
    "n2 = a.sum()"
   ]
  },
  {
   "cell_type": "code",
   "execution_count": 21,
   "metadata": {
    "ExecuteTime": {
     "end_time": "2020-04-06T11:12:00.994853Z",
     "start_time": "2020-04-06T11:12:00.988870Z"
    }
   },
   "outputs": [
    {
     "data": {
      "text/plain": [
       "(8.1, 40)"
      ]
     },
     "execution_count": 21,
     "metadata": {},
     "output_type": "execute_result"
    }
   ],
   "source": [
    "c2, n2"
   ]
  },
  {
   "cell_type": "markdown",
   "metadata": {
    "ExecuteTime": {
     "end_time": "2020-04-06T11:07:17.995431Z",
     "start_time": "2020-04-06T11:07:17.990445Z"
    }
   },
   "source": [
    "# Мера связи Пирсона и Крамера"
   ]
  },
  {
   "cell_type": "code",
   "execution_count": 22,
   "metadata": {
    "ExecuteTime": {
     "end_time": "2020-04-06T11:12:33.146512Z",
     "start_time": "2020-04-06T11:12:33.135559Z"
    }
   },
   "outputs": [
    {
     "data": {
      "text/plain": [
       "(0.44001524777298334, 0.41036467732879783)"
      ]
     },
     "execution_count": 22,
     "metadata": {},
     "output_type": "execute_result"
    }
   ],
   "source": [
    "P1 = np.sqrt(c1 / (c1 + n1))\n",
    "P2 = np.sqrt(c2 / (c2 + n2))\n",
    "P1, P2"
   ]
  },
  {
   "cell_type": "code",
   "execution_count": 24,
   "metadata": {
    "ExecuteTime": {
     "end_time": "2020-04-06T11:15:55.614772Z",
     "start_time": "2020-04-06T11:15:55.604801Z"
    }
   },
   "outputs": [
    {
     "data": {
      "text/plain": [
       "0.49"
      ]
     },
     "execution_count": 24,
     "metadata": {},
     "output_type": "execute_result"
    }
   ],
   "source": [
    "C1 = np.sqrt(c1 / (n1 * min((2-1), (2-1))))\n",
    "C1"
   ]
  },
  {
   "cell_type": "code",
   "execution_count": 25,
   "metadata": {
    "ExecuteTime": {
     "end_time": "2020-04-06T11:16:09.183018Z",
     "start_time": "2020-04-06T11:16:09.177036Z"
    }
   },
   "outputs": [],
   "source": [
    "C2 = np.sqrt(c2 / (n2 * min((2-1), (2-1))))"
   ]
  },
  {
   "cell_type": "code",
   "execution_count": 26,
   "metadata": {
    "ExecuteTime": {
     "end_time": "2020-04-06T11:16:10.900475Z",
     "start_time": "2020-04-06T11:16:10.894503Z"
    }
   },
   "outputs": [
    {
     "data": {
      "text/plain": [
       "0.45"
      ]
     },
     "execution_count": 26,
     "metadata": {},
     "output_type": "execute_result"
    }
   ],
   "source": [
    "C2"
   ]
  },
  {
   "cell_type": "markdown",
   "metadata": {},
   "source": [
    "# Crosstab & cut"
   ]
  },
  {
   "cell_type": "code",
   "execution_count": 27,
   "metadata": {
    "ExecuteTime": {
     "end_time": "2020-04-06T11:17:32.005240Z",
     "start_time": "2020-04-06T11:17:31.867136Z"
    }
   },
   "outputs": [
    {
     "data": {
      "text/html": [
       "<div>\n",
       "<style scoped>\n",
       "    .dataframe tbody tr th:only-of-type {\n",
       "        vertical-align: middle;\n",
       "    }\n",
       "\n",
       "    .dataframe tbody tr th {\n",
       "        vertical-align: top;\n",
       "    }\n",
       "\n",
       "    .dataframe thead th {\n",
       "        text-align: right;\n",
       "    }\n",
       "</style>\n",
       "<table border=\"1\" class=\"dataframe\">\n",
       "  <thead>\n",
       "    <tr style=\"text-align: right;\">\n",
       "      <th></th>\n",
       "      <th>Возраст</th>\n",
       "      <th>Пол</th>\n",
       "      <th>Должность</th>\n",
       "      <th>Курение</th>\n",
       "    </tr>\n",
       "  </thead>\n",
       "  <tbody>\n",
       "    <tr>\n",
       "      <th>0</th>\n",
       "      <td>55</td>\n",
       "      <td>М</td>\n",
       "      <td>Ст. Менеджер</td>\n",
       "      <td>Да</td>\n",
       "    </tr>\n",
       "    <tr>\n",
       "      <th>1</th>\n",
       "      <td>28</td>\n",
       "      <td>Ж</td>\n",
       "      <td>Мл. Менеджер</td>\n",
       "      <td>Нет</td>\n",
       "    </tr>\n",
       "    <tr>\n",
       "      <th>2</th>\n",
       "      <td>27</td>\n",
       "      <td>М</td>\n",
       "      <td>Мл. Рабочий</td>\n",
       "      <td>Да</td>\n",
       "    </tr>\n",
       "    <tr>\n",
       "      <th>3</th>\n",
       "      <td>36</td>\n",
       "      <td>М</td>\n",
       "      <td>Ст. Рабочий</td>\n",
       "      <td>Да</td>\n",
       "    </tr>\n",
       "    <tr>\n",
       "      <th>4</th>\n",
       "      <td>50</td>\n",
       "      <td>Ж</td>\n",
       "      <td>Мл. Менеджер</td>\n",
       "      <td>Да</td>\n",
       "    </tr>\n",
       "    <tr>\n",
       "      <th>5</th>\n",
       "      <td>44</td>\n",
       "      <td>Ж</td>\n",
       "      <td>Мл. Менеджер</td>\n",
       "      <td>Нет</td>\n",
       "    </tr>\n",
       "    <tr>\n",
       "      <th>6</th>\n",
       "      <td>42</td>\n",
       "      <td>Ж</td>\n",
       "      <td>Ст. Рабочий</td>\n",
       "      <td>Нет</td>\n",
       "    </tr>\n",
       "    <tr>\n",
       "      <th>7</th>\n",
       "      <td>38</td>\n",
       "      <td>М</td>\n",
       "      <td>Ст. Менеджер</td>\n",
       "      <td>Да</td>\n",
       "    </tr>\n",
       "    <tr>\n",
       "      <th>8</th>\n",
       "      <td>45</td>\n",
       "      <td>Ж</td>\n",
       "      <td>Мл. Рабочий</td>\n",
       "      <td>Нет</td>\n",
       "    </tr>\n",
       "    <tr>\n",
       "      <th>9</th>\n",
       "      <td>39</td>\n",
       "      <td>Ж</td>\n",
       "      <td>Ст. Рабочий</td>\n",
       "      <td>Нет</td>\n",
       "    </tr>\n",
       "  </tbody>\n",
       "</table>\n",
       "</div>"
      ],
      "text/plain": [
       "   Возраст Пол     Должность Курение\n",
       "0       55   М  Ст. Менеджер      Да\n",
       "1       28   Ж  Мл. Менеджер     Нет\n",
       "2       27   М   Мл. Рабочий      Да\n",
       "3       36   М   Ст. Рабочий      Да\n",
       "4       50   Ж  Мл. Менеджер      Да\n",
       "5       44   Ж  Мл. Менеджер     Нет\n",
       "6       42   Ж   Ст. Рабочий     Нет\n",
       "7       38   М  Ст. Менеджер      Да\n",
       "8       45   Ж   Мл. Рабочий     Нет\n",
       "9       39   Ж   Ст. Рабочий     Нет"
      ]
     },
     "execution_count": 27,
     "metadata": {},
     "output_type": "execute_result"
    }
   ],
   "source": [
    "df = pd.read_csv('data/smoking.csv', delimiter=';')\n",
    "df.head(10)"
   ]
  },
  {
   "cell_type": "code",
   "execution_count": 28,
   "metadata": {
    "ExecuteTime": {
     "end_time": "2020-04-06T11:18:07.280040Z",
     "start_time": "2020-04-06T11:18:07.264078Z"
    }
   },
   "outputs": [
    {
     "name": "stdout",
     "output_type": "stream",
     "text": [
      "<class 'pandas.core.frame.DataFrame'>\n",
      "RangeIndex: 31 entries, 0 to 30\n",
      "Data columns (total 4 columns):\n",
      " #   Column     Non-Null Count  Dtype \n",
      "---  ------     --------------  ----- \n",
      " 0   Возраст    31 non-null     int64 \n",
      " 1   Пол        31 non-null     object\n",
      " 2   Должность  31 non-null     object\n",
      " 3   Курение    31 non-null     object\n",
      "dtypes: int64(1), object(3)\n",
      "memory usage: 684.0+ bytes\n"
     ]
    }
   ],
   "source": [
    "df.info()"
   ]
  },
  {
   "cell_type": "code",
   "execution_count": 29,
   "metadata": {
    "ExecuteTime": {
     "end_time": "2020-04-06T11:19:27.031183Z",
     "start_time": "2020-04-06T11:19:26.957380Z"
    }
   },
   "outputs": [
    {
     "data": {
      "text/html": [
       "<div>\n",
       "<style scoped>\n",
       "    .dataframe tbody tr th:only-of-type {\n",
       "        vertical-align: middle;\n",
       "    }\n",
       "\n",
       "    .dataframe tbody tr th {\n",
       "        vertical-align: top;\n",
       "    }\n",
       "\n",
       "    .dataframe thead th {\n",
       "        text-align: right;\n",
       "    }\n",
       "</style>\n",
       "<table border=\"1\" class=\"dataframe\">\n",
       "  <thead>\n",
       "    <tr style=\"text-align: right;\">\n",
       "      <th>Курение</th>\n",
       "      <th>Да</th>\n",
       "      <th>Нет</th>\n",
       "    </tr>\n",
       "    <tr>\n",
       "      <th>Пол</th>\n",
       "      <th></th>\n",
       "      <th></th>\n",
       "    </tr>\n",
       "  </thead>\n",
       "  <tbody>\n",
       "    <tr>\n",
       "      <th>Ж</th>\n",
       "      <td>3</td>\n",
       "      <td>11</td>\n",
       "    </tr>\n",
       "    <tr>\n",
       "      <th>М</th>\n",
       "      <td>13</td>\n",
       "      <td>4</td>\n",
       "    </tr>\n",
       "  </tbody>\n",
       "</table>\n",
       "</div>"
      ],
      "text/plain": [
       "Курение  Да  Нет\n",
       "Пол             \n",
       "Ж         3   11\n",
       "М        13    4"
      ]
     },
     "execution_count": 29,
     "metadata": {},
     "output_type": "execute_result"
    }
   ],
   "source": [
    "df_sex_smoke = pd.crosstab(df['Пол'], df['Курение'])\n",
    "df_sex_smoke"
   ]
  },
  {
   "cell_type": "code",
   "execution_count": 34,
   "metadata": {
    "ExecuteTime": {
     "end_time": "2020-04-06T11:21:42.405652Z",
     "start_time": "2020-04-06T11:21:42.396677Z"
    }
   },
   "outputs": [
    {
     "data": {
      "text/plain": [
       "(7.23998161764706, 31)"
      ]
     },
     "execution_count": 34,
     "metadata": {},
     "output_type": "execute_result"
    }
   ],
   "source": [
    "c1, _, _, _ = stats.chi2_contingency(df_sex_smoke)\n",
    "n1 = len(df)\n",
    "c1, n1"
   ]
  },
  {
   "cell_type": "code",
   "execution_count": 35,
   "metadata": {
    "ExecuteTime": {
     "end_time": "2020-04-06T11:21:48.941559Z",
     "start_time": "2020-04-06T11:21:48.934579Z"
    }
   },
   "outputs": [
    {
     "data": {
      "text/plain": [
       "0.4351208501507357"
      ]
     },
     "execution_count": 35,
     "metadata": {},
     "output_type": "execute_result"
    }
   ],
   "source": [
    "P = np.sqrt(c1 / (c1 + n1))\n",
    "P"
   ]
  },
  {
   "cell_type": "code",
   "execution_count": 36,
   "metadata": {
    "ExecuteTime": {
     "end_time": "2020-04-06T11:23:58.880251Z",
     "start_time": "2020-04-06T11:23:58.849318Z"
    }
   },
   "outputs": [
    {
     "data": {
      "text/html": [
       "<div>\n",
       "<style scoped>\n",
       "    .dataframe tbody tr th:only-of-type {\n",
       "        vertical-align: middle;\n",
       "    }\n",
       "\n",
       "    .dataframe tbody tr th {\n",
       "        vertical-align: top;\n",
       "    }\n",
       "\n",
       "    .dataframe thead th {\n",
       "        text-align: right;\n",
       "    }\n",
       "</style>\n",
       "<table border=\"1\" class=\"dataframe\">\n",
       "  <thead>\n",
       "    <tr style=\"text-align: right;\">\n",
       "      <th>Курение</th>\n",
       "      <th>Да</th>\n",
       "      <th>Нет</th>\n",
       "    </tr>\n",
       "    <tr>\n",
       "      <th>Должность</th>\n",
       "      <th></th>\n",
       "      <th></th>\n",
       "    </tr>\n",
       "  </thead>\n",
       "  <tbody>\n",
       "    <tr>\n",
       "      <th>Мл. Менеджер</th>\n",
       "      <td>4</td>\n",
       "      <td>3</td>\n",
       "    </tr>\n",
       "    <tr>\n",
       "      <th>Мл. Рабочий</th>\n",
       "      <td>3</td>\n",
       "      <td>4</td>\n",
       "    </tr>\n",
       "    <tr>\n",
       "      <th>Ст. Менеджер</th>\n",
       "      <td>4</td>\n",
       "      <td>1</td>\n",
       "    </tr>\n",
       "    <tr>\n",
       "      <th>Ст. Рабочий</th>\n",
       "      <td>5</td>\n",
       "      <td>7</td>\n",
       "    </tr>\n",
       "  </tbody>\n",
       "</table>\n",
       "</div>"
      ],
      "text/plain": [
       "Курение       Да  Нет\n",
       "Должность            \n",
       "Мл. Менеджер   4    3\n",
       "Мл. Рабочий    3    4\n",
       "Ст. Менеджер   4    1\n",
       "Ст. Рабочий    5    7"
      ]
     },
     "execution_count": 36,
     "metadata": {},
     "output_type": "execute_result"
    }
   ],
   "source": [
    "df_sex_smoke = pd.crosstab(df['Должность'], df['Курение'])\n",
    "df_sex_smoke"
   ]
  },
  {
   "cell_type": "code",
   "execution_count": 37,
   "metadata": {
    "ExecuteTime": {
     "end_time": "2020-04-06T11:24:31.099256Z",
     "start_time": "2020-04-06T11:24:31.089292Z"
    }
   },
   "outputs": [
    {
     "data": {
      "text/plain": [
       "(2.389275793650794,\n",
       " 0.4956340523978574,\n",
       " 3,\n",
       " array([[3.61290323, 3.38709677],\n",
       "        [3.61290323, 3.38709677],\n",
       "        [2.58064516, 2.41935484],\n",
       "        [6.19354839, 5.80645161]]))"
      ]
     },
     "execution_count": 37,
     "metadata": {},
     "output_type": "execute_result"
    }
   ],
   "source": [
    "stats.chi2_contingency(df_sex_smoke)"
   ]
  },
  {
   "cell_type": "code",
   "execution_count": 40,
   "metadata": {
    "ExecuteTime": {
     "end_time": "2020-04-06T11:27:03.046265Z",
     "start_time": "2020-04-06T11:27:03.023340Z"
    }
   },
   "outputs": [
    {
     "data": {
      "text/html": [
       "<div>\n",
       "<style scoped>\n",
       "    .dataframe tbody tr th:only-of-type {\n",
       "        vertical-align: middle;\n",
       "    }\n",
       "\n",
       "    .dataframe tbody tr th {\n",
       "        vertical-align: top;\n",
       "    }\n",
       "\n",
       "    .dataframe thead th {\n",
       "        text-align: right;\n",
       "    }\n",
       "</style>\n",
       "<table border=\"1\" class=\"dataframe\">\n",
       "  <thead>\n",
       "    <tr style=\"text-align: right;\">\n",
       "      <th></th>\n",
       "      <th>Возраст</th>\n",
       "      <th>Пол</th>\n",
       "      <th>Должность</th>\n",
       "      <th>Курение</th>\n",
       "      <th>Должность_общая</th>\n",
       "    </tr>\n",
       "  </thead>\n",
       "  <tbody>\n",
       "    <tr>\n",
       "      <th>0</th>\n",
       "      <td>55</td>\n",
       "      <td>М</td>\n",
       "      <td>Ст. Менеджер</td>\n",
       "      <td>Да</td>\n",
       "      <td>Менеджер</td>\n",
       "    </tr>\n",
       "    <tr>\n",
       "      <th>1</th>\n",
       "      <td>28</td>\n",
       "      <td>Ж</td>\n",
       "      <td>Мл. Менеджер</td>\n",
       "      <td>Нет</td>\n",
       "      <td>Менеджер</td>\n",
       "    </tr>\n",
       "    <tr>\n",
       "      <th>2</th>\n",
       "      <td>27</td>\n",
       "      <td>М</td>\n",
       "      <td>Мл. Рабочий</td>\n",
       "      <td>Да</td>\n",
       "      <td>Рабочий</td>\n",
       "    </tr>\n",
       "    <tr>\n",
       "      <th>3</th>\n",
       "      <td>36</td>\n",
       "      <td>М</td>\n",
       "      <td>Ст. Рабочий</td>\n",
       "      <td>Да</td>\n",
       "      <td>Рабочий</td>\n",
       "    </tr>\n",
       "    <tr>\n",
       "      <th>4</th>\n",
       "      <td>50</td>\n",
       "      <td>Ж</td>\n",
       "      <td>Мл. Менеджер</td>\n",
       "      <td>Да</td>\n",
       "      <td>Менеджер</td>\n",
       "    </tr>\n",
       "  </tbody>\n",
       "</table>\n",
       "</div>"
      ],
      "text/plain": [
       "   Возраст Пол     Должность Курение Должность_общая\n",
       "0       55   М  Ст. Менеджер      Да        Менеджер\n",
       "1       28   Ж  Мл. Менеджер     Нет        Менеджер\n",
       "2       27   М   Мл. Рабочий      Да         Рабочий\n",
       "3       36   М   Ст. Рабочий      Да         Рабочий\n",
       "4       50   Ж  Мл. Менеджер      Да        Менеджер"
      ]
     },
     "execution_count": 40,
     "metadata": {},
     "output_type": "execute_result"
    }
   ],
   "source": [
    "df['Должность_общая'] = df['Должность'].str.split(expand=True)[1]\n",
    "df.head()"
   ]
  },
  {
   "cell_type": "code",
   "execution_count": 41,
   "metadata": {
    "ExecuteTime": {
     "end_time": "2020-04-06T11:27:34.379326Z",
     "start_time": "2020-04-06T11:27:34.347432Z"
    }
   },
   "outputs": [
    {
     "data": {
      "text/html": [
       "<div>\n",
       "<style scoped>\n",
       "    .dataframe tbody tr th:only-of-type {\n",
       "        vertical-align: middle;\n",
       "    }\n",
       "\n",
       "    .dataframe tbody tr th {\n",
       "        vertical-align: top;\n",
       "    }\n",
       "\n",
       "    .dataframe thead th {\n",
       "        text-align: right;\n",
       "    }\n",
       "</style>\n",
       "<table border=\"1\" class=\"dataframe\">\n",
       "  <thead>\n",
       "    <tr style=\"text-align: right;\">\n",
       "      <th>Курение</th>\n",
       "      <th>Да</th>\n",
       "      <th>Нет</th>\n",
       "    </tr>\n",
       "    <tr>\n",
       "      <th>Должность_общая</th>\n",
       "      <th></th>\n",
       "      <th></th>\n",
       "    </tr>\n",
       "  </thead>\n",
       "  <tbody>\n",
       "    <tr>\n",
       "      <th>Менеджер</th>\n",
       "      <td>8</td>\n",
       "      <td>4</td>\n",
       "    </tr>\n",
       "    <tr>\n",
       "      <th>Рабочий</th>\n",
       "      <td>8</td>\n",
       "      <td>11</td>\n",
       "    </tr>\n",
       "  </tbody>\n",
       "</table>\n",
       "</div>"
      ],
      "text/plain": [
       "Курение          Да  Нет\n",
       "Должность_общая         \n",
       "Менеджер          8    4\n",
       "Рабочий           8   11"
      ]
     },
     "execution_count": 41,
     "metadata": {},
     "output_type": "execute_result"
    }
   ],
   "source": [
    "df_smoke = pd.crosstab(df['Должность_общая'], df['Курение'])\n",
    "df_smoke"
   ]
  },
  {
   "cell_type": "code",
   "execution_count": 42,
   "metadata": {
    "ExecuteTime": {
     "end_time": "2020-04-06T11:28:10.416065Z",
     "start_time": "2020-04-06T11:28:10.408088Z"
    }
   },
   "outputs": [
    {
     "data": {
      "text/plain": [
       "(0.9292351973684212,\n",
       " 0.3350617374441954,\n",
       " 1,\n",
       " array([[6.19354839, 5.80645161],\n",
       "        [9.80645161, 9.19354839]]))"
      ]
     },
     "execution_count": 42,
     "metadata": {},
     "output_type": "execute_result"
    }
   ],
   "source": [
    "stats.chi2_contingency(df_smoke)"
   ]
  },
  {
   "cell_type": "code",
   "execution_count": 46,
   "metadata": {
    "ExecuteTime": {
     "end_time": "2020-04-06T11:31:20.836678Z",
     "start_time": "2020-04-06T11:31:20.826705Z"
    }
   },
   "outputs": [
    {
     "data": {
      "text/plain": [
       "(16.79621299342105,\n",
       " 4.1616271427167786e-05,\n",
       " 1,\n",
       " array([[61.93548387, 58.06451613],\n",
       "        [98.06451613, 91.93548387]]))"
      ]
     },
     "execution_count": 46,
     "metadata": {},
     "output_type": "execute_result"
    }
   ],
   "source": [
    "a = np.array([\n",
    "    [80, 40],\n",
    "    [80, 110]\n",
    "])\n",
    "stats.chi2_contingency(a)"
   ]
  },
  {
   "cell_type": "code",
   "execution_count": 43,
   "metadata": {
    "ExecuteTime": {
     "end_time": "2020-04-06T11:28:39.341225Z",
     "start_time": "2020-04-06T11:28:39.321747Z"
    }
   },
   "outputs": [
    {
     "data": {
      "text/html": [
       "<div>\n",
       "<style scoped>\n",
       "    .dataframe tbody tr th:only-of-type {\n",
       "        vertical-align: middle;\n",
       "    }\n",
       "\n",
       "    .dataframe tbody tr th {\n",
       "        vertical-align: top;\n",
       "    }\n",
       "\n",
       "    .dataframe thead th {\n",
       "        text-align: right;\n",
       "    }\n",
       "</style>\n",
       "<table border=\"1\" class=\"dataframe\">\n",
       "  <thead>\n",
       "    <tr style=\"text-align: right;\">\n",
       "      <th></th>\n",
       "      <th>Возраст</th>\n",
       "      <th>Пол</th>\n",
       "      <th>Должность</th>\n",
       "      <th>Курение</th>\n",
       "      <th>Должность_общая</th>\n",
       "      <th>Должность_стмл</th>\n",
       "    </tr>\n",
       "  </thead>\n",
       "  <tbody>\n",
       "    <tr>\n",
       "      <th>0</th>\n",
       "      <td>55</td>\n",
       "      <td>М</td>\n",
       "      <td>Ст. Менеджер</td>\n",
       "      <td>Да</td>\n",
       "      <td>Менеджер</td>\n",
       "      <td>Ст.</td>\n",
       "    </tr>\n",
       "    <tr>\n",
       "      <th>1</th>\n",
       "      <td>28</td>\n",
       "      <td>Ж</td>\n",
       "      <td>Мл. Менеджер</td>\n",
       "      <td>Нет</td>\n",
       "      <td>Менеджер</td>\n",
       "      <td>Мл.</td>\n",
       "    </tr>\n",
       "    <tr>\n",
       "      <th>2</th>\n",
       "      <td>27</td>\n",
       "      <td>М</td>\n",
       "      <td>Мл. Рабочий</td>\n",
       "      <td>Да</td>\n",
       "      <td>Рабочий</td>\n",
       "      <td>Мл.</td>\n",
       "    </tr>\n",
       "    <tr>\n",
       "      <th>3</th>\n",
       "      <td>36</td>\n",
       "      <td>М</td>\n",
       "      <td>Ст. Рабочий</td>\n",
       "      <td>Да</td>\n",
       "      <td>Рабочий</td>\n",
       "      <td>Ст.</td>\n",
       "    </tr>\n",
       "    <tr>\n",
       "      <th>4</th>\n",
       "      <td>50</td>\n",
       "      <td>Ж</td>\n",
       "      <td>Мл. Менеджер</td>\n",
       "      <td>Да</td>\n",
       "      <td>Менеджер</td>\n",
       "      <td>Мл.</td>\n",
       "    </tr>\n",
       "  </tbody>\n",
       "</table>\n",
       "</div>"
      ],
      "text/plain": [
       "   Возраст Пол     Должность Курение Должность_общая Должность_стмл\n",
       "0       55   М  Ст. Менеджер      Да        Менеджер            Ст.\n",
       "1       28   Ж  Мл. Менеджер     Нет        Менеджер            Мл.\n",
       "2       27   М   Мл. Рабочий      Да         Рабочий            Мл.\n",
       "3       36   М   Ст. Рабочий      Да         Рабочий            Ст.\n",
       "4       50   Ж  Мл. Менеджер      Да        Менеджер            Мл."
      ]
     },
     "execution_count": 43,
     "metadata": {},
     "output_type": "execute_result"
    }
   ],
   "source": [
    "df['Должность_стмл'] = df['Должность'].str.split(expand=True)[0]\n",
    "df.head()"
   ]
  },
  {
   "cell_type": "code",
   "execution_count": 47,
   "metadata": {
    "ExecuteTime": {
     "end_time": "2020-04-06T11:31:42.466452Z",
     "start_time": "2020-04-06T11:31:42.435537Z"
    }
   },
   "outputs": [
    {
     "data": {
      "text/html": [
       "<div>\n",
       "<style scoped>\n",
       "    .dataframe tbody tr th:only-of-type {\n",
       "        vertical-align: middle;\n",
       "    }\n",
       "\n",
       "    .dataframe tbody tr th {\n",
       "        vertical-align: top;\n",
       "    }\n",
       "\n",
       "    .dataframe thead th {\n",
       "        text-align: right;\n",
       "    }\n",
       "</style>\n",
       "<table border=\"1\" class=\"dataframe\">\n",
       "  <thead>\n",
       "    <tr style=\"text-align: right;\">\n",
       "      <th>Курение</th>\n",
       "      <th>Да</th>\n",
       "      <th>Нет</th>\n",
       "    </tr>\n",
       "    <tr>\n",
       "      <th>Должность_стмл</th>\n",
       "      <th></th>\n",
       "      <th></th>\n",
       "    </tr>\n",
       "  </thead>\n",
       "  <tbody>\n",
       "    <tr>\n",
       "      <th>Мл.</th>\n",
       "      <td>7</td>\n",
       "      <td>7</td>\n",
       "    </tr>\n",
       "    <tr>\n",
       "      <th>Ст.</th>\n",
       "      <td>9</td>\n",
       "      <td>8</td>\n",
       "    </tr>\n",
       "  </tbody>\n",
       "</table>\n",
       "</div>"
      ],
      "text/plain": [
       "Курение         Да  Нет\n",
       "Должность_стмл         \n",
       "Мл.              7    7\n",
       "Ст.              9    8"
      ]
     },
     "execution_count": 47,
     "metadata": {},
     "output_type": "execute_result"
    }
   ],
   "source": [
    "df_smoke = pd.crosstab(df['Должность_стмл'], df['Курение'])\n",
    "df_smoke"
   ]
  },
  {
   "cell_type": "code",
   "execution_count": 48,
   "metadata": {
    "ExecuteTime": {
     "end_time": "2020-04-06T11:32:07.742314Z",
     "start_time": "2020-04-06T11:32:07.733336Z"
    }
   },
   "outputs": [
    {
     "data": {
      "text/plain": [
       "(0.03921130952380946,\n",
       " 0.8430306226434658,\n",
       " 1,\n",
       " array([[7.22580645, 6.77419355],\n",
       "        [8.77419355, 8.22580645]]))"
      ]
     },
     "execution_count": 48,
     "metadata": {},
     "output_type": "execute_result"
    }
   ],
   "source": [
    "stats.chi2_contingency(df_smoke)"
   ]
  },
  {
   "cell_type": "code",
   "execution_count": 52,
   "metadata": {
    "ExecuteTime": {
     "end_time": "2020-04-06T11:35:30.003542Z",
     "start_time": "2020-04-06T11:35:29.996577Z"
    }
   },
   "outputs": [],
   "source": [
    "a = np.array([\n",
    "    [10, 4],\n",
    "    [10, 7]\n",
    "])\n",
    "b = np.array([\n",
    "    [7, 7], \n",
    "    [8, 9]\n",
    "])"
   ]
  },
  {
   "cell_type": "code",
   "execution_count": 53,
   "metadata": {
    "ExecuteTime": {
     "end_time": "2020-04-06T11:35:32.640902Z",
     "start_time": "2020-04-06T11:35:32.630954Z"
    }
   },
   "outputs": [
    {
     "data": {
      "text/plain": [
       "(0.12447956455309381,\n",
       " 0.7242259260566306,\n",
       " 1,\n",
       " array([[ 9.03225806,  4.96774194],\n",
       "        [10.96774194,  6.03225806]]))"
      ]
     },
     "execution_count": 53,
     "metadata": {},
     "output_type": "execute_result"
    }
   ],
   "source": [
    "stats.chi2_contingency(a)"
   ]
  },
  {
   "cell_type": "code",
   "execution_count": 54,
   "metadata": {
    "ExecuteTime": {
     "end_time": "2020-04-06T11:35:40.573742Z",
     "start_time": "2020-04-06T11:35:40.565765Z"
    }
   },
   "outputs": [
    {
     "data": {
      "text/plain": [
       "(0.03921130952380946,\n",
       " 0.8430306226434658,\n",
       " 1,\n",
       " array([[6.77419355, 7.22580645],\n",
       "        [8.22580645, 8.77419355]]))"
      ]
     },
     "execution_count": 54,
     "metadata": {},
     "output_type": "execute_result"
    }
   ],
   "source": [
    "stats.chi2_contingency(b)"
   ]
  },
  {
   "cell_type": "code",
   "execution_count": 62,
   "metadata": {
    "ExecuteTime": {
     "end_time": "2020-04-06T11:41:10.312307Z",
     "start_time": "2020-04-06T11:41:10.304329Z"
    }
   },
   "outputs": [],
   "source": [
    "a = np.array([\n",
    "    [15.5, 0],\n",
    "    [0, 15.5]\n",
    "])\n",
    "b = np.array([\n",
    "    [0, 14], \n",
    "    [17, 0]\n",
    "])"
   ]
  },
  {
   "cell_type": "code",
   "execution_count": 63,
   "metadata": {
    "ExecuteTime": {
     "end_time": "2020-04-06T11:41:10.932575Z",
     "start_time": "2020-04-06T11:41:10.924594Z"
    }
   },
   "outputs": [
    {
     "data": {
      "text/plain": [
       "(27.129032258064516, 31.0)"
      ]
     },
     "execution_count": 63,
     "metadata": {},
     "output_type": "execute_result"
    }
   ],
   "source": [
    "c, _, _, _ = stats.chi2_contingency(a)\n",
    "n = a.sum()\n",
    "c, n"
   ]
  },
  {
   "cell_type": "code",
   "execution_count": 64,
   "metadata": {
    "ExecuteTime": {
     "end_time": "2020-04-06T11:41:23.649274Z",
     "start_time": "2020-04-06T11:41:23.642292Z"
    }
   },
   "outputs": [
    {
     "data": {
      "text/plain": [
       "0.683157128775741"
      ]
     },
     "execution_count": 64,
     "metadata": {},
     "output_type": "execute_result"
    }
   ],
   "source": [
    "P = np.sqrt(c / (c + n))\n",
    "P"
   ]
  },
  {
   "cell_type": "code",
   "execution_count": 65,
   "metadata": {
    "ExecuteTime": {
     "end_time": "2020-04-06T11:41:24.597642Z",
     "start_time": "2020-04-06T11:41:24.589666Z"
    }
   },
   "outputs": [
    {
     "data": {
      "text/plain": [
       "0.9354838709677419"
      ]
     },
     "execution_count": 65,
     "metadata": {},
     "output_type": "execute_result"
    }
   ],
   "source": [
    "C = np.sqrt(c / (n * min((2 - 1), (2 - 1))))\n",
    "C"
   ]
  },
  {
   "cell_type": "code",
   "execution_count": null,
   "metadata": {},
   "outputs": [],
   "source": []
  },
  {
   "cell_type": "code",
   "execution_count": 57,
   "metadata": {
    "ExecuteTime": {
     "end_time": "2020-04-06T11:37:33.797553Z",
     "start_time": "2020-04-06T11:37:33.788576Z"
    }
   },
   "outputs": [
    {
     "data": {
      "text/plain": [
       "(27.09366834969282,\n",
       " 1.938317612315811e-07,\n",
       " 1,\n",
       " array([[7.67741935, 6.32258065],\n",
       "        [9.32258065, 7.67741935]]))"
      ]
     },
     "execution_count": 57,
     "metadata": {},
     "output_type": "execute_result"
    }
   ],
   "source": [
    "stats.chi2_contingency(b)"
   ]
  },
  {
   "cell_type": "code",
   "execution_count": 51,
   "metadata": {
    "ExecuteTime": {
     "end_time": "2020-04-06T11:33:52.691184Z",
     "start_time": "2020-04-06T11:33:52.370726Z"
    }
   },
   "outputs": [
    {
     "data": {
      "text/plain": [
       "<matplotlib.axes._subplots.AxesSubplot at 0x12207e10>"
      ]
     },
     "execution_count": 51,
     "metadata": {},
     "output_type": "execute_result"
    },
    {
     "data": {
      "image/png": "[encoded data removed]",
      "text/plain": [
       "<Figure size 432x288 with 1 Axes>"
      ]
     },
     "metadata": {},
     "output_type": "display_data"
    }
   ],
   "source": [
    "# Equal-width\n",
    "df['Возраст_cat'] = pd.cut(df['Возраст'], bins=3)\n",
    "sns.countplot(df['Возраст_cat'])"
   ]
  },
  {
   "cell_type": "code",
   "execution_count": 67,
   "metadata": {
    "ExecuteTime": {
     "end_time": "2020-04-06T11:42:51.722237Z",
     "start_time": "2020-04-06T11:42:51.501830Z"
    }
   },
   "outputs": [
    {
     "data": {
      "text/plain": [
       "<matplotlib.axes._subplots.AxesSubplot at 0x133edb70>"
      ]
     },
     "execution_count": 67,
     "metadata": {},
     "output_type": "execute_result"
    },
    {
     "data": {
      "image/png": "[encoded data removed]",
      "text/plain": [
       "<Figure size 432x288 with 1 Axes>"
      ]
     },
     "metadata": {},
     "output_type": "display_data"
    }
   ],
   "source": [
    "# Equal-height\n",
    "df['Возраст_qcat'] = pd.qcut(df['Возраст'], 3)\n",
    "sns.countplot(df['Возраст_qcat'])"
   ]
  },
  {
   "cell_type": "markdown",
   "metadata": {},
   "source": [
    "# Пример"
   ]
  },
  {
   "cell_type": "code",
   "execution_count": 79,
   "metadata": {
    "ExecuteTime": {
     "end_time": "2020-04-06T11:52:04.849058Z",
     "start_time": "2020-04-06T11:52:04.840083Z"
    }
   },
   "outputs": [
    {
     "data": {
      "text/plain": [
       "array([43, 22, 23, 30, 22, 58, 34, 20, 51, 49, 30, 50, 48, 41, 25, 69, 48,\n",
       "       33, 37, 55, 22, 65, 66, 27, 32, 39, 25, 21, 55, 58, 69, 36, 31, 22,\n",
       "       26, 30, 32, 29, 52, 69])"
      ]
     },
     "execution_count": 79,
     "metadata": {},
     "output_type": "execute_result"
    }
   ],
   "source": [
    "age = np.random.randint(20, 70, 40)\n",
    "age"
   ]
  },
  {
   "cell_type": "code",
   "execution_count": 80,
   "metadata": {
    "ExecuteTime": {
     "end_time": "2020-04-06T11:52:06.974236Z",
     "start_time": "2020-04-06T11:52:06.645117Z"
    }
   },
   "outputs": [
    {
     "data": {
      "text/plain": [
       "<matplotlib.axes._subplots.AxesSubplot at 0x12804110>"
      ]
     },
     "execution_count": 80,
     "metadata": {},
     "output_type": "execute_result"
    },
    {
     "data": {
      "image/png": "[encoded data removed]",
      "text/plain": [
       "<Figure size 432x288 with 1 Axes>"
      ]
     },
     "metadata": {},
     "output_type": "display_data"
    }
   ],
   "source": [
    "sns.distplot(age)"
   ]
  },
  {
   "cell_type": "code",
   "execution_count": 81,
   "metadata": {
    "ExecuteTime": {
     "end_time": "2020-04-06T11:52:09.060837Z",
     "start_time": "2020-04-06T11:52:08.663384Z"
    }
   },
   "outputs": [
    {
     "data": {
      "text/plain": [
       "<matplotlib.axes._subplots.AxesSubplot at 0x1596c7d0>"
      ]
     },
     "execution_count": 81,
     "metadata": {},
     "output_type": "execute_result"
    },
    {
     "data": {
      "image/png": "[encoded data removed]",
      "text/plain": [
       "<Figure size 432x288 with 1 Axes>"
      ]
     },
     "metadata": {},
     "output_type": "display_data"
    }
   ],
   "source": [
    "salary = 150_000 - 150*(age - 45)**2 + np.random.normal(0, 10000, size=age.size)\n",
    "sns.distplot(salary)"
   ]
  },
  {
   "cell_type": "code",
   "execution_count": 82,
   "metadata": {
    "ExecuteTime": {
     "end_time": "2020-04-06T11:52:10.949486Z",
     "start_time": "2020-04-06T11:52:10.597412Z"
    }
   },
   "outputs": [
    {
     "data": {
      "text/plain": [
       "<matplotlib.axes._subplots.AxesSubplot at 0x159928d0>"
      ]
     },
     "execution_count": 82,
     "metadata": {},
     "output_type": "execute_result"
    },
    {
     "data": {
      "image/png": "[encoded data removed]",
      "text/plain": [
       "<Figure size 432x288 with 1 Axes>"
      ]
     },
     "metadata": {},
     "output_type": "display_data"
    }
   ],
   "source": [
    "sns.scatterplot(age, salary)"
   ]
  },
  {
   "cell_type": "code",
   "execution_count": 84,
   "metadata": {
    "ExecuteTime": {
     "end_time": "2020-04-06T11:52:42.158850Z",
     "start_time": "2020-04-06T11:52:42.144874Z"
    }
   },
   "outputs": [
    {
     "data": {
      "text/plain": [
       "SpearmanrResult(correlation=0.4549939264140251, pvalue=0.0031796832549959124)"
      ]
     },
     "execution_count": 84,
     "metadata": {},
     "output_type": "execute_result"
    }
   ],
   "source": [
    "stats.spearmanr(age, salary)"
   ]
  },
  {
   "cell_type": "code",
   "execution_count": 114,
   "metadata": {
    "ExecuteTime": {
     "end_time": "2020-04-06T12:06:00.921735Z",
     "start_time": "2020-04-06T12:06:00.913756Z"
    }
   },
   "outputs": [],
   "source": [
    "age_cat = pd.qcut(age, 3)\n",
    "sal_cat = pd.qcut(salary, 2)"
   ]
  },
  {
   "cell_type": "code",
   "execution_count": 115,
   "metadata": {
    "ExecuteTime": {
     "end_time": "2020-04-06T12:06:01.651110Z",
     "start_time": "2020-04-06T12:06:01.641136Z"
    }
   },
   "outputs": [
    {
     "data": {
      "text/plain": [
       "[(30.0, 48.0], (19.999, 30.0], (19.999, 30.0], (19.999, 30.0], (19.999, 30.0], ..., (19.999, 30.0], (30.0, 48.0], (19.999, 30.0], (48.0, 69.0], (48.0, 69.0]]\n",
       "Length: 40\n",
       "Categories (3, interval[float64]): [(19.999, 30.0] < (30.0, 48.0] < (48.0, 69.0]]"
      ]
     },
     "execution_count": 115,
     "metadata": {},
     "output_type": "execute_result"
    }
   ],
   "source": [
    "age_cat"
   ]
  },
  {
   "cell_type": "code",
   "execution_count": 116,
   "metadata": {
    "ExecuteTime": {
     "end_time": "2020-04-06T12:06:02.086563Z",
     "start_time": "2020-04-06T12:06:02.076613Z"
    }
   },
   "outputs": [
    {
     "data": {
      "text/plain": [
       "[(114762.308, 162170.185], (47517.675, 114762.308], (47517.675, 114762.308], (114762.308, 162170.185], (47517.675, 114762.308], ..., (47517.675, 114762.308], (114762.308, 162170.185], (114762.308, 162170.185], (114762.308, 162170.185], (47517.675, 114762.308]]\n",
       "Length: 40\n",
       "Categories (2, interval[float64]): [(47517.675, 114762.308] < (114762.308, 162170.185]]"
      ]
     },
     "execution_count": 116,
     "metadata": {},
     "output_type": "execute_result"
    }
   ],
   "source": [
    "sal_cat"
   ]
  },
  {
   "cell_type": "code",
   "execution_count": 117,
   "metadata": {
    "ExecuteTime": {
     "end_time": "2020-04-06T12:06:03.982155Z",
     "start_time": "2020-04-06T12:06:03.799156Z"
    }
   },
   "outputs": [
    {
     "data": {
      "text/plain": [
       "<matplotlib.axes._subplots.AxesSubplot at 0x1740dd10>"
      ]
     },
     "execution_count": 117,
     "metadata": {},
     "output_type": "execute_result"
    },
    {
     "data": {
      "image/png": "[encoded data removed]",
      "text/plain": [
       "<Figure size 432x288 with 1 Axes>"
      ]
     },
     "metadata": {},
     "output_type": "display_data"
    }
   ],
   "source": [
    "sns.countplot(age_cat)"
   ]
  },
  {
   "cell_type": "code",
   "execution_count": 118,
   "metadata": {
    "ExecuteTime": {
     "end_time": "2020-04-06T12:06:29.055929Z",
     "start_time": "2020-04-06T12:06:28.861451Z"
    }
   },
   "outputs": [
    {
     "data": {
      "text/plain": [
       "<matplotlib.axes._subplots.AxesSubplot at 0x16fc7790>"
      ]
     },
     "execution_count": 118,
     "metadata": {},
     "output_type": "execute_result"
    },
    {
     "data": {
      "image/png": "[encoded data removed]",
      "text/plain": [
       "<Figure size 432x288 with 1 Axes>"
      ]
     },
     "metadata": {},
     "output_type": "display_data"
    }
   ],
   "source": [
    "sns.countplot(sal_cat)"
   ]
  },
  {
   "cell_type": "code",
   "execution_count": 119,
   "metadata": {
    "ExecuteTime": {
     "end_time": "2020-04-06T12:06:44.125068Z",
     "start_time": "2020-04-06T12:06:44.112098Z"
    }
   },
   "outputs": [
    {
     "data": {
      "text/html": [
       "<div>\n",
       "<style scoped>\n",
       "    .dataframe tbody tr th:only-of-type {\n",
       "        vertical-align: middle;\n",
       "    }\n",
       "\n",
       "    .dataframe tbody tr th {\n",
       "        vertical-align: top;\n",
       "    }\n",
       "\n",
       "    .dataframe thead th {\n",
       "        text-align: right;\n",
       "    }\n",
       "</style>\n",
       "<table border=\"1\" class=\"dataframe\">\n",
       "  <thead>\n",
       "    <tr style=\"text-align: right;\">\n",
       "      <th></th>\n",
       "      <th>Age</th>\n",
       "      <th>Salary</th>\n",
       "    </tr>\n",
       "  </thead>\n",
       "  <tbody>\n",
       "    <tr>\n",
       "      <th>0</th>\n",
       "      <td>(30.0, 48.0]</td>\n",
       "      <td>(114762.308, 162170.185]</td>\n",
       "    </tr>\n",
       "    <tr>\n",
       "      <th>1</th>\n",
       "      <td>(19.999, 30.0]</td>\n",
       "      <td>(47517.675, 114762.308]</td>\n",
       "    </tr>\n",
       "    <tr>\n",
       "      <th>2</th>\n",
       "      <td>(19.999, 30.0]</td>\n",
       "      <td>(47517.675, 114762.308]</td>\n",
       "    </tr>\n",
       "    <tr>\n",
       "      <th>3</th>\n",
       "      <td>(19.999, 30.0]</td>\n",
       "      <td>(114762.308, 162170.185]</td>\n",
       "    </tr>\n",
       "    <tr>\n",
       "      <th>4</th>\n",
       "      <td>(19.999, 30.0]</td>\n",
       "      <td>(47517.675, 114762.308]</td>\n",
       "    </tr>\n",
       "  </tbody>\n",
       "</table>\n",
       "</div>"
      ],
      "text/plain": [
       "              Age                    Salary\n",
       "0    (30.0, 48.0]  (114762.308, 162170.185]\n",
       "1  (19.999, 30.0]   (47517.675, 114762.308]\n",
       "2  (19.999, 30.0]   (47517.675, 114762.308]\n",
       "3  (19.999, 30.0]  (114762.308, 162170.185]\n",
       "4  (19.999, 30.0]   (47517.675, 114762.308]"
      ]
     },
     "execution_count": 119,
     "metadata": {},
     "output_type": "execute_result"
    }
   ],
   "source": [
    "df=  pd.DataFrame(np.vstack([age_cat, sal_cat]).T, columns=['Age', 'Salary'])\n",
    "df.head()"
   ]
  },
  {
   "cell_type": "code",
   "execution_count": 120,
   "metadata": {
    "ExecuteTime": {
     "end_time": "2020-04-06T12:06:44.627912Z",
     "start_time": "2020-04-06T12:06:44.596985Z"
    }
   },
   "outputs": [
    {
     "data": {
      "text/plain": [
       "(14.092307692307692,\n",
       " 0.000870751569584294,\n",
       " 2,\n",
       " array([[7.5, 7.5],\n",
       "        [6. , 6. ],\n",
       "        [6.5, 6.5]]))"
      ]
     },
     "execution_count": 120,
     "metadata": {},
     "output_type": "execute_result"
    }
   ],
   "source": [
    "stats.chi2_contingency(pd.crosstab(df['Age'], df['Salary']))"
   ]
  },
  {
   "cell_type": "markdown",
   "metadata": {},
   "source": [
    "# Пример"
   ]
  },
  {
   "cell_type": "code",
   "execution_count": 127,
   "metadata": {
    "ExecuteTime": {
     "end_time": "2020-04-06T13:24:38.181887Z",
     "start_time": "2020-04-06T13:24:38.172911Z"
    }
   },
   "outputs": [
    {
     "data": {
      "text/plain": [
       "array([[165, 185],\n",
       "       [168,  92],\n",
       "       [115, 105],\n",
       "       [ 32,  38]])"
      ]
     },
     "execution_count": 127,
     "metadata": {},
     "output_type": "execute_result"
    }
   ],
   "source": [
    "a = np.array([\n",
    "    [165, 185],\n",
    "    [168, 92],\n",
    "    [115, 105],\n",
    "    [32, 38]\n",
    "])\n",
    "a"
   ]
  },
  {
   "cell_type": "code",
   "execution_count": 128,
   "metadata": {
    "ExecuteTime": {
     "end_time": "2020-04-06T13:24:38.742875Z",
     "start_time": "2020-04-06T13:24:38.734895Z"
    }
   },
   "outputs": [
    {
     "data": {
      "text/plain": [
       "(20.417818788354502, 900)"
      ]
     },
     "execution_count": 128,
     "metadata": {},
     "output_type": "execute_result"
    }
   ],
   "source": [
    "c, _, _, _ = stats.chi2_contingency(a)\n",
    "n = a.sum()\n",
    "c, n"
   ]
  },
  {
   "cell_type": "code",
   "execution_count": 129,
   "metadata": {
    "ExecuteTime": {
     "end_time": "2020-04-06T13:24:48.147721Z",
     "start_time": "2020-04-06T13:24:48.140740Z"
    }
   },
   "outputs": [
    {
     "data": {
      "text/plain": [
       "0.14894027920386896"
      ]
     },
     "execution_count": 129,
     "metadata": {},
     "output_type": "execute_result"
    }
   ],
   "source": [
    "np.sqrt(c / (c + n))"
   ]
  },
  {
   "cell_type": "code",
   "execution_count": 130,
   "metadata": {
    "ExecuteTime": {
     "end_time": "2020-04-06T13:25:08.253653Z",
     "start_time": "2020-04-06T13:25:08.246652Z"
    }
   },
   "outputs": [
    {
     "data": {
      "text/plain": [
       "0.15062026862409286"
      ]
     },
     "execution_count": 130,
     "metadata": {},
     "output_type": "execute_result"
    }
   ],
   "source": [
    "np.sqrt(c / (n * min(1, 3)))"
   ]
  },
  {
   "cell_type": "code",
   "execution_count": null,
   "metadata": {},
   "outputs": [],
   "source": []
  }
 ],
 "metadata": {
  "kernelspec": {
   "display_name": "Python 3",
   "language": "python",
   "name": "python3"
  },
  "language_info": {
   "codemirror_mode": {
    "name": "ipython",
    "version": 3
   },
   "file_extension": ".py",
   "mimetype": "text/x-python",
   "name": "python",
   "nbconvert_exporter": "python",
   "pygments_lexer": "ipython3",
   "version": "3.7.3"
  },
  "toc": {
   "base_numbering": 1,
   "nav_menu": {},
   "number_sections": true,
   "sideBar": true,
   "skip_h1_title": false,
   "title_cell": "Table of Contents",
   "title_sidebar": "Contents",
   "toc_cell": false,
   "toc_position": {},
   "toc_section_display": true,
   "toc_window_display": false
  },
  "varInspector": {
   "cols": {
    "lenName": 16,
    "lenType": 16,
    "lenVar": 40
   },
   "kernels_config": {
    "python": {
     "delete_cmd_postfix": "",
     "delete_cmd_prefix": "del ",
     "library": "var_list.py",
     "varRefreshCmd": "print(var_dic_list())"
    },
    "r": {
     "delete_cmd_postfix": ") ",
     "delete_cmd_prefix": "rm(",
     "library": "var_list.r",
     "varRefreshCmd": "cat(var_dic_list()) "
    }
   },
   "types_to_exclude": [
    "module",
    "function",
    "builtin_function_or_method",
    "instance",
    "_Feature"
   ],
   "window_display": false
  }
 },
 "nbformat": 4,
 "nbformat_minor": 1
}
