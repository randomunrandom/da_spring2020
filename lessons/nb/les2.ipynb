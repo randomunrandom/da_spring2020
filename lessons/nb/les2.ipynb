{
 "cells": [
  {
   "cell_type": "code",
   "execution_count": 2,
   "metadata": {
    "ExecuteTime": {
     "end_time": "2020-02-17T10:31:52.645561Z",
     "start_time": "2020-02-17T10:31:52.637347Z"
    }
   },
   "outputs": [],
   "source": [
    "import numpy as np\n",
    "import pandas as pd\n",
    "import scipy as sp\n",
    "import matplotlib as mpl\n",
    "import matplotlib.pyplot as plt\n",
    "%matplotlib inline\n",
    "import seaborn as sns; sns.set(style='whitegrid')"
   ]
  },
  {
   "cell_type": "code",
   "execution_count": 3,
   "metadata": {
    "ExecuteTime": {
     "end_time": "2020-02-17T10:35:30.947394Z",
     "start_time": "2020-02-17T10:35:30.942426Z"
    }
   },
   "outputs": [],
   "source": [
    "N = 6\n",
    "pop = np.array((8, 3, 1, 11, 4, 7))\n",
    "n = 2"
   ]
  },
  {
   "cell_type": "code",
   "execution_count": 5,
   "metadata": {
    "ExecuteTime": {
     "end_time": "2020-02-17T10:35:56.252881Z",
     "start_time": "2020-02-17T10:35:56.244901Z"
    }
   },
   "outputs": [
    {
     "data": {
      "text/plain": [
       "15.0"
      ]
     },
     "execution_count": 5,
     "metadata": {},
     "output_type": "execute_result"
    }
   ],
   "source": [
    "sp.special.comb(N, n)"
   ]
  },
  {
   "cell_type": "code",
   "execution_count": 6,
   "metadata": {
    "ExecuteTime": {
     "end_time": "2020-02-17T10:36:15.143335Z",
     "start_time": "2020-02-17T10:36:15.136347Z"
    }
   },
   "outputs": [
    {
     "data": {
      "text/plain": [
       "5.666666666666667"
      ]
     },
     "execution_count": 6,
     "metadata": {},
     "output_type": "execute_result"
    }
   ],
   "source": [
    "Y_mean = pop.mean()\n",
    "Y_mean"
   ]
  },
  {
   "cell_type": "code",
   "execution_count": 7,
   "metadata": {
    "ExecuteTime": {
     "end_time": "2020-02-17T10:36:33.105032Z",
     "start_time": "2020-02-17T10:36:33.101043Z"
    }
   },
   "outputs": [],
   "source": [
    "from itertools import combinations"
   ]
  },
  {
   "cell_type": "code",
   "execution_count": 10,
   "metadata": {
    "ExecuteTime": {
     "end_time": "2020-02-17T10:38:38.451619Z",
     "start_time": "2020-02-17T10:38:38.439629Z"
    }
   },
   "outputs": [
    {
     "name": "stdout",
     "output_type": "stream",
     "text": [
      "(8, 3) 5.5\n",
      "(8, 1) 4.5\n",
      "(8, 11) 9.5\n",
      "(8, 4) 6.0\n",
      "(8, 7) 7.5\n",
      "(3, 1) 2.0\n",
      "(3, 11) 7.0\n",
      "(3, 4) 3.5\n",
      "(3, 7) 5.0\n",
      "(1, 11) 6.0\n",
      "(1, 4) 2.5\n",
      "(1, 7) 4.0\n",
      "(11, 4) 7.5\n",
      "(11, 7) 9.0\n",
      "(4, 7) 5.5\n"
     ]
    },
    {
     "data": {
      "text/plain": [
       "5.666666666666667"
      ]
     },
     "execution_count": 10,
     "metadata": {},
     "output_type": "execute_result"
    }
   ],
   "source": [
    "means = []\n",
    "for sample in combinations(pop, n):\n",
    "    sample_mean = np.array(sample).mean()\n",
    "    means.append(sample_mean)\n",
    "    print(sample, sample_mean)\n",
    "np.array(means).mean()"
   ]
  },
  {
   "cell_type": "markdown",
   "metadata": {},
   "source": [
    "# variance"
   ]
  },
  {
   "cell_type": "code",
   "execution_count": 11,
   "metadata": {
    "ExecuteTime": {
     "end_time": "2020-02-17T10:40:27.948011Z",
     "start_time": "2020-02-17T10:40:27.941059Z"
    }
   },
   "outputs": [
    {
     "data": {
      "text/plain": [
       "3.34995854037363"
      ]
     },
     "execution_count": 11,
     "metadata": {},
     "output_type": "execute_result"
    }
   ],
   "source": [
    "pop.std()"
   ]
  },
  {
   "cell_type": "code",
   "execution_count": 12,
   "metadata": {
    "ExecuteTime": {
     "end_time": "2020-02-17T10:41:52.641988Z",
     "start_time": "2020-02-17T10:41:52.634007Z"
    }
   },
   "outputs": [
    {
     "data": {
      "text/plain": [
       "11.222222222222221"
      ]
     },
     "execution_count": 12,
     "metadata": {},
     "output_type": "execute_result"
    }
   ],
   "source": [
    "pop.var()"
   ]
  },
  {
   "cell_type": "markdown",
   "metadata": {},
   "source": [
    "# Numpy magic"
   ]
  },
  {
   "cell_type": "code",
   "execution_count": 20,
   "metadata": {
    "ExecuteTime": {
     "end_time": "2020-02-17T10:46:31.506929Z",
     "start_time": "2020-02-17T10:46:31.499934Z"
    }
   },
   "outputs": [
    {
     "data": {
      "text/plain": [
       "array([ 8,  3,  1, 11,  4,  7])"
      ]
     },
     "execution_count": 20,
     "metadata": {},
     "output_type": "execute_result"
    }
   ],
   "source": [
    "pop"
   ]
  },
  {
   "cell_type": "code",
   "execution_count": 21,
   "metadata": {
    "ExecuteTime": {
     "end_time": "2020-02-17T10:46:36.648397Z",
     "start_time": "2020-02-17T10:46:36.640894Z"
    }
   },
   "outputs": [
    {
     "data": {
      "text/plain": [
       "array([ 2.33333333, -2.66666667, -4.66666667,  5.33333333, -1.66666667,\n",
       "        1.33333333])"
      ]
     },
     "execution_count": 21,
     "metadata": {},
     "output_type": "execute_result"
    }
   ],
   "source": [
    "pop - pop.mean()"
   ]
  },
  {
   "cell_type": "code",
   "execution_count": 22,
   "metadata": {
    "ExecuteTime": {
     "end_time": "2020-02-17T10:46:45.972544Z",
     "start_time": "2020-02-17T10:46:45.964567Z"
    }
   },
   "outputs": [
    {
     "data": {
      "text/plain": [
       "array([ 5.44444444,  7.11111111, 21.77777778, 28.44444444,  2.77777778,\n",
       "        1.77777778])"
      ]
     },
     "execution_count": 22,
     "metadata": {},
     "output_type": "execute_result"
    }
   ],
   "source": [
    "(pop - pop.mean())**2"
   ]
  },
  {
   "cell_type": "code",
   "execution_count": 23,
   "metadata": {
    "ExecuteTime": {
     "end_time": "2020-02-17T10:47:02.780338Z",
     "start_time": "2020-02-17T10:47:02.773349Z"
    }
   },
   "outputs": [
    {
     "data": {
      "text/plain": [
       "67.33333333333333"
      ]
     },
     "execution_count": 23,
     "metadata": {},
     "output_type": "execute_result"
    }
   ],
   "source": [
    "((pop - pop.mean())**2).sum()"
   ]
  },
  {
   "cell_type": "markdown",
   "metadata": {},
   "source": [
    "# ok going back"
   ]
  },
  {
   "cell_type": "code",
   "execution_count": 19,
   "metadata": {
    "ExecuteTime": {
     "end_time": "2020-02-17T10:45:56.857489Z",
     "start_time": "2020-02-17T10:45:56.848514Z"
    }
   },
   "outputs": [
    {
     "data": {
      "text/plain": [
       "11.222222222222221"
      ]
     },
     "execution_count": 19,
     "metadata": {},
     "output_type": "execute_result"
    }
   ],
   "source": [
    "var = ((pop - pop.mean())**2).sum()/pop.size\n",
    "var"
   ]
  },
  {
   "cell_type": "code",
   "execution_count": 24,
   "metadata": {
    "ExecuteTime": {
     "end_time": "2020-02-17T10:47:32.757191Z",
     "start_time": "2020-02-17T10:47:32.750212Z"
    }
   },
   "outputs": [
    {
     "data": {
      "text/plain": [
       "11.222222222222221"
      ]
     },
     "execution_count": 24,
     "metadata": {},
     "output_type": "execute_result"
    }
   ],
   "source": [
    "pop.var()"
   ]
  },
  {
   "cell_type": "code",
   "execution_count": 26,
   "metadata": {
    "ExecuteTime": {
     "end_time": "2020-02-17T10:48:49.461572Z",
     "start_time": "2020-02-17T10:48:49.454598Z"
    }
   },
   "outputs": [
    {
     "data": {
      "text/plain": [
       "13.466666666666665"
      ]
     },
     "execution_count": 26,
     "metadata": {},
     "output_type": "execute_result"
    }
   ],
   "source": [
    "s2 = pop.size * pop.var() / (pop.size - 1)\n",
    "s2"
   ]
  },
  {
   "cell_type": "code",
   "execution_count": 27,
   "metadata": {
    "ExecuteTime": {
     "end_time": "2020-02-17T10:49:16.775277Z",
     "start_time": "2020-02-17T10:49:16.767288Z"
    }
   },
   "outputs": [
    {
     "data": {
      "text/plain": [
       "13.466666666666665"
      ]
     },
     "execution_count": 27,
     "metadata": {},
     "output_type": "execute_result"
    }
   ],
   "source": [
    "def svar(arr):\n",
    "    return arr.size * arr.var() / (arr.size - 1)\n",
    "svar(pop)"
   ]
  },
  {
   "cell_type": "markdown",
   "metadata": {},
   "source": [
    "## E(s2) = S2"
   ]
  },
  {
   "cell_type": "code",
   "execution_count": 28,
   "metadata": {
    "ExecuteTime": {
     "end_time": "2020-02-17T10:50:06.612982Z",
     "start_time": "2020-02-17T10:50:06.605982Z"
    }
   },
   "outputs": [
    {
     "data": {
      "text/plain": [
       "13.466666666666665"
      ]
     },
     "execution_count": 28,
     "metadata": {},
     "output_type": "execute_result"
    }
   ],
   "source": [
    "S2 = svar(pop)\n",
    "S2"
   ]
  },
  {
   "cell_type": "code",
   "execution_count": 31,
   "metadata": {
    "ExecuteTime": {
     "end_time": "2020-02-17T10:51:50.262728Z",
     "start_time": "2020-02-17T10:51:50.247254Z"
    }
   },
   "outputs": [
    {
     "name": "stdout",
     "output_type": "stream",
     "text": [
      "(8, 3) 12.5\n",
      "(8, 1) 24.5\n",
      "(8, 11) 4.5\n",
      "(8, 4) 8.0\n",
      "(8, 7) 0.5\n",
      "(3, 1) 2.0\n",
      "(3, 11) 32.0\n",
      "(3, 4) 0.5\n",
      "(3, 7) 8.0\n",
      "(1, 11) 50.0\n",
      "(1, 4) 4.5\n",
      "(1, 7) 18.0\n",
      "(11, 4) 24.5\n",
      "(11, 7) 8.0\n",
      "(4, 7) 4.5\n"
     ]
    },
    {
     "data": {
      "text/plain": [
       "13.466666666666667"
      ]
     },
     "execution_count": 31,
     "metadata": {},
     "output_type": "execute_result"
    }
   ],
   "source": [
    "svars = []\n",
    "for sample in combinations(pop, n):\n",
    "    sample_svar = svar(np.array(sample))\n",
    "    svars.append(sample_svar)\n",
    "    print(sample, sample_svar)\n",
    "np.array(svars).mean()"
   ]
  },
  {
   "cell_type": "markdown",
   "metadata": {},
   "source": [
    "### test"
   ]
  },
  {
   "cell_type": "code",
   "execution_count": 32,
   "metadata": {
    "ExecuteTime": {
     "end_time": "2020-02-17T10:52:54.889544Z",
     "start_time": "2020-02-17T10:52:54.876543Z"
    }
   },
   "outputs": [
    {
     "name": "stdout",
     "output_type": "stream",
     "text": [
      "11.222222222222221\n",
      "(8, 3) 6.25\n",
      "(8, 1) 12.25\n",
      "(8, 11) 2.25\n",
      "(8, 4) 4.0\n",
      "(8, 7) 0.25\n",
      "(3, 1) 1.0\n",
      "(3, 11) 16.0\n",
      "(3, 4) 0.25\n",
      "(3, 7) 4.0\n",
      "(1, 11) 25.0\n",
      "(1, 4) 2.25\n",
      "(1, 7) 9.0\n",
      "(11, 4) 12.25\n",
      "(11, 7) 4.0\n",
      "(4, 7) 2.25\n"
     ]
    },
    {
     "data": {
      "text/plain": [
       "6.733333333333333"
      ]
     },
     "execution_count": 32,
     "metadata": {},
     "output_type": "execute_result"
    }
   ],
   "source": [
    "vars_ = []\n",
    "print(pop.var())\n",
    "for sample in combinations(pop, n):\n",
    "    sample_vars_ = np.array(sample).var()\n",
    "    vars_.append(sample_vars_)\n",
    "    print(sample, sample_vars_)\n",
    "np.array(vars_).mean()"
   ]
  },
  {
   "cell_type": "markdown",
   "metadata": {},
   "source": [
    "# Confidence intervals"
   ]
  },
  {
   "cell_type": "markdown",
   "metadata": {},
   "source": [
    "## Simple example"
   ]
  },
  {
   "cell_type": "code",
   "execution_count": 33,
   "metadata": {
    "ExecuteTime": {
     "end_time": "2020-02-17T11:00:28.590088Z",
     "start_time": "2020-02-17T11:00:28.581107Z"
    }
   },
   "outputs": [
    {
     "data": {
      "text/plain": [
       "array([104.84521299,  92.17629305,  92.07166661, 107.32024853,\n",
       "       102.45437234, 103.74618465,  99.6961913 , 103.90057932,\n",
       "        96.42961637, 100.07688298, 103.55905105,  87.14728364,\n",
       "        96.27384037, 104.73961087,  89.08157635, 101.61617943,\n",
       "        94.85947194, 111.19016076,  93.35107989,  98.59795116,\n",
       "        89.10514727,  86.36175079,  89.3889882 , 110.89180226,\n",
       "        86.41165131, 111.13943769, 107.7188999 ,  91.21205002,\n",
       "       110.76647973,  84.13116046])"
      ]
     },
     "execution_count": 33,
     "metadata": {},
     "output_type": "execute_result"
    }
   ],
   "source": [
    "mu = 100\n",
    "sigma = 10\n",
    "\n",
    "n = 30\n",
    "y = np.random.normal(mu, sigma, n)\n",
    "y"
   ]
  },
  {
   "cell_type": "code",
   "execution_count": 34,
   "metadata": {
    "ExecuteTime": {
     "end_time": "2020-02-17T11:01:01.770762Z",
     "start_time": "2020-02-17T11:01:01.766767Z"
    }
   },
   "outputs": [
    {
     "data": {
      "text/plain": [
       "98.34202737413453"
      ]
     },
     "execution_count": 34,
     "metadata": {},
     "output_type": "execute_result"
    }
   ],
   "source": [
    "y_mean = y.mean()\n",
    "y_mean"
   ]
  },
  {
   "cell_type": "code",
   "execution_count": 35,
   "metadata": {
    "ExecuteTime": {
     "end_time": "2020-02-17T11:01:42.810020Z",
     "start_time": "2020-02-17T11:01:42.803512Z"
    }
   },
   "outputs": [
    {
     "data": {
      "text/plain": [
       "70.68394730396314"
      ]
     },
     "execution_count": 35,
     "metadata": {},
     "output_type": "execute_result"
    }
   ],
   "source": [
    "ys2 = svar(y)\n",
    "ys2"
   ]
  },
  {
   "cell_type": "code",
   "execution_count": 36,
   "metadata": {
    "ExecuteTime": {
     "end_time": "2020-02-17T11:02:04.366188Z",
     "start_time": "2020-02-17T11:02:04.360188Z"
    }
   },
   "outputs": [
    {
     "data": {
      "text/plain": [
       "8.407374578544905"
      ]
     },
     "execution_count": 36,
     "metadata": {},
     "output_type": "execute_result"
    }
   ],
   "source": [
    "ys = np.sqrt(ys2)\n",
    "ys"
   ]
  },
  {
   "cell_type": "code",
   "execution_count": 37,
   "metadata": {
    "ExecuteTime": {
     "end_time": "2020-02-17T11:03:02.415603Z",
     "start_time": "2020-02-17T11:03:02.411589Z"
    }
   },
   "outputs": [],
   "source": [
    "N = 10000"
   ]
  },
  {
   "cell_type": "code",
   "execution_count": 38,
   "metadata": {
    "ExecuteTime": {
     "end_time": "2020-02-17T11:03:16.611318Z",
     "start_time": "2020-02-17T11:03:16.604796Z"
    }
   },
   "outputs": [
    {
     "data": {
      "text/plain": [
       "0.003"
      ]
     },
     "execution_count": 38,
     "metadata": {},
     "output_type": "execute_result"
    }
   ],
   "source": [
    "# Доля отбора\n",
    "f = n / N\n",
    "f"
   ]
  },
  {
   "cell_type": "code",
   "execution_count": 39,
   "metadata": {
    "ExecuteTime": {
     "end_time": "2020-02-17T11:04:20.138126Z",
     "start_time": "2020-02-17T11:04:20.130149Z"
    }
   },
   "outputs": [
    {
     "data": {
      "text/plain": [
       "1.5326653848992529"
      ]
     },
     "execution_count": 39,
     "metadata": {},
     "output_type": "execute_result"
    }
   ],
   "source": [
    "y_mean_std = ys * np.sqrt(1 - f) / np.sqrt(n)\n",
    "y_mean_std"
   ]
  },
  {
   "cell_type": "markdown",
   "metadata": {},
   "source": [
    "y_mean +- t * y_mean_std"
   ]
  },
  {
   "cell_type": "code",
   "execution_count": 40,
   "metadata": {
    "ExecuteTime": {
     "end_time": "2020-02-17T11:09:11.975493Z",
     "start_time": "2020-02-17T11:09:11.966517Z"
    }
   },
   "outputs": [
    {
     "name": "stdout",
     "output_type": "stream",
     "text": [
      "-1.9599639845400545\n",
      "1.959963984540054\n"
     ]
    }
   ],
   "source": [
    "alpha = 0.95\n",
    "\n",
    "print(sp.stats.norm.ppf(0.025))\n",
    "print(sp.stats.norm.ppf(0.975))"
   ]
  },
  {
   "cell_type": "code",
   "execution_count": 43,
   "metadata": {
    "ExecuteTime": {
     "end_time": "2020-02-17T11:10:31.486115Z",
     "start_time": "2020-02-17T11:10:31.476141Z"
    }
   },
   "outputs": [
    {
     "name": "stdout",
     "output_type": "stream",
     "text": [
      "0.9772498680518208\n",
      "0.022750131948179195\n",
      "0.9544997361036416\n"
     ]
    }
   ],
   "source": [
    "print(sp.stats.norm.cdf(2))\n",
    "print(sp.stats.norm.cdf(-2))\n",
    "print(sp.stats.norm.cdf(2) - sp.stats.norm.cdf(-2))"
   ]
  },
  {
   "cell_type": "code",
   "execution_count": 44,
   "metadata": {
    "ExecuteTime": {
     "end_time": "2020-02-17T11:11:07.865226Z",
     "start_time": "2020-02-17T11:11:07.856735Z"
    }
   },
   "outputs": [
    {
     "data": {
      "text/plain": [
       "1.959963984540054"
      ]
     },
     "execution_count": 44,
     "metadata": {},
     "output_type": "execute_result"
    }
   ],
   "source": [
    "sp.stats.norm.ppf((1 + alpha) / 2)"
   ]
  },
  {
   "cell_type": "code",
   "execution_count": 45,
   "metadata": {
    "ExecuteTime": {
     "end_time": "2020-02-17T11:11:12.926158Z",
     "start_time": "2020-02-17T11:11:12.918143Z"
    }
   },
   "outputs": [
    {
     "data": {
      "text/plain": [
       "-1.959963984540054"
      ]
     },
     "execution_count": 45,
     "metadata": {},
     "output_type": "execute_result"
    }
   ],
   "source": [
    "sp.stats.norm.ppf((1 - alpha) / 2)"
   ]
  },
  {
   "cell_type": "code",
   "execution_count": 46,
   "metadata": {
    "ExecuteTime": {
     "end_time": "2020-02-17T11:11:33.115643Z",
     "start_time": "2020-02-17T11:11:33.107671Z"
    }
   },
   "outputs": [
    {
     "data": {
      "text/plain": [
       "1.959963984540054"
      ]
     },
     "execution_count": 46,
     "metadata": {},
     "output_type": "execute_result"
    }
   ],
   "source": [
    "t = sp.stats.norm.ppf((1 + alpha) / 2)\n",
    "t"
   ]
  },
  {
   "cell_type": "code",
   "execution_count": 47,
   "metadata": {
    "ExecuteTime": {
     "end_time": "2020-02-17T11:12:07.186043Z",
     "start_time": "2020-02-17T11:12:07.182051Z"
    }
   },
   "outputs": [],
   "source": [
    "ci_left = y_mean - t * y_mean_std\n",
    "ci_right = y_mean + t * y_mean_std"
   ]
  },
  {
   "cell_type": "code",
   "execution_count": 48,
   "metadata": {
    "ExecuteTime": {
     "end_time": "2020-02-17T11:12:12.812129Z",
     "start_time": "2020-02-17T11:12:12.805163Z"
    }
   },
   "outputs": [
    {
     "data": {
      "text/plain": [
       "(95.33805841938077, 101.34599632888829)"
      ]
     },
     "execution_count": 48,
     "metadata": {},
     "output_type": "execute_result"
    }
   ],
   "source": [
    "ci_left, ci_right"
   ]
  },
  {
   "cell_type": "code",
   "execution_count": 54,
   "metadata": {
    "ExecuteTime": {
     "end_time": "2020-02-17T11:14:52.433746Z",
     "start_time": "2020-02-17T11:14:52.424755Z"
    }
   },
   "outputs": [
    {
     "data": {
      "text/plain": [
       "(95.82101715688002, 100.86303759138904)"
      ]
     },
     "execution_count": 54,
     "metadata": {},
     "output_type": "execute_result"
    }
   ],
   "source": [
    "alpha = 0.9\n",
    "t = sp.stats.norm.ppf((1 + alpha) / 2)\n",
    "ci_left = y_mean - t * y_mean_std\n",
    "ci_right = y_mean + t * y_mean_std\n",
    "ci_left, ci_right"
   ]
  },
  {
   "cell_type": "markdown",
   "metadata": {},
   "source": [
    "## Complex example"
   ]
  },
  {
   "cell_type": "code",
   "execution_count": 56,
   "metadata": {
    "ExecuteTime": {
     "end_time": "2020-02-17T11:18:22.311519Z",
     "start_time": "2020-02-17T11:18:22.297557Z"
    }
   },
   "outputs": [
    {
     "data": {
      "text/plain": [
       "[(42, 23),\n",
       " (41, 4),\n",
       " (36, 1),\n",
       " (32, 1),\n",
       " (29, 1),\n",
       " (27, 2),\n",
       " (23, 1),\n",
       " (19, 1),\n",
       " (16, 2),\n",
       " (15, 2),\n",
       " (14, 1),\n",
       " (11, 1),\n",
       " (10, 1),\n",
       " (9, 1),\n",
       " (7, 1),\n",
       " (6, 3),\n",
       " (5, 2),\n",
       " (4, 1),\n",
       " (3, 1)]"
      ]
     },
     "execution_count": 56,
     "metadata": {},
     "output_type": "execute_result"
    }
   ],
   "source": [
    "N = 676\n",
    "n = 50\n",
    "sample = []\n",
    "for i in [(42, 23), (41, 4), (36, 1), (32, 1), (29, 1), (27, 2), (23, 1), (19, 1), (16, 2), (15, 2), (14, 1), (11, 1), (10, 1), (9, 1), (7, 1), (6, 3), (5, 2), (4, 1), (3, 1)]:\n",
    "    sample.append(i)\n",
    "\n",
    "sample"
   ]
  },
  {
   "cell_type": "code",
   "execution_count": 60,
   "metadata": {
    "ExecuteTime": {
     "end_time": "2020-02-17T11:19:20.402568Z",
     "start_time": "2020-02-17T11:19:20.395587Z"
    }
   },
   "outputs": [
    {
     "data": {
      "text/plain": [
       "array([[42, 23],\n",
       "       [41,  4],\n",
       "       [36,  1],\n",
       "       [32,  1],\n",
       "       [29,  1],\n",
       "       [27,  2],\n",
       "       [23,  1],\n",
       "       [19,  1],\n",
       "       [16,  2],\n",
       "       [15,  2],\n",
       "       [14,  1],\n",
       "       [11,  1],\n",
       "       [10,  1],\n",
       "       [ 9,  1],\n",
       "       [ 7,  1],\n",
       "       [ 6,  3],\n",
       "       [ 5,  2],\n",
       "       [ 4,  1],\n",
       "       [ 3,  1]])"
      ]
     },
     "execution_count": 60,
     "metadata": {},
     "output_type": "execute_result"
    }
   ],
   "source": [
    "samp = np.array(sample)\n",
    "samp"
   ]
  },
  {
   "cell_type": "code",
   "execution_count": 63,
   "metadata": {
    "ExecuteTime": {
     "end_time": "2020-02-17T11:20:44.228293Z",
     "start_time": "2020-02-17T11:20:44.222298Z"
    }
   },
   "outputs": [
    {
     "data": {
      "text/plain": [
       "1471"
      ]
     },
     "execution_count": 63,
     "metadata": {},
     "output_type": "execute_result"
    }
   ],
   "source": [
    "y_total = (samp[:, 0] * samp[:, 1]).sum()\n",
    "y_total"
   ]
  },
  {
   "cell_type": "code",
   "execution_count": 64,
   "metadata": {
    "ExecuteTime": {
     "end_time": "2020-02-17T11:20:55.538210Z",
     "start_time": "2020-02-17T11:20:55.532226Z"
    }
   },
   "outputs": [
    {
     "data": {
      "text/plain": [
       "29.42"
      ]
     },
     "execution_count": 64,
     "metadata": {},
     "output_type": "execute_result"
    }
   ],
   "source": [
    "y_mean = y_total  / n\n",
    "y_mean"
   ]
  },
  {
   "cell_type": "code",
   "execution_count": 65,
   "metadata": {
    "ExecuteTime": {
     "end_time": "2020-02-17T11:26:57.750536Z",
     "start_time": "2020-02-17T11:26:57.743016Z"
    }
   },
   "outputs": [
    {
     "data": {
      "text/plain": [
       "54497"
      ]
     },
     "execution_count": 65,
     "metadata": {},
     "output_type": "execute_result"
    }
   ],
   "source": [
    "y_squared = ((samp[:, 0] ** 2) * samp[:, 1]).sum()\n",
    "y_squared\n"
   ]
  },
  {
   "cell_type": "code",
   "execution_count": 66,
   "metadata": {
    "ExecuteTime": {
     "end_time": "2020-02-17T11:28:09.164064Z",
     "start_time": "2020-02-17T11:28:09.157090Z"
    }
   },
   "outputs": [
    {
     "data": {
      "text/plain": [
       "228.98326530612246"
      ]
     },
     "execution_count": 66,
     "metadata": {},
     "output_type": "execute_result"
    }
   ],
   "source": [
    "y_s2 = (y_squared - (y_total ** 2) / n) / (n - 1)\n",
    "y_s2"
   ]
  },
  {
   "cell_type": "code",
   "execution_count": 67,
   "metadata": {
    "ExecuteTime": {
     "end_time": "2020-02-17T11:28:26.885469Z",
     "start_time": "2020-02-17T11:28:26.879486Z"
    }
   },
   "outputs": [
    {
     "data": {
      "text/plain": [
       "15.132193010470177"
      ]
     },
     "execution_count": 67,
     "metadata": {},
     "output_type": "execute_result"
    }
   ],
   "source": [
    "y_s = np.sqrt(y_s2)\n",
    "y_s"
   ]
  },
  {
   "cell_type": "code",
   "execution_count": 68,
   "metadata": {
    "ExecuteTime": {
     "end_time": "2020-02-17T11:28:42.510874Z",
     "start_time": "2020-02-17T11:28:42.504888Z"
    }
   },
   "outputs": [
    {
     "data": {
      "text/plain": [
       "0.07396449704142012"
      ]
     },
     "execution_count": 68,
     "metadata": {},
     "output_type": "execute_result"
    }
   ],
   "source": [
    "f = n / N\n",
    "f"
   ]
  },
  {
   "cell_type": "code",
   "execution_count": 70,
   "metadata": {
    "ExecuteTime": {
     "end_time": "2020-02-17T11:30:03.601197Z",
     "start_time": "2020-02-17T11:30:03.595214Z"
    }
   },
   "outputs": [
    {
     "data": {
      "text/plain": [
       "2.0593524868601443"
      ]
     },
     "execution_count": 70,
     "metadata": {},
     "output_type": "execute_result"
    }
   ],
   "source": [
    "y_mean_std = y_s * np.sqrt(1 - f) / np.sqrt(n)\n",
    "y_mean_std"
   ]
  },
  {
   "cell_type": "code",
   "execution_count": 72,
   "metadata": {
    "ExecuteTime": {
     "end_time": "2020-02-17T11:33:14.781010Z",
     "start_time": "2020-02-17T11:33:14.772033Z"
    }
   },
   "outputs": [
    {
     "data": {
      "text/plain": [
       "(18103.843511204403, 21671.9964887956)"
      ]
     },
     "execution_count": 72,
     "metadata": {},
     "output_type": "execute_result"
    }
   ],
   "source": [
    "alpha = 0.8\n",
    "t = sp.stats.norm.ppf((1 + alpha) / 2)\n",
    "\n",
    "ci_left = N * y_mean - t * y_mean_std * N\n",
    "ci_right = N * y_mean + t * y_mean_std * N\n",
    "\n",
    "ci_left, ci_right"
   ]
  },
  {
   "cell_type": "markdown",
   "metadata": {},
   "source": [
    "# 2.5"
   ]
  },
  {
   "cell_type": "code",
   "execution_count": 73,
   "metadata": {
    "ExecuteTime": {
     "end_time": "2020-02-17T11:37:18.712499Z",
     "start_time": "2020-02-17T11:37:18.707513Z"
    }
   },
   "outputs": [],
   "source": [
    "y_total = 2138\n",
    "y_squared = 131_682"
   ]
  },
  {
   "cell_type": "code",
   "execution_count": 74,
   "metadata": {
    "ExecuteTime": {
     "end_time": "2020-02-17T11:37:49.638059Z",
     "start_time": "2020-02-17T11:37:49.632074Z"
    }
   },
   "outputs": [
    {
     "data": {
      "text/plain": [
       "131682"
      ]
     },
     "execution_count": 74,
     "metadata": {},
     "output_type": "execute_result"
    }
   ],
   "source": [
    "y_squared"
   ]
  },
  {
   "cell_type": "code",
   "execution_count": 75,
   "metadata": {
    "ExecuteTime": {
     "end_time": "2020-02-17T11:38:29.440725Z",
     "start_time": "2020-02-17T11:38:29.435738Z"
    }
   },
   "outputs": [],
   "source": [
    "N = 36"
   ]
  },
  {
   "cell_type": "code",
   "execution_count": 76,
   "metadata": {
    "ExecuteTime": {
     "end_time": "2020-02-17T11:45:13.182832Z",
     "start_time": "2020-02-17T11:45:13.178529Z"
    }
   },
   "outputs": [],
   "source": [
    "y_mean = y_total / N"
   ]
  },
  {
   "cell_type": "code",
   "execution_count": 77,
   "metadata": {
    "ExecuteTime": {
     "end_time": "2020-02-17T11:45:20.714549Z",
     "start_time": "2020-02-17T11:45:20.708556Z"
    }
   },
   "outputs": [
    {
     "data": {
      "text/plain": [
       "59.388888888888886"
      ]
     },
     "execution_count": 77,
     "metadata": {},
     "output_type": "execute_result"
    }
   ],
   "source": [
    "y_mean"
   ]
  },
  {
   "cell_type": "code",
   "execution_count": 78,
   "metadata": {
    "ExecuteTime": {
     "end_time": "2020-02-17T11:48:28.622890Z",
     "start_time": "2020-02-17T11:48:28.615487Z"
    }
   },
   "outputs": [
    {
     "data": {
      "text/plain": [
       "1.959963984540054"
      ]
     },
     "execution_count": 78,
     "metadata": {},
     "output_type": "execute_result"
    }
   ],
   "source": [
    "alpha = 0.95\n",
    "t = sp.stats.norm.ppf((1 + alpha) / 2)\n",
    "t"
   ]
  },
  {
   "cell_type": "code",
   "execution_count": 79,
   "metadata": {
    "ExecuteTime": {
     "end_time": "2020-02-17T11:50:11.273395Z",
     "start_time": "2020-02-17T11:50:11.265414Z"
    }
   },
   "outputs": [
    {
     "data": {
      "text/plain": [
       "134.53015873015892"
      ]
     },
     "execution_count": 79,
     "metadata": {},
     "output_type": "execute_result"
    }
   ],
   "source": [
    "y_s2 = (y_squared - (y_total ** 2) / N) / (N - 1)\n",
    "y_s2"
   ]
  },
  {
   "cell_type": "code",
   "execution_count": 80,
   "metadata": {
    "ExecuteTime": {
     "end_time": "2020-02-17T11:51:16.018665Z",
     "start_time": "2020-02-17T11:51:16.015038Z"
    }
   },
   "outputs": [],
   "source": [
    "y_s = np.sqrt(y_s2)"
   ]
  },
  {
   "cell_type": "code",
   "execution_count": 81,
   "metadata": {
    "ExecuteTime": {
     "end_time": "2020-02-17T11:51:23.263827Z",
     "start_time": "2020-02-17T11:51:23.258767Z"
    }
   },
   "outputs": [
    {
     "data": {
      "text/plain": [
       "11.598713667047692"
      ]
     },
     "execution_count": 81,
     "metadata": {},
     "output_type": "execute_result"
    }
   ],
   "source": [
    "y_s"
   ]
  },
  {
   "cell_type": "code",
   "execution_count": 86,
   "metadata": {
    "ExecuteTime": {
     "end_time": "2020-02-17T12:04:29.771650Z",
     "start_time": "2020-02-17T12:04:29.764109Z"
    }
   },
   "outputs": [
    {
     "data": {
      "text/plain": [
       "11.428514060688414"
      ]
     },
     "execution_count": 86,
     "metadata": {},
     "output_type": "execute_result"
    }
   ],
   "source": [
    "n = ((N**2)*(t**2)*y_s2)/((t**2)*y_s2*N+(200)**2)\n",
    "n"
   ]
  },
  {
   "cell_type": "code",
   "execution_count": null,
   "metadata": {},
   "outputs": [],
   "source": []
  },
  {
   "cell_type": "code",
   "execution_count": 88,
   "metadata": {
    "ExecuteTime": {
     "end_time": "2020-02-17T13:17:47.896959Z",
     "start_time": "2020-02-17T13:17:47.890481Z"
    }
   },
   "outputs": [
    {
     "data": {
      "text/plain": [
       "1.959963984540054"
      ]
     },
     "execution_count": 88,
     "metadata": {},
     "output_type": "execute_result"
    }
   ],
   "source": [
    "t"
   ]
  },
  {
   "cell_type": "code",
   "execution_count": 90,
   "metadata": {
    "ExecuteTime": {
     "end_time": "2020-02-17T13:18:49.381996Z",
     "start_time": "2020-02-17T13:18:49.377839Z"
    }
   },
   "outputs": [],
   "source": [
    "n =100\n",
    "a = 9\n",
    "p = 0.09\n",
    "q = 1-p\n",
    "\n",
    "f = 0.2\n",
    "\n",
    "Rr = 0.046\n",
    "Rl = 0.157"
   ]
  },
  {
   "cell_type": "code",
   "execution_count": 92,
   "metadata": {
    "ExecuteTime": {
     "end_time": "2020-02-17T13:20:33.134271Z",
     "start_time": "2020-02-17T13:20:33.126308Z"
    }
   },
   "outputs": [
    {
     "name": "stdout",
     "output_type": "stream",
     "text": [
      "0.03457830534143856 0.14542169465856142\n"
     ]
    }
   ],
   "source": [
    "oR = p + (t*np.sqrt(1-f)*np.sqrt((p*q)/(n-1)) + 1/(2*n))\n",
    "oL = p - (t*np.sqrt(1-f)*np.sqrt((p*q)/(n-1)) + 1/(2*n))\n",
    "print(oL, oR)"
   ]
  },
  {
   "cell_type": "code",
   "execution_count": null,
   "metadata": {},
   "outputs": [],
   "source": []
  }
 ],
 "metadata": {
  "kernelspec": {
   "display_name": "Python 3",
   "language": "python",
   "name": "python3"
  },
  "language_info": {
   "codemirror_mode": {
    "name": "ipython",
    "version": 3
   },
   "file_extension": ".py",
   "mimetype": "text/x-python",
   "name": "python",
   "nbconvert_exporter": "python",
   "pygments_lexer": "ipython3",
   "version": "3.7.3"
  },
  "toc": {
   "base_numbering": 1,
   "nav_menu": {},
   "number_sections": true,
   "sideBar": true,
   "skip_h1_title": false,
   "title_cell": "Table of Contents",
   "title_sidebar": "Contents",
   "toc_cell": false,
   "toc_position": {},
   "toc_section_display": true,
   "toc_window_display": false
  },
  "varInspector": {
   "cols": {
    "lenName": 16,
    "lenType": 16,
    "lenVar": 40
   },
   "kernels_config": {
    "python": {
     "delete_cmd_postfix": "",
     "delete_cmd_prefix": "del ",
     "library": "var_list.py",
     "varRefreshCmd": "print(var_dic_list())"
    },
    "r": {
     "delete_cmd_postfix": ") ",
     "delete_cmd_prefix": "rm(",
     "library": "var_list.r",
     "varRefreshCmd": "cat(var_dic_list()) "
    }
   },
   "types_to_exclude": [
    "module",
    "function",
    "builtin_function_or_method",
    "instance",
    "_Feature"
   ],
   "window_display": false
  }
 },
 "nbformat": 4,
 "nbformat_minor": 2
}
