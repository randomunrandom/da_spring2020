{
 "cells": [
  {
   "cell_type": "code",
   "execution_count": 23,
   "metadata": {
    "ExecuteTime": {
     "end_time": "2020-03-16T13:17:46.408577Z",
     "start_time": "2020-03-16T13:17:46.373977Z"
    }
   },
   "outputs": [],
   "source": [
    "import numpy as np\n",
    "import scipy as sp\n",
    "import scipy.stats as stats\n",
    "import numpy as np\n",
    "import matplotlib as mpl\n",
    "import matplotlib.pyplot as plt\n",
    "%matplotlib inline\n",
    "import seaborn as sns; sns.set()"
   ]
  },
  {
   "cell_type": "markdown",
   "metadata": {},
   "source": [
    "# Sample variance"
   ]
  },
  {
   "cell_type": "code",
   "execution_count": 24,
   "metadata": {
    "ExecuteTime": {
     "end_time": "2020-03-16T13:17:59.499062Z",
     "start_time": "2020-03-16T13:17:59.487582Z"
    }
   },
   "outputs": [
    {
     "data": {
      "text/plain": [
       "0.9861959672115655"
      ]
     },
     "execution_count": 24,
     "metadata": {},
     "output_type": "execute_result"
    }
   ],
   "source": [
    "a = sp.random.normal(size=1000)\n",
    "stats.tvar(a) # Sample variance"
   ]
  },
  {
   "cell_type": "code",
   "execution_count": 3,
   "metadata": {
    "ExecuteTime": {
     "end_time": "2020-03-16T10:43:34.114152Z",
     "start_time": "2020-03-16T10:43:34.104178Z"
    }
   },
   "outputs": [
    {
     "data": {
      "text/plain": [
       "0.9753338824555462"
      ]
     },
     "execution_count": 3,
     "metadata": {},
     "output_type": "execute_result"
    }
   ],
   "source": [
    "a.var()"
   ]
  },
  {
   "cell_type": "code",
   "execution_count": 4,
   "metadata": {
    "ExecuteTime": {
     "end_time": "2020-03-16T10:43:50.641589Z",
     "start_time": "2020-03-16T10:43:50.630616Z"
    }
   },
   "outputs": [
    {
     "data": {
      "text/plain": [
       "0.9763101926481944"
      ]
     },
     "execution_count": 4,
     "metadata": {},
     "output_type": "execute_result"
    }
   ],
   "source": [
    "a.var() * a.size / (a.size - 1)"
   ]
  },
  {
   "cell_type": "markdown",
   "metadata": {},
   "source": [
    "# Shapiro-Wilk"
   ]
  },
  {
   "cell_type": "code",
   "execution_count": 25,
   "metadata": {
    "ExecuteTime": {
     "end_time": "2020-03-16T13:18:24.201719Z",
     "start_time": "2020-03-16T13:18:24.194191Z"
    }
   },
   "outputs": [],
   "source": [
    "norm1 = sp.random.normal(size=1000)"
   ]
  },
  {
   "cell_type": "code",
   "execution_count": 26,
   "metadata": {
    "ExecuteTime": {
     "end_time": "2020-03-16T13:18:25.258895Z",
     "start_time": "2020-03-16T13:18:24.488191Z"
    }
   },
   "outputs": [
    {
     "data": {
      "text/plain": [
       "<matplotlib.axes._subplots.AxesSubplot at 0x11c99d50>"
      ]
     },
     "execution_count": 26,
     "metadata": {},
     "output_type": "execute_result"
    },
    {
     "data": {
      "image/png": "[encoded data removed]",
      "text/plain": [
       "<Figure size 432x288 with 1 Axes>"
      ]
     },
     "metadata": {},
     "output_type": "display_data"
    }
   ],
   "source": [
    "sns.distplot(norm1)"
   ]
  },
  {
   "cell_type": "code",
   "execution_count": 27,
   "metadata": {
    "ExecuteTime": {
     "end_time": "2020-03-16T13:18:31.454207Z",
     "start_time": "2020-03-16T13:18:31.442726Z"
    }
   },
   "outputs": [
    {
     "data": {
      "text/plain": [
       "array([-0.72092026, -1.02468424, -0.78183002, -0.71733829,  0.63761911,\n",
       "        1.16213864,  0.80662572,  1.50822311,  0.42484497, -0.32394338])"
      ]
     },
     "execution_count": 27,
     "metadata": {},
     "output_type": "execute_result"
    }
   ],
   "source": [
    "norm1[:10]"
   ]
  },
  {
   "cell_type": "code",
   "execution_count": 28,
   "metadata": {
    "ExecuteTime": {
     "end_time": "2020-03-16T13:18:36.655775Z",
     "start_time": "2020-03-16T13:18:36.649271Z"
    }
   },
   "outputs": [],
   "source": [
    "exp1 = sp.random.exponential(size=1000)"
   ]
  },
  {
   "cell_type": "code",
   "execution_count": 29,
   "metadata": {
    "ExecuteTime": {
     "end_time": "2020-03-16T13:18:37.624794Z",
     "start_time": "2020-03-16T13:18:36.970293Z"
    }
   },
   "outputs": [
    {
     "data": {
      "text/plain": [
       "<matplotlib.axes._subplots.AxesSubplot at 0x12dbb990>"
      ]
     },
     "execution_count": 29,
     "metadata": {},
     "output_type": "execute_result"
    },
    {
     "data": {
      "image/png": "[encoded data removed]",
      "text/plain": [
       "<Figure size 432x288 with 1 Axes>"
      ]
     },
     "metadata": {},
     "output_type": "display_data"
    }
   ],
   "source": [
    "sns.distplot(exp1)"
   ]
  },
  {
   "cell_type": "code",
   "execution_count": 30,
   "metadata": {
    "ExecuteTime": {
     "end_time": "2020-03-16T13:18:59.408680Z",
     "start_time": "2020-03-16T13:18:59.399641Z"
    }
   },
   "outputs": [
    {
     "name": "stdout",
     "output_type": "stream",
     "text": [
      "(0.9985280632972717, 0.5730432271957397)\n",
      "(0.8250195980072021, 1.1688982993715184e-31)\n"
     ]
    }
   ],
   "source": [
    "print(stats.shapiro(norm1))\n",
    "print(stats.shapiro(exp1))"
   ]
  },
  {
   "cell_type": "markdown",
   "metadata": {},
   "source": [
    "# Student"
   ]
  },
  {
   "cell_type": "code",
   "execution_count": 43,
   "metadata": {
    "ExecuteTime": {
     "end_time": "2020-03-16T13:24:05.984623Z",
     "start_time": "2020-03-16T13:24:05.969142Z"
    }
   },
   "outputs": [
    {
     "name": "stdout",
     "output_type": "stream",
     "text": [
      "Ttest_indResult(statistic=-1.8103977038268246, pvalue=0.07192057115630549)\n"
     ]
    },
    {
     "data": {
      "text/plain": [
       "(0.9997927795709276, 1.2675104105713213)"
      ]
     },
     "execution_count": 43,
     "metadata": {},
     "output_type": "execute_result"
    }
   ],
   "source": [
    "y = np.random.normal(1, 1, size=90)\n",
    "x = np.random.normal(1.3, 1, size=90)\n",
    "print(stats.ttest_ind(y, x)) # H3 y_mean <> x_mean\n",
    "y.mean(), x.mean()"
   ]
  },
  {
   "cell_type": "code",
   "execution_count": 44,
   "metadata": {
    "ExecuteTime": {
     "end_time": "2020-03-16T13:24:44.314745Z",
     "start_time": "2020-03-16T13:24:44.305177Z"
    }
   },
   "outputs": [
    {
     "data": {
      "text/plain": [
       "(-1.8103977038268246, 0.07192057115630549)"
      ]
     },
     "execution_count": 44,
     "metadata": {},
     "output_type": "execute_result"
    }
   ],
   "source": [
    "# H1: y < x\n",
    "# 1. T-statistic < 0\n",
    "s, p = stats.ttest_ind(y, x)\n",
    "s, p"
   ]
  },
  {
   "cell_type": "code",
   "execution_count": 45,
   "metadata": {
    "ExecuteTime": {
     "end_time": "2020-03-16T13:24:54.079910Z",
     "start_time": "2020-03-16T13:24:54.071740Z"
    }
   },
   "outputs": [
    {
     "data": {
      "text/plain": [
       "0.03596028557815274"
      ]
     },
     "execution_count": 45,
     "metadata": {},
     "output_type": "execute_result"
    }
   ],
   "source": [
    "one_sided_p_value = p / 2\n",
    "one_sided_p_value"
   ]
  },
  {
   "cell_type": "code",
   "execution_count": null,
   "metadata": {},
   "outputs": [],
   "source": []
  },
  {
   "cell_type": "code",
   "execution_count": 33,
   "metadata": {
    "ExecuteTime": {
     "end_time": "2020-03-16T08:45:13.766786Z",
     "start_time": "2020-03-16T08:45:13.759802Z"
    }
   },
   "outputs": [
    {
     "data": {
      "text/plain": [
       "(1.1934745109851599, 0.5921523359171074)"
      ]
     },
     "execution_count": 33,
     "metadata": {},
     "output_type": "execute_result"
    }
   ],
   "source": []
  },
  {
   "cell_type": "markdown",
   "metadata": {},
   "source": [
    "# Wilcoxon\n",
    "# Mann–Whitney U test"
   ]
  },
  {
   "cell_type": "code",
   "execution_count": 46,
   "metadata": {
    "ExecuteTime": {
     "end_time": "2020-03-16T13:25:52.255226Z",
     "start_time": "2020-03-16T13:25:52.244253Z"
    }
   },
   "outputs": [],
   "source": [
    "x = np.array([\n",
    "    10043, 9596, 10305, 8354, 9413, 19776, 9815, 11311, 11253, 10856, 11389\n",
    "])\n",
    "\n",
    "y = np.array([\n",
    "    14253, 7843, 9581, 8594, 16119, 10112, 10173, 9756\n",
    "])"
   ]
  },
  {
   "cell_type": "code",
   "execution_count": 50,
   "metadata": {
    "ExecuteTime": {
     "end_time": "2020-03-16T13:27:20.875261Z",
     "start_time": "2020-03-16T13:27:20.865120Z"
    }
   },
   "outputs": [
    {
     "data": {
      "text/plain": [
       "(10803.875, 11101.0)"
      ]
     },
     "execution_count": 50,
     "metadata": {},
     "output_type": "execute_result"
    }
   ],
   "source": [
    "y.mean(), x.mean()"
   ]
  },
  {
   "cell_type": "code",
   "execution_count": 47,
   "metadata": {
    "ExecuteTime": {
     "end_time": "2020-03-16T13:25:57.214491Z",
     "start_time": "2020-03-16T13:25:57.205805Z"
    }
   },
   "outputs": [
    {
     "data": {
      "text/plain": [
       "array([ 9.,  6., 12.,  2.,  4., 19.,  8., 15., 14., 13., 16., 17.,  1.,\n",
       "        5.,  3., 18., 10., 11.,  7.])"
      ]
     },
     "execution_count": 47,
     "metadata": {},
     "output_type": "execute_result"
    }
   ],
   "source": [
    "ranks = stats.rankdata(np.hstack([x, y]))\n",
    "ranks"
   ]
  },
  {
   "cell_type": "code",
   "execution_count": 76,
   "metadata": {
    "ExecuteTime": {
     "end_time": "2020-03-16T08:58:48.540173Z",
     "start_time": "2020-03-16T08:58:48.533178Z"
    }
   },
   "outputs": [
    {
     "data": {
      "text/plain": [
       "array([17.,  1.,  5.,  3., 18., 10., 11.,  7.])"
      ]
     },
     "execution_count": 76,
     "metadata": {},
     "output_type": "execute_result"
    }
   ],
   "source": [
    "y_ranks = ranks[x.size:]\n",
    "y_ranks"
   ]
  },
  {
   "cell_type": "code",
   "execution_count": 77,
   "metadata": {
    "ExecuteTime": {
     "end_time": "2020-03-16T08:58:58.516198Z",
     "start_time": "2020-03-16T08:58:58.510210Z"
    }
   },
   "outputs": [
    {
     "data": {
      "text/plain": [
       "72.0"
      ]
     },
     "execution_count": 77,
     "metadata": {},
     "output_type": "execute_result"
    }
   ],
   "source": [
    "np.sum(y_ranks)"
   ]
  },
  {
   "cell_type": "code",
   "execution_count": 81,
   "metadata": {
    "ExecuteTime": {
     "end_time": "2020-03-16T09:02:41.204407Z",
     "start_time": "2020-03-16T09:02:41.199402Z"
    }
   },
   "outputs": [
    {
     "data": {
      "text/plain": [
       "8"
      ]
     },
     "execution_count": 81,
     "metadata": {},
     "output_type": "execute_result"
    }
   ],
   "source": [
    "y.size"
   ]
  },
  {
   "cell_type": "code",
   "execution_count": 82,
   "metadata": {
    "ExecuteTime": {
     "end_time": "2020-03-16T09:02:58.881628Z",
     "start_time": "2020-03-16T09:02:58.874652Z"
    }
   },
   "outputs": [
    {
     "data": {
      "text/plain": [
       "36.0"
      ]
     },
     "execution_count": 82,
     "metadata": {},
     "output_type": "execute_result"
    }
   ],
   "source": [
    "y.size * (y.size + 1) / 2"
   ]
  },
  {
   "cell_type": "code",
   "execution_count": 83,
   "metadata": {
    "ExecuteTime": {
     "end_time": "2020-03-16T09:03:22.445748Z",
     "start_time": "2020-03-16T09:03:22.439458Z"
    }
   },
   "outputs": [
    {
     "data": {
      "text/plain": [
       "66.0"
      ]
     },
     "execution_count": 83,
     "metadata": {},
     "output_type": "execute_result"
    }
   ],
   "source": [
    "x.size * (x.size + 1) / 2"
   ]
  },
  {
   "cell_type": "code",
   "execution_count": 52,
   "metadata": {
    "ExecuteTime": {
     "end_time": "2020-03-16T13:27:39.749733Z",
     "start_time": "2020-03-16T13:27:39.740034Z"
    }
   },
   "outputs": [
    {
     "data": {
      "text/plain": [
       "MannwhitneyuResult(statistic=36.0, pvalue=0.5357239360626169)"
      ]
     },
     "execution_count": 52,
     "metadata": {},
     "output_type": "execute_result"
    }
   ],
   "source": [
    "stats.mannwhitneyu(y, x, alternative='two-sided')"
   ]
  },
  {
   "cell_type": "code",
   "execution_count": null,
   "metadata": {},
   "outputs": [],
   "source": []
  },
  {
   "cell_type": "code",
   "execution_count": 96,
   "metadata": {
    "ExecuteTime": {
     "end_time": "2020-03-16T09:09:16.048641Z",
     "start_time": "2020-03-16T09:09:16.042667Z"
    }
   },
   "outputs": [
    {
     "data": {
      "text/plain": [
       "array([17.,  1.,  5.,  3., 18., 10., 11.,  7.])"
      ]
     },
     "execution_count": 96,
     "metadata": {},
     "output_type": "execute_result"
    }
   ],
   "source": [
    "y_ranks"
   ]
  },
  {
   "cell_type": "code",
   "execution_count": 97,
   "metadata": {
    "ExecuteTime": {
     "end_time": "2020-03-16T09:09:30.460691Z",
     "start_time": "2020-03-16T09:09:30.453712Z"
    }
   },
   "outputs": [
    {
     "data": {
      "text/plain": [
       "array([ 9.,  6., 12.,  2.,  4., 19.,  8., 15., 14., 13., 16.])"
      ]
     },
     "execution_count": 97,
     "metadata": {},
     "output_type": "execute_result"
    }
   ],
   "source": [
    "x_ranks = ranks[:x.size]\n",
    "x_ranks"
   ]
  },
  {
   "cell_type": "code",
   "execution_count": 98,
   "metadata": {
    "ExecuteTime": {
     "end_time": "2020-03-16T09:09:49.910595Z",
     "start_time": "2020-03-16T09:09:49.903609Z"
    }
   },
   "outputs": [
    {
     "data": {
      "text/plain": [
       "52.0"
      ]
     },
     "execution_count": 98,
     "metadata": {},
     "output_type": "execute_result"
    }
   ],
   "source": [
    "u1 = x_ranks.sum() - x.size * (x.size + 1) / 2\n",
    "u1"
   ]
  },
  {
   "cell_type": "code",
   "execution_count": 100,
   "metadata": {
    "ExecuteTime": {
     "end_time": "2020-03-16T09:10:21.183321Z",
     "start_time": "2020-03-16T09:10:21.177326Z"
    }
   },
   "outputs": [
    {
     "data": {
      "text/plain": [
       "36.0"
      ]
     },
     "execution_count": 100,
     "metadata": {},
     "output_type": "execute_result"
    }
   ],
   "source": [
    "u2 = y_ranks.sum() - y.size * (y.size + 1) / 2\n",
    "u2"
   ]
  },
  {
   "cell_type": "markdown",
   "metadata": {},
   "source": [
    "# Fisher"
   ]
  },
  {
   "cell_type": "markdown",
   "metadata": {},
   "source": [
    "**Greater / Lesser**"
   ]
  },
  {
   "cell_type": "code",
   "execution_count": 61,
   "metadata": {
    "ExecuteTime": {
     "end_time": "2020-03-16T13:31:54.005169Z",
     "start_time": "2020-03-16T13:31:53.994514Z"
    }
   },
   "outputs": [
    {
     "name": "stdout",
     "output_type": "stream",
     "text": [
      "0.04790147137900336 0.38130029043608327\n",
      "0.9835629958813462 1.6163143583052557\n"
     ]
    }
   ],
   "source": [
    "y = np.random.normal(0, 1, size=100)\n",
    "x = np.random.normal(0.5, 1.5, size=100)\n",
    "\n",
    "print(y.mean(), x.mean())\n",
    "print(y.var(), x.var())"
   ]
  },
  {
   "cell_type": "code",
   "execution_count": 54,
   "metadata": {
    "ExecuteTime": {
     "end_time": "2020-03-16T13:28:42.073878Z",
     "start_time": "2020-03-16T13:28:42.063921Z"
    }
   },
   "outputs": [
    {
     "data": {
      "text/plain": [
       "2.6095799384566245"
      ]
     },
     "execution_count": 54,
     "metadata": {},
     "output_type": "execute_result"
    }
   ],
   "source": [
    "F = stats.tvar(x) / stats.tvar(y)\n",
    "F"
   ]
  },
  {
   "cell_type": "code",
   "execution_count": 55,
   "metadata": {
    "ExecuteTime": {
     "end_time": "2020-03-16T13:29:45.373993Z",
     "start_time": "2020-03-16T13:29:45.313523Z"
    }
   },
   "outputs": [
    {
     "data": {
      "text/plain": [
       "0.0005199820146428724"
      ]
     },
     "execution_count": 55,
     "metadata": {},
     "output_type": "execute_result"
    }
   ],
   "source": [
    "p_value = 1 - stats.f.cdf(F, len(x) - 1, len(y) - 1)\n",
    "p_value"
   ]
  },
  {
   "cell_type": "markdown",
   "metadata": {},
   "source": [
    "# Ansari-Bradley test"
   ]
  },
  {
   "cell_type": "code",
   "execution_count": 62,
   "metadata": {
    "ExecuteTime": {
     "end_time": "2020-03-16T13:31:58.578409Z",
     "start_time": "2020-03-16T13:31:58.564860Z"
    }
   },
   "outputs": [
    {
     "data": {
      "text/plain": [
       "AnsariResult(statistic=4623.0, pvalue=0.03691233389462469)"
      ]
     },
     "execution_count": 62,
     "metadata": {},
     "output_type": "execute_result"
    }
   ],
   "source": [
    "stats.ansari(x, y)"
   ]
  },
  {
   "cell_type": "code",
   "execution_count": 63,
   "metadata": {
    "ExecuteTime": {
     "end_time": "2020-03-16T13:32:01.153565Z",
     "start_time": "2020-03-16T13:32:01.135960Z"
    }
   },
   "outputs": [
    {
     "name": "stdout",
     "output_type": "stream",
     "text": [
      "200\n"
     ]
    },
    {
     "data": {
      "text/plain": [
       "4623.0"
      ]
     },
     "execution_count": 63,
     "metadata": {},
     "output_type": "execute_result"
    }
   ],
   "source": [
    "N = x.size + y.size\n",
    "print(N)\n",
    "A = 0\n",
    "for r in stats.rankdata(np.hstack([x, y]))[:x.size]:\n",
    "    A += (N + 1) / 2 - np.abs(r - (N + 1) / 2)\n",
    "A"
   ]
  },
  {
   "cell_type": "code",
   "execution_count": 64,
   "metadata": {
    "ExecuteTime": {
     "end_time": "2020-03-16T13:32:01.631909Z",
     "start_time": "2020-03-16T13:32:01.617196Z"
    }
   },
   "outputs": [
    {
     "data": {
      "text/plain": [
       "-2.086732365493122"
      ]
     },
     "execution_count": 64,
     "metadata": {},
     "output_type": "execute_result"
    }
   ],
   "source": [
    "M = x.size * (N + 2) / 4\n",
    "D = x.size * y.size * (N + 2) * (N - 2) / (48 * (N - 1))\n",
    "\n",
    "A_std = (A - M) / np.sqrt(D)\n",
    "A_std"
   ]
  },
  {
   "cell_type": "code",
   "execution_count": 65,
   "metadata": {
    "ExecuteTime": {
     "end_time": "2020-03-16T13:32:03.111606Z",
     "start_time": "2020-03-16T13:32:03.102436Z"
    }
   },
   "outputs": [
    {
     "data": {
      "text/plain": [
       "0.03691233389462469"
      ]
     },
     "execution_count": 65,
     "metadata": {},
     "output_type": "execute_result"
    }
   ],
   "source": [
    "p_value = 2 * stats.norm.cdf(A_std)\n",
    "p_value"
   ]
  },
  {
   "cell_type": "code",
   "execution_count": null,
   "metadata": {},
   "outputs": [],
   "source": []
  }
 ],
 "metadata": {
  "kernelspec": {
   "display_name": "Python 3",
   "language": "python",
   "name": "python3"
  },
  "language_info": {
   "codemirror_mode": {
    "name": "ipython",
    "version": 3
   },
   "file_extension": ".py",
   "mimetype": "text/x-python",
   "name": "python",
   "nbconvert_exporter": "python",
   "pygments_lexer": "ipython3",
   "version": "3.7.3"
  },
  "toc": {
   "base_numbering": 1,
   "nav_menu": {},
   "number_sections": true,
   "sideBar": true,
   "skip_h1_title": false,
   "title_cell": "Table of Contents",
   "title_sidebar": "Contents",
   "toc_cell": false,
   "toc_position": {},
   "toc_section_display": true,
   "toc_window_display": false
  },
  "varInspector": {
   "cols": {
    "lenName": 16,
    "lenType": 16,
    "lenVar": 40
   },
   "kernels_config": {
    "python": {
     "delete_cmd_postfix": "",
     "delete_cmd_prefix": "del ",
     "library": "var_list.py",
     "varRefreshCmd": "print(var_dic_list())"
    },
    "r": {
     "delete_cmd_postfix": ") ",
     "delete_cmd_prefix": "rm(",
     "library": "var_list.r",
     "varRefreshCmd": "cat(var_dic_list()) "
    }
   },
   "position": {
    "height": "144.183px",
    "left": "848.667px",
    "right": "20px",
    "top": "120px",
    "width": "350px"
   },
   "types_to_exclude": [
    "module",
    "function",
    "builtin_function_or_method",
    "instance",
    "_Feature"
   ],
   "window_display": false
  }
 },
 "nbformat": 4,
 "nbformat_minor": 1
}
