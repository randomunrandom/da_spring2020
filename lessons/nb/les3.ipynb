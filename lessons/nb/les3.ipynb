{
 "cells": [
  {
   "cell_type": "code",
   "execution_count": 1,
   "metadata": {
    "ExecuteTime": {
     "end_time": "2020-03-02T10:29:17.252880Z",
     "start_time": "2020-03-02T10:29:15.360916Z"
    }
   },
   "outputs": [],
   "source": [
    "import numpy as np\n",
    "import pandas as pd\n",
    "import scipy as sp\n",
    "import matplotlib as mpl\n",
    "import matplotlib.pyplot as plt\n",
    "%matplotlib inline\n",
    "import seaborn as sns; sns.set(style='whitegrid')"
   ]
  },
  {
   "cell_type": "code",
   "execution_count": 5,
   "metadata": {
    "ExecuteTime": {
     "end_time": "2020-03-02T10:30:41.778681Z",
     "start_time": "2020-03-02T10:30:41.771699Z"
    }
   },
   "outputs": [
    {
     "data": {
      "text/plain": [
       "array([5, 2, 2, 4, 5, 5, 5, 3, 3, 1, 4, 2, 1, 3, 4, 3, 3, 2, 3, 7, 2, 2,\n",
       "       5, 3, 4, 2, 3, 3, 2, 6, 2, 2, 3, 1, 4, 2, 3, 2, 2, 2, 3, 3, 4, 1,\n",
       "       6, 3, 3, 2, 2, 2])"
      ]
     },
     "execution_count": 5,
     "metadata": {},
     "output_type": "execute_result"
    }
   ],
   "source": [
    "fams = sp.random.poisson(1.5, 50) + 1\n",
    "fams"
   ]
  },
  {
   "cell_type": "code",
   "execution_count": 17,
   "metadata": {
    "ExecuteTime": {
     "end_time": "2020-03-02T10:35:36.231019Z",
     "start_time": "2020-03-02T10:35:36.225029Z"
    }
   },
   "outputs": [],
   "source": [
    "def get_earnings(f_size):\n",
    "    r = min(2, f_size)\n",
    "    rest = f_size - r\n",
    "    return r * 800 + np.random.normal(0, 100, 1)[0] + rest * 250\n"
   ]
  },
  {
   "cell_type": "code",
   "execution_count": 19,
   "metadata": {
    "ExecuteTime": {
     "end_time": "2020-03-02T10:35:42.836184Z",
     "start_time": "2020-03-02T10:35:42.820225Z"
    }
   },
   "outputs": [
    {
     "data": {
      "text/html": [
       "<div>\n",
       "<style scoped>\n",
       "    .dataframe tbody tr th:only-of-type {\n",
       "        vertical-align: middle;\n",
       "    }\n",
       "\n",
       "    .dataframe tbody tr th {\n",
       "        vertical-align: top;\n",
       "    }\n",
       "\n",
       "    .dataframe thead th {\n",
       "        text-align: right;\n",
       "    }\n",
       "</style>\n",
       "<table border=\"1\" class=\"dataframe\">\n",
       "  <thead>\n",
       "    <tr style=\"text-align: right;\">\n",
       "      <th></th>\n",
       "      <th>family_size</th>\n",
       "      <th>total_income</th>\n",
       "    </tr>\n",
       "  </thead>\n",
       "  <tbody>\n",
       "    <tr>\n",
       "      <th>0</th>\n",
       "      <td>5</td>\n",
       "      <td>2408.293717</td>\n",
       "    </tr>\n",
       "    <tr>\n",
       "      <th>1</th>\n",
       "      <td>2</td>\n",
       "      <td>1598.997154</td>\n",
       "    </tr>\n",
       "    <tr>\n",
       "      <th>2</th>\n",
       "      <td>2</td>\n",
       "      <td>1512.409549</td>\n",
       "    </tr>\n",
       "    <tr>\n",
       "      <th>3</th>\n",
       "      <td>4</td>\n",
       "      <td>2174.455143</td>\n",
       "    </tr>\n",
       "    <tr>\n",
       "      <th>4</th>\n",
       "      <td>5</td>\n",
       "      <td>2436.342635</td>\n",
       "    </tr>\n",
       "    <tr>\n",
       "      <th>5</th>\n",
       "      <td>5</td>\n",
       "      <td>2407.287009</td>\n",
       "    </tr>\n",
       "    <tr>\n",
       "      <th>6</th>\n",
       "      <td>5</td>\n",
       "      <td>2427.143951</td>\n",
       "    </tr>\n",
       "    <tr>\n",
       "      <th>7</th>\n",
       "      <td>3</td>\n",
       "      <td>1907.840930</td>\n",
       "    </tr>\n",
       "    <tr>\n",
       "      <th>8</th>\n",
       "      <td>3</td>\n",
       "      <td>1874.106515</td>\n",
       "    </tr>\n",
       "    <tr>\n",
       "      <th>9</th>\n",
       "      <td>1</td>\n",
       "      <td>682.886851</td>\n",
       "    </tr>\n",
       "    <tr>\n",
       "      <th>10</th>\n",
       "      <td>4</td>\n",
       "      <td>1964.245930</td>\n",
       "    </tr>\n",
       "    <tr>\n",
       "      <th>11</th>\n",
       "      <td>2</td>\n",
       "      <td>1668.461188</td>\n",
       "    </tr>\n",
       "    <tr>\n",
       "      <th>12</th>\n",
       "      <td>1</td>\n",
       "      <td>814.875204</td>\n",
       "    </tr>\n",
       "    <tr>\n",
       "      <th>13</th>\n",
       "      <td>3</td>\n",
       "      <td>1797.728154</td>\n",
       "    </tr>\n",
       "    <tr>\n",
       "      <th>14</th>\n",
       "      <td>4</td>\n",
       "      <td>2024.496786</td>\n",
       "    </tr>\n",
       "    <tr>\n",
       "      <th>15</th>\n",
       "      <td>3</td>\n",
       "      <td>2055.865931</td>\n",
       "    </tr>\n",
       "    <tr>\n",
       "      <th>16</th>\n",
       "      <td>3</td>\n",
       "      <td>1950.366910</td>\n",
       "    </tr>\n",
       "    <tr>\n",
       "      <th>17</th>\n",
       "      <td>2</td>\n",
       "      <td>1493.567184</td>\n",
       "    </tr>\n",
       "    <tr>\n",
       "      <th>18</th>\n",
       "      <td>3</td>\n",
       "      <td>1942.621713</td>\n",
       "    </tr>\n",
       "    <tr>\n",
       "      <th>19</th>\n",
       "      <td>7</td>\n",
       "      <td>2942.432124</td>\n",
       "    </tr>\n",
       "    <tr>\n",
       "      <th>20</th>\n",
       "      <td>2</td>\n",
       "      <td>1232.354562</td>\n",
       "    </tr>\n",
       "    <tr>\n",
       "      <th>21</th>\n",
       "      <td>2</td>\n",
       "      <td>1684.183452</td>\n",
       "    </tr>\n",
       "    <tr>\n",
       "      <th>22</th>\n",
       "      <td>5</td>\n",
       "      <td>2507.261708</td>\n",
       "    </tr>\n",
       "    <tr>\n",
       "      <th>23</th>\n",
       "      <td>3</td>\n",
       "      <td>1930.972167</td>\n",
       "    </tr>\n",
       "    <tr>\n",
       "      <th>24</th>\n",
       "      <td>4</td>\n",
       "      <td>2183.947503</td>\n",
       "    </tr>\n",
       "    <tr>\n",
       "      <th>25</th>\n",
       "      <td>2</td>\n",
       "      <td>1507.250114</td>\n",
       "    </tr>\n",
       "    <tr>\n",
       "      <th>26</th>\n",
       "      <td>3</td>\n",
       "      <td>1817.288618</td>\n",
       "    </tr>\n",
       "    <tr>\n",
       "      <th>27</th>\n",
       "      <td>3</td>\n",
       "      <td>1771.172972</td>\n",
       "    </tr>\n",
       "    <tr>\n",
       "      <th>28</th>\n",
       "      <td>2</td>\n",
       "      <td>1669.902307</td>\n",
       "    </tr>\n",
       "    <tr>\n",
       "      <th>29</th>\n",
       "      <td>6</td>\n",
       "      <td>2552.203977</td>\n",
       "    </tr>\n",
       "    <tr>\n",
       "      <th>30</th>\n",
       "      <td>2</td>\n",
       "      <td>1737.433982</td>\n",
       "    </tr>\n",
       "    <tr>\n",
       "      <th>31</th>\n",
       "      <td>2</td>\n",
       "      <td>1578.444537</td>\n",
       "    </tr>\n",
       "    <tr>\n",
       "      <th>32</th>\n",
       "      <td>3</td>\n",
       "      <td>1794.327984</td>\n",
       "    </tr>\n",
       "    <tr>\n",
       "      <th>33</th>\n",
       "      <td>1</td>\n",
       "      <td>970.147201</td>\n",
       "    </tr>\n",
       "    <tr>\n",
       "      <th>34</th>\n",
       "      <td>4</td>\n",
       "      <td>2173.908233</td>\n",
       "    </tr>\n",
       "    <tr>\n",
       "      <th>35</th>\n",
       "      <td>2</td>\n",
       "      <td>1800.544547</td>\n",
       "    </tr>\n",
       "    <tr>\n",
       "      <th>36</th>\n",
       "      <td>3</td>\n",
       "      <td>1765.020250</td>\n",
       "    </tr>\n",
       "    <tr>\n",
       "      <th>37</th>\n",
       "      <td>2</td>\n",
       "      <td>1594.539905</td>\n",
       "    </tr>\n",
       "    <tr>\n",
       "      <th>38</th>\n",
       "      <td>2</td>\n",
       "      <td>1482.219354</td>\n",
       "    </tr>\n",
       "    <tr>\n",
       "      <th>39</th>\n",
       "      <td>2</td>\n",
       "      <td>1762.469359</td>\n",
       "    </tr>\n",
       "    <tr>\n",
       "      <th>40</th>\n",
       "      <td>3</td>\n",
       "      <td>1871.801794</td>\n",
       "    </tr>\n",
       "    <tr>\n",
       "      <th>41</th>\n",
       "      <td>3</td>\n",
       "      <td>1878.576010</td>\n",
       "    </tr>\n",
       "    <tr>\n",
       "      <th>42</th>\n",
       "      <td>4</td>\n",
       "      <td>2125.414103</td>\n",
       "    </tr>\n",
       "    <tr>\n",
       "      <th>43</th>\n",
       "      <td>1</td>\n",
       "      <td>750.014182</td>\n",
       "    </tr>\n",
       "    <tr>\n",
       "      <th>44</th>\n",
       "      <td>6</td>\n",
       "      <td>2575.799211</td>\n",
       "    </tr>\n",
       "    <tr>\n",
       "      <th>45</th>\n",
       "      <td>3</td>\n",
       "      <td>1760.493821</td>\n",
       "    </tr>\n",
       "    <tr>\n",
       "      <th>46</th>\n",
       "      <td>3</td>\n",
       "      <td>1853.880964</td>\n",
       "    </tr>\n",
       "    <tr>\n",
       "      <th>47</th>\n",
       "      <td>2</td>\n",
       "      <td>1471.419920</td>\n",
       "    </tr>\n",
       "    <tr>\n",
       "      <th>48</th>\n",
       "      <td>2</td>\n",
       "      <td>1832.458713</td>\n",
       "    </tr>\n",
       "    <tr>\n",
       "      <th>49</th>\n",
       "      <td>2</td>\n",
       "      <td>1453.163724</td>\n",
       "    </tr>\n",
       "  </tbody>\n",
       "</table>\n",
       "</div>"
      ],
      "text/plain": [
       "    family_size  total_income\n",
       "0             5   2408.293717\n",
       "1             2   1598.997154\n",
       "2             2   1512.409549\n",
       "3             4   2174.455143\n",
       "4             5   2436.342635\n",
       "5             5   2407.287009\n",
       "6             5   2427.143951\n",
       "7             3   1907.840930\n",
       "8             3   1874.106515\n",
       "9             1    682.886851\n",
       "10            4   1964.245930\n",
       "11            2   1668.461188\n",
       "12            1    814.875204\n",
       "13            3   1797.728154\n",
       "14            4   2024.496786\n",
       "15            3   2055.865931\n",
       "16            3   1950.366910\n",
       "17            2   1493.567184\n",
       "18            3   1942.621713\n",
       "19            7   2942.432124\n",
       "20            2   1232.354562\n",
       "21            2   1684.183452\n",
       "22            5   2507.261708\n",
       "23            3   1930.972167\n",
       "24            4   2183.947503\n",
       "25            2   1507.250114\n",
       "26            3   1817.288618\n",
       "27            3   1771.172972\n",
       "28            2   1669.902307\n",
       "29            6   2552.203977\n",
       "30            2   1737.433982\n",
       "31            2   1578.444537\n",
       "32            3   1794.327984\n",
       "33            1    970.147201\n",
       "34            4   2173.908233\n",
       "35            2   1800.544547\n",
       "36            3   1765.020250\n",
       "37            2   1594.539905\n",
       "38            2   1482.219354\n",
       "39            2   1762.469359\n",
       "40            3   1871.801794\n",
       "41            3   1878.576010\n",
       "42            4   2125.414103\n",
       "43            1    750.014182\n",
       "44            6   2575.799211\n",
       "45            3   1760.493821\n",
       "46            3   1853.880964\n",
       "47            2   1471.419920\n",
       "48            2   1832.458713\n",
       "49            2   1453.163724"
      ]
     },
     "execution_count": 19,
     "metadata": {},
     "output_type": "execute_result"
    }
   ],
   "source": [
    "df = pd.DataFrame([(f, get_earnings(f)) for f in fams], columns=['family_size', 'total_income'])\n",
    "df"
   ]
  },
  {
   "cell_type": "code",
   "execution_count": 33,
   "metadata": {
    "ExecuteTime": {
     "end_time": "2020-03-02T10:56:03.125236Z",
     "start_time": "2020-03-02T10:56:03.119252Z"
    }
   },
   "outputs": [],
   "source": [
    "R=df['total_income'].sum()/df['family_size'].sum()"
   ]
  },
  {
   "cell_type": "code",
   "execution_count": 24,
   "metadata": {
    "ExecuteTime": {
     "end_time": "2020-03-02T10:49:44.366283Z",
     "start_time": "2020-03-02T10:49:44.359296Z"
    }
   },
   "outputs": [
    {
     "data": {
      "text/plain": [
       "0.05"
      ]
     },
     "execution_count": 24,
     "metadata": {},
     "output_type": "execute_result"
    }
   ],
   "source": [
    "N=1000\n",
    "n=len(df)\n",
    "f=n/N\n",
    "f"
   ]
  },
  {
   "cell_type": "code",
   "execution_count": 26,
   "metadata": {
    "ExecuteTime": {
     "end_time": "2020-03-02T10:53:14.054920Z",
     "start_time": "2020-03-02T10:53:14.051276Z"
    }
   },
   "outputs": [],
   "source": [
    "x = df['family_size'].values\n",
    "y = df['total_income'].values"
   ]
  },
  {
   "cell_type": "code",
   "execution_count": 28,
   "metadata": {
    "ExecuteTime": {
     "end_time": "2020-03-02T10:53:18.770505Z",
     "start_time": "2020-03-02T10:53:18.762516Z"
    }
   },
   "outputs": [
    {
     "data": {
      "text/plain": [
       "array([5, 2, 2, 4, 5, 5, 5, 3, 3, 1, 4, 2, 1, 3, 4, 3, 3, 2, 3, 7, 2, 2,\n",
       "       5, 3, 4, 2, 3, 3, 2, 6, 2, 2, 3, 1, 4, 2, 3, 2, 2, 2, 3, 3, 4, 1,\n",
       "       6, 3, 3, 2, 2, 2], dtype=int64)"
      ]
     },
     "execution_count": 28,
     "metadata": {},
     "output_type": "execute_result"
    }
   ],
   "source": [
    "x"
   ]
  },
  {
   "cell_type": "code",
   "execution_count": 29,
   "metadata": {
    "ExecuteTime": {
     "end_time": "2020-03-02T10:53:20.007708Z",
     "start_time": "2020-03-02T10:53:20.000729Z"
    }
   },
   "outputs": [
    {
     "data": {
      "text/plain": [
       "array([2408.29371727, 1598.99715378, 1512.40954873, 2174.45514339,\n",
       "       2436.34263522, 2407.28700869, 2427.14395085, 1907.84093006,\n",
       "       1874.10651466,  682.88685054, 1964.24593046, 1668.46118807,\n",
       "        814.87520431, 1797.72815385, 2024.49678621, 2055.86593117,\n",
       "       1950.3669101 , 1493.56718363, 1942.62171304, 2942.43212394,\n",
       "       1232.35456196, 1684.18345178, 2507.26170826, 1930.97216749,\n",
       "       2183.94750282, 1507.25011384, 1817.28861818, 1771.1729721 ,\n",
       "       1669.90230709, 2552.20397673, 1737.43398223, 1578.44453735,\n",
       "       1794.32798409,  970.14720082, 2173.90823326, 1800.5445465 ,\n",
       "       1765.02025022, 1594.53990545, 1482.21935412, 1762.46935926,\n",
       "       1871.80179377, 1878.57600996, 2125.41410296,  750.01418183,\n",
       "       2575.79921068, 1760.4938212 , 1853.880964  , 1471.41992023,\n",
       "       1832.45871293, 1453.16372436])"
      ]
     },
     "execution_count": 29,
     "metadata": {},
     "output_type": "execute_result"
    }
   ],
   "source": [
    "y"
   ]
  },
  {
   "cell_type": "code",
   "execution_count": 31,
   "metadata": {
    "ExecuteTime": {
     "end_time": "2020-03-02T10:53:28.991953Z",
     "start_time": "2020-03-02T10:53:28.984530Z"
    }
   },
   "outputs": [
    {
     "data": {
      "text/plain": [
       "array([12041.46858636,  3197.99430757,  3024.81909746,  8697.82057356,\n",
       "       12181.71317609, 12036.43504345, 12135.71975424,  5723.52279018,\n",
       "        5622.31954397,   682.88685054,  7856.98372182,  3336.92237613,\n",
       "         814.87520431,  5393.18446154,  8097.98714486,  6167.59779352,\n",
       "        5851.1007303 ,  2987.13436726,  5827.86513912, 20597.02486755,\n",
       "        2464.70912391,  3368.36690356, 12536.30854131,  5792.91650246,\n",
       "        8735.79001127,  3014.50022768,  5451.86585453,  5313.51891631,\n",
       "        3339.80461417, 15313.22386037,  3474.86796445,  3156.88907471,\n",
       "        5382.98395228,   970.14720082,  8695.63293302,  3601.089093  ,\n",
       "        5295.06075067,  3189.07981089,  2964.43870824,  3524.93871852,\n",
       "        5615.4053813 ,  5635.72802987,  8501.65641184,   750.01418183,\n",
       "       15454.79526408,  5281.48146359,  5561.64289201,  2942.83984047,\n",
       "        3664.91742586,  2906.32744873])"
      ]
     },
     "execution_count": 31,
     "metadata": {},
     "output_type": "execute_result"
    }
   ],
   "source": [
    "x * y"
   ]
  },
  {
   "cell_type": "code",
   "execution_count": 35,
   "metadata": {
    "ExecuteTime": {
     "end_time": "2020-03-02T10:59:01.525516Z",
     "start_time": "2020-03-02T10:59:01.518533Z"
    }
   },
   "outputs": [],
   "source": [
    "A=(x*x).sum()*R**2+(y*y).sum()-2*R*(x*y).sum()"
   ]
  },
  {
   "cell_type": "code",
   "execution_count": 38,
   "metadata": {
    "ExecuteTime": {
     "end_time": "2020-03-02T11:00:01.215567Z",
     "start_time": "2020-03-02T11:00:01.209578Z"
    }
   },
   "outputs": [
    {
     "data": {
      "text/plain": [
       "192682.5867054219"
      ]
     },
     "execution_count": 38,
     "metadata": {},
     "output_type": "execute_result"
    }
   ],
   "source": [
    "B=A/(n-1)\n",
    "B"
   ]
  },
  {
   "cell_type": "code",
   "execution_count": 43,
   "metadata": {
    "ExecuteTime": {
     "end_time": "2020-03-02T11:01:30.170708Z",
     "start_time": "2020-03-02T11:01:30.166645Z"
    }
   },
   "outputs": [],
   "source": [
    "S=np.sqrt(B)"
   ]
  },
  {
   "cell_type": "code",
   "execution_count": 44,
   "metadata": {
    "ExecuteTime": {
     "end_time": "2020-03-02T11:03:03.628579Z",
     "start_time": "2020-03-02T11:03:03.620589Z"
    }
   },
   "outputs": [
    {
     "data": {
      "text/plain": [
       "20.035080488432143"
      ]
     },
     "execution_count": 44,
     "metadata": {},
     "output_type": "execute_result"
    }
   ],
   "source": [
    "(np.sqrt(1-f)*S)/(np.sqrt(n)*x.mean())"
   ]
  },
  {
   "cell_type": "code",
   "execution_count": 45,
   "metadata": {
    "ExecuteTime": {
     "end_time": "2020-03-02T11:09:31.083038Z",
     "start_time": "2020-03-02T11:09:31.075057Z"
    }
   },
   "outputs": [
    {
     "data": {
      "text/plain": [
       "array([8, 4, 2, 2, 1, 1, 0, 0, 0, 1, 1])"
      ]
     },
     "execution_count": 45,
     "metadata": {},
     "output_type": "execute_result"
    }
   ],
   "source": [
    "a = [8, 4, 2, 2, 1, 1, 0, 0, 0, 1, 1]\n",
    "a = np.array(a)\n",
    "a"
   ]
  },
  {
   "cell_type": "code",
   "execution_count": 50,
   "metadata": {
    "ExecuteTime": {
     "end_time": "2020-03-02T11:14:36.814600Z",
     "start_time": "2020-03-02T11:14:36.808617Z"
    }
   },
   "outputs": [],
   "source": [
    "b = np.arange(0, 11)"
   ]
  },
  {
   "cell_type": "code",
   "execution_count": 53,
   "metadata": {
    "ExecuteTime": {
     "end_time": "2020-03-02T11:16:32.359311Z",
     "start_time": "2020-03-02T11:16:32.353325Z"
    }
   },
   "outputs": [],
   "source": [
    "N=200\n",
    "n=20\n",
    "c = (a * b).sum()"
   ]
  },
  {
   "cell_type": "code",
   "execution_count": 54,
   "metadata": {
    "ExecuteTime": {
     "end_time": "2020-03-02T11:16:37.319311Z",
     "start_time": "2020-03-02T11:16:37.312324Z"
    }
   },
   "outputs": [
    {
     "data": {
      "text/plain": [
       "2.1"
      ]
     },
     "execution_count": 54,
     "metadata": {},
     "output_type": "execute_result"
    }
   ],
   "source": [
    "d = c / n\n",
    "d"
   ]
  },
  {
   "cell_type": "code",
   "execution_count": 55,
   "metadata": {
    "ExecuteTime": {
     "end_time": "2020-03-02T11:17:18.677122Z",
     "start_time": "2020-03-02T11:17:18.668575Z"
    }
   },
   "outputs": [
    {
     "data": {
      "text/plain": [
       "420.0"
      ]
     },
     "execution_count": 55,
     "metadata": {},
     "output_type": "execute_result"
    }
   ],
   "source": [
    "e = d * N\n",
    "e"
   ]
  },
  {
   "cell_type": "code",
   "execution_count": 67,
   "metadata": {
    "ExecuteTime": {
     "end_time": "2020-03-02T11:34:08.870122Z",
     "start_time": "2020-03-02T11:34:08.863143Z"
    }
   },
   "outputs": [],
   "source": [
    "perc = 0.95\n",
    "t = sp.stats.norm.ppf((1 + perc) / 2)\n"
   ]
  },
  {
   "cell_type": "code",
   "execution_count": 62,
   "metadata": {
    "ExecuteTime": {
     "end_time": "2020-03-02T11:28:20.583595Z",
     "start_time": "2020-03-02T11:28:20.579851Z"
    }
   },
   "outputs": [],
   "source": [
    "g = (b*b*a).sum()"
   ]
  },
  {
   "cell_type": "code",
   "execution_count": 63,
   "metadata": {
    "ExecuteTime": {
     "end_time": "2020-03-02T11:28:22.258143Z",
     "start_time": "2020-03-02T11:28:22.254161Z"
    }
   },
   "outputs": [],
   "source": [
    "y = (c ** 2)/n"
   ]
  },
  {
   "cell_type": "code",
   "execution_count": 64,
   "metadata": {
    "ExecuteTime": {
     "end_time": "2020-03-02T11:29:10.811553Z",
     "start_time": "2020-03-02T11:29:10.804569Z"
    }
   },
   "outputs": [
    {
     "data": {
      "text/plain": [
       "8.621052631578948"
      ]
     },
     "execution_count": 64,
     "metadata": {},
     "output_type": "execute_result"
    }
   ],
   "source": [
    "s2=(1/(n-1))*(g-y)\n",
    "s2"
   ]
  },
  {
   "cell_type": "code",
   "execution_count": 65,
   "metadata": {
    "ExecuteTime": {
     "end_time": "2020-03-02T11:29:48.556161Z",
     "start_time": "2020-03-02T11:29:48.550174Z"
    }
   },
   "outputs": [
    {
     "data": {
      "text/plain": [
       "2.9361629095775577"
      ]
     },
     "execution_count": 65,
     "metadata": {},
     "output_type": "execute_result"
    }
   ],
   "source": [
    "s = np.sqrt(s2)\n",
    "s"
   ]
  },
  {
   "cell_type": "code",
   "execution_count": 70,
   "metadata": {
    "ExecuteTime": {
     "end_time": "2020-03-02T11:36:26.573638Z",
     "start_time": "2020-03-02T11:36:26.566657Z"
    }
   },
   "outputs": [
    {
     "data": {
      "text/plain": [
       "0.1"
      ]
     },
     "execution_count": 70,
     "metadata": {},
     "output_type": "execute_result"
    }
   ],
   "source": [
    "f"
   ]
  },
  {
   "cell_type": "code",
   "execution_count": 66,
   "metadata": {
    "ExecuteTime": {
     "end_time": "2020-03-02T11:32:25.023707Z",
     "start_time": "2020-03-02T11:32:25.014747Z"
    }
   },
   "outputs": [
    {
     "data": {
      "text/plain": [
       "0.6228542112092144"
      ]
     },
     "execution_count": 66,
     "metadata": {},
     "output_type": "execute_result"
    }
   ],
   "source": [
    "f=n/N\n",
    "se = (s* np.sqrt(1-f))/(np.sqrt(n))\n",
    "se"
   ]
  },
  {
   "cell_type": "code",
   "execution_count": 68,
   "metadata": {
    "ExecuteTime": {
     "end_time": "2020-03-02T11:35:00.712053Z",
     "start_time": "2020-03-02T11:35:00.703604Z"
    }
   },
   "outputs": [
    {
     "data": {
      "text/plain": [
       "175.8456356821672"
      ]
     },
     "execution_count": 68,
     "metadata": {},
     "output_type": "execute_result"
    }
   ],
   "source": [
    "ci_left = (d - t*se) * N\n",
    "ci_left"
   ]
  },
  {
   "cell_type": "code",
   "execution_count": 69,
   "metadata": {
    "ExecuteTime": {
     "end_time": "2020-03-02T11:35:54.266169Z",
     "start_time": "2020-03-02T11:35:54.258552Z"
    }
   },
   "outputs": [
    {
     "data": {
      "text/plain": [
       "664.1543643178329"
      ]
     },
     "execution_count": 69,
     "metadata": {},
     "output_type": "execute_result"
    }
   ],
   "source": [
    "ci_right = (d + t*se) * N\n",
    "ci_right"
   ]
  },
  {
   "cell_type": "code",
   "execution_count": 71,
   "metadata": {
    "ExecuteTime": {
     "end_time": "2020-03-02T11:43:04.105601Z",
     "start_time": "2020-03-02T11:43:04.094629Z"
    }
   },
   "outputs": [
    {
     "data": {
      "text/plain": [
       "(array([ 1,  2,  3,  4,  5,  6,  7,  8,  9, 10]),\n",
       " array([4, 2, 2, 1, 1, 0, 0, 0, 1, 1]))"
      ]
     },
     "execution_count": 71,
     "metadata": {},
     "output_type": "execute_result"
    }
   ],
   "source": [
    "N=140\n",
    "n=12\n",
    "a=np.arange(1,11)\n",
    "b=np.array([4, 2, 2, 1, 1, 0, 0, 0, 1, 1])\n",
    "a,b"
   ]
  },
  {
   "cell_type": "code",
   "execution_count": 72,
   "metadata": {
    "ExecuteTime": {
     "end_time": "2020-03-02T11:43:17.466164Z",
     "start_time": "2020-03-02T11:43:17.458166Z"
    }
   },
   "outputs": [
    {
     "data": {
      "text/plain": [
       "0.08571428571428572"
      ]
     },
     "execution_count": 72,
     "metadata": {},
     "output_type": "execute_result"
    }
   ],
   "source": [
    "f=n/N\n",
    "f"
   ]
  },
  {
   "cell_type": "code",
   "execution_count": 74,
   "metadata": {
    "ExecuteTime": {
     "end_time": "2020-03-02T11:44:25.229935Z",
     "start_time": "2020-03-02T11:44:25.220601Z"
    }
   },
   "outputs": [
    {
     "data": {
      "text/plain": [
       "3.5"
      ]
     },
     "execution_count": 74,
     "metadata": {},
     "output_type": "execute_result"
    }
   ],
   "source": [
    "y_mean = ((a*b).sum())/n\n",
    "y_mean"
   ]
  },
  {
   "cell_type": "code",
   "execution_count": 76,
   "metadata": {
    "ExecuteTime": {
     "end_time": "2020-03-02T11:47:38.391114Z",
     "start_time": "2020-03-02T11:47:38.383014Z"
    }
   },
   "outputs": [
    {
     "data": {
      "text/plain": [
       "9.545454545454545"
      ]
     },
     "execution_count": 76,
     "metadata": {},
     "output_type": "execute_result"
    }
   ],
   "source": [
    "s2=(1/(n-1))*((a*a*b).sum()-(n*y_mean**2))\n",
    "s2"
   ]
  },
  {
   "cell_type": "code",
   "execution_count": 77,
   "metadata": {
    "ExecuteTime": {
     "end_time": "2020-03-02T11:47:55.787536Z",
     "start_time": "2020-03-02T11:47:55.780047Z"
    }
   },
   "outputs": [
    {
     "data": {
      "text/plain": [
       "3.089571903266623"
      ]
     },
     "execution_count": 77,
     "metadata": {},
     "output_type": "execute_result"
    }
   ],
   "source": [
    "s=np.sqrt(s2)\n",
    "s"
   ]
  },
  {
   "cell_type": "code",
   "execution_count": 78,
   "metadata": {
    "ExecuteTime": {
     "end_time": "2020-03-02T11:49:06.669402Z",
     "start_time": "2020-03-02T11:49:06.662404Z"
    }
   },
   "outputs": [
    {
     "data": {
      "text/plain": [
       "0.8528028654224417"
      ]
     },
     "execution_count": 78,
     "metadata": {},
     "output_type": "execute_result"
    }
   ],
   "source": [
    "y_mean_std=s*np.sqrt(1-f)/np.sqrt(n)\n",
    "y_mean_std"
   ]
  },
  {
   "cell_type": "code",
   "execution_count": 79,
   "metadata": {
    "ExecuteTime": {
     "end_time": "2020-03-02T11:50:20.919856Z",
     "start_time": "2020-03-02T11:50:20.912875Z"
    }
   },
   "outputs": [
    {
     "data": {
      "text/plain": [
       "490.0"
      ]
     },
     "execution_count": 79,
     "metadata": {},
     "output_type": "execute_result"
    }
   ],
   "source": [
    "Y=y_mean*N\n",
    "Y"
   ]
  },
  {
   "cell_type": "code",
   "execution_count": 80,
   "metadata": {
    "ExecuteTime": {
     "end_time": "2020-03-02T11:53:29.756568Z",
     "start_time": "2020-03-02T11:53:29.747370Z"
    }
   },
   "outputs": [
    {
     "data": {
      "text/plain": [
       "1.959963984540054"
      ]
     },
     "execution_count": 80,
     "metadata": {},
     "output_type": "execute_result"
    }
   ],
   "source": [
    "t=sp.stats.norm.ppf((1+perc)/2)\n",
    "t"
   ]
  },
  {
   "cell_type": "code",
   "execution_count": 81,
   "metadata": {
    "ExecuteTime": {
     "end_time": "2020-03-02T11:54:55.998039Z",
     "start_time": "2020-03-02T11:54:55.989063Z"
    }
   },
   "outputs": [
    {
     "data": {
      "text/plain": [
       "(255.9951937003238, 724.0048062996763)"
      ]
     },
     "execution_count": 81,
     "metadata": {},
     "output_type": "execute_result"
    }
   ],
   "source": [
    "ci_left = (y_mean-t*y_mean_std)*N\n",
    "ci_right = (y_mean+t*y_mean_std)*N\n",
    "ci_left, ci_right"
   ]
  },
  {
   "cell_type": "code",
   "execution_count": null,
   "metadata": {},
   "outputs": [],
   "source": []
  }
 ],
 "metadata": {
  "kernelspec": {
   "display_name": "Python 3",
   "language": "python",
   "name": "python3"
  },
  "language_info": {
   "codemirror_mode": {
    "name": "ipython",
    "version": 3
   },
   "file_extension": ".py",
   "mimetype": "text/x-python",
   "name": "python",
   "nbconvert_exporter": "python",
   "pygments_lexer": "ipython3",
   "version": "3.7.3"
  },
  "toc": {
   "base_numbering": 1,
   "nav_menu": {},
   "number_sections": true,
   "sideBar": true,
   "skip_h1_title": false,
   "title_cell": "Table of Contents",
   "title_sidebar": "Contents",
   "toc_cell": false,
   "toc_position": {},
   "toc_section_display": true,
   "toc_window_display": false
  },
  "varInspector": {
   "cols": {
    "lenName": 16,
    "lenType": 16,
    "lenVar": 40
   },
   "kernels_config": {
    "python": {
     "delete_cmd_postfix": "",
     "delete_cmd_prefix": "del ",
     "library": "var_list.py",
     "varRefreshCmd": "print(var_dic_list())"
    },
    "r": {
     "delete_cmd_postfix": ") ",
     "delete_cmd_prefix": "rm(",
     "library": "var_list.r",
     "varRefreshCmd": "cat(var_dic_list()) "
    }
   },
   "types_to_exclude": [
    "module",
    "function",
    "builtin_function_or_method",
    "instance",
    "_Feature"
   ],
   "window_display": false
  }
 },
 "nbformat": 4,
 "nbformat_minor": 2
}
