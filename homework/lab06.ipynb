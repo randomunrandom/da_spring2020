{
 "cells": [
  {
   "cell_type": "markdown",
   "metadata": {},
   "source": [
    "Лабораторная работа #6\n",
    "======================\n",
    "\n",
    "Имеется датасет, содержащий 3 непрерывных предиктивных переменные, и одну целевую переменную (задача \n",
    "регрессии).\n",
    "\n",
    "Необходимо построить модель множественной линейной регресии, определить параметры модели, исследовать выполнение \n",
    "свойств модели. \n",
    "\n",
    "Уровень значимости в статистических критериях принять равным 0,05.\n",
    "    \n",
    "Итоговый файл **Jupyter Notebook** должен содержать полное решение задач, в том числе: \n",
    "\n",
    "* уравнение построенной линейной модели;\n",
    "* графики совместных распределений предикторов и целевой переменной (на графики также нанести линию, соответствующую уравнению построенной линейной модели);\n",
    "* график распределения остатков модели;\n",
    "* проверка нормальности распределения остатков (с формулировкой вывода на основе критерия);\n",
    "* проверка отсутствия систематической ошибки (с формулировкой вывода на основе критерия; использовать критерий Стьюдента для одной выборки);\n",
    "* графики совместных распределений предикторов и эмпирических значений целевой переменной против остатков;\n",
    "* проверка отсутствия линейной зависимости между всеми предикторами и остатками (с формулировкой вывода на основе критерия);\n",
    "* проверка отсутствия линейной зависимости между эмпирическими значениями целевой переменной и остатками (с формулировкой вывода на основе критерия);\n",
    "* вычислить коэффициент детерминации модели;\n",
    "* вычислить несмещенный коэффициент детерминации модели.\n",
    "\n",
    "Студенты НИ реализуют вычисление параметров регрессионной модели самостоятельно, методом наименьших квадратов. В качестве критериев проверки линейной зависимости использовать реализованные ранее критерии Спирмена/Кендалла.\n",
    "\n",
    "PS: эмпирическое значение целевой переменной - значение y, вычисленное для заданного набора параметров X с использованием построенной линейной модели (вместо фактического значения, заданного по условию).\n"
   ]
  },
  {
   "cell_type": "markdown",
   "metadata": {},
   "source": [
    "уравнение построенной линейной модели:\n",
    "$$ x = \\theta_1 + h_k \\theta_2 + E_k$$\n",
    "где {hk} - наблюдения\n",
    "\n",
    "или (более привычный для меня вариант):\n",
    "$$ y_i = w_0 + w_1*x_i + \\epsilon_i$$\n",
    "\n",
    "в матричном виде:\n",
    "$$ y = WX + E $$\n",
    "\n",
    "матрицу параметров(W):\n",
    "$$W = (X^T X)^{-1} X^Ty$$"
   ]
  },
  {
   "cell_type": "code",
   "execution_count": 1,
   "metadata": {},
   "outputs": [
    {
     "name": "stdout",
     "output_type": "stream",
     "text": [
      "Requirement already satisfied: sklearn in /home/random/.miniconda3/envs/AD/lib/python3.8/site-packages (0.0)\n",
      "Requirement already satisfied: scikit-learn in /home/random/.miniconda3/envs/AD/lib/python3.8/site-packages (from sklearn) (0.22.2.post1)\n",
      "Requirement already satisfied: scipy>=0.17.0 in /home/random/.miniconda3/envs/AD/lib/python3.8/site-packages (from scikit-learn->sklearn) (1.4.1)\n",
      "Requirement already satisfied: joblib>=0.11 in /home/random/.miniconda3/envs/AD/lib/python3.8/site-packages (from scikit-learn->sklearn) (0.14.1)\n",
      "Requirement already satisfied: numpy>=1.11.0 in /home/random/.miniconda3/envs/AD/lib/python3.8/site-packages (from scikit-learn->sklearn) (1.18.1)\n"
     ]
    }
   ],
   "source": [
    "!pip install sklearn"
   ]
  },
  {
   "cell_type": "code",
   "execution_count": 2,
   "metadata": {},
   "outputs": [],
   "source": [
    "from pathlib import Path\n",
    "from typing import List, Tuple\n",
    "\n",
    "import pandas as pd\n",
    "import numpy as np\n",
    "from scipy import stats\n",
    "from sklearn.linear_model import LinearRegression\n",
    "\n",
    "import matplotlib.pyplot as plt\n",
    "%matplotlib inline\n",
    "\n",
    "import seaborn as sns; sns.set()\n",
    "\n",
    "ROOT_PATH = Path(\".\")\n",
    "alpha = 0.05"
   ]
  },
  {
   "cell_type": "code",
   "execution_count": 3,
   "metadata": {},
   "outputs": [
    {
     "data": {
      "text/html": [
       "<div>\n",
       "<style scoped>\n",
       "    .dataframe tbody tr th:only-of-type {\n",
       "        vertical-align: middle;\n",
       "    }\n",
       "\n",
       "    .dataframe tbody tr th {\n",
       "        vertical-align: top;\n",
       "    }\n",
       "\n",
       "    .dataframe thead th {\n",
       "        text-align: right;\n",
       "    }\n",
       "</style>\n",
       "<table border=\"1\" class=\"dataframe\">\n",
       "  <thead>\n",
       "    <tr style=\"text-align: right;\">\n",
       "      <th></th>\n",
       "      <th>x1</th>\n",
       "      <th>x2</th>\n",
       "      <th>x3</th>\n",
       "      <th>y</th>\n",
       "    </tr>\n",
       "  </thead>\n",
       "  <tbody>\n",
       "    <tr>\n",
       "      <th>0</th>\n",
       "      <td>158.988784</td>\n",
       "      <td>-85.841379</td>\n",
       "      <td>17.138690</td>\n",
       "      <td>423.909011</td>\n",
       "    </tr>\n",
       "    <tr>\n",
       "      <th>1</th>\n",
       "      <td>125.958011</td>\n",
       "      <td>-24.878022</td>\n",
       "      <td>13.218044</td>\n",
       "      <td>320.105911</td>\n",
       "    </tr>\n",
       "    <tr>\n",
       "      <th>2</th>\n",
       "      <td>147.855769</td>\n",
       "      <td>-24.768728</td>\n",
       "      <td>6.782890</td>\n",
       "      <td>782.221805</td>\n",
       "    </tr>\n",
       "    <tr>\n",
       "      <th>3</th>\n",
       "      <td>118.055524</td>\n",
       "      <td>-30.056958</td>\n",
       "      <td>14.711590</td>\n",
       "      <td>727.600969</td>\n",
       "    </tr>\n",
       "    <tr>\n",
       "      <th>4</th>\n",
       "      <td>170.678001</td>\n",
       "      <td>-20.073177</td>\n",
       "      <td>14.334704</td>\n",
       "      <td>1096.215173</td>\n",
       "    </tr>\n",
       "    <tr>\n",
       "      <th>...</th>\n",
       "      <td>...</td>\n",
       "      <td>...</td>\n",
       "      <td>...</td>\n",
       "      <td>...</td>\n",
       "    </tr>\n",
       "    <tr>\n",
       "      <th>95</th>\n",
       "      <td>79.163114</td>\n",
       "      <td>-105.464052</td>\n",
       "      <td>5.920676</td>\n",
       "      <td>-407.922557</td>\n",
       "    </tr>\n",
       "    <tr>\n",
       "      <th>96</th>\n",
       "      <td>119.307847</td>\n",
       "      <td>-28.809783</td>\n",
       "      <td>11.144945</td>\n",
       "      <td>478.166866</td>\n",
       "    </tr>\n",
       "    <tr>\n",
       "      <th>97</th>\n",
       "      <td>138.962268</td>\n",
       "      <td>-56.677041</td>\n",
       "      <td>5.680922</td>\n",
       "      <td>581.113221</td>\n",
       "    </tr>\n",
       "    <tr>\n",
       "      <th>98</th>\n",
       "      <td>124.060416</td>\n",
       "      <td>-120.712378</td>\n",
       "      <td>1.813663</td>\n",
       "      <td>-384.584353</td>\n",
       "    </tr>\n",
       "    <tr>\n",
       "      <th>99</th>\n",
       "      <td>33.915909</td>\n",
       "      <td>-19.922771</td>\n",
       "      <td>12.017832</td>\n",
       "      <td>315.434462</td>\n",
       "    </tr>\n",
       "  </tbody>\n",
       "</table>\n",
       "<p>100 rows × 4 columns</p>\n",
       "</div>"
      ],
      "text/plain": [
       "            x1          x2         x3            y\n",
       "0   158.988784  -85.841379  17.138690   423.909011\n",
       "1   125.958011  -24.878022  13.218044   320.105911\n",
       "2   147.855769  -24.768728   6.782890   782.221805\n",
       "3   118.055524  -30.056958  14.711590   727.600969\n",
       "4   170.678001  -20.073177  14.334704  1096.215173\n",
       "..         ...         ...        ...          ...\n",
       "95   79.163114 -105.464052   5.920676  -407.922557\n",
       "96  119.307847  -28.809783  11.144945   478.166866\n",
       "97  138.962268  -56.677041   5.680922   581.113221\n",
       "98  124.060416 -120.712378   1.813663  -384.584353\n",
       "99   33.915909  -19.922771  12.017832   315.434462\n",
       "\n",
       "[100 rows x 4 columns]"
      ]
     },
     "execution_count": 3,
     "metadata": {},
     "output_type": "execute_result"
    }
   ],
   "source": [
    "data_path = ROOT_PATH / '..' / 'data' / 'lw6' / 'projects' / '1032173841'\n",
    "data_path = data_path.resolve()\n",
    "\n",
    "df = pd.read_csv(data_path/'task.csv')\n",
    "df"
   ]
  },
  {
   "cell_type": "code",
   "execution_count": 4,
   "metadata": {},
   "outputs": [],
   "source": [
    "x = df[[\"x1\", \"x2\", \"x3\"]].values\n",
    "\n",
    "x1 = df[[\"x1\"]].values.ravel()\n",
    "x1_argmin = x1.argmin()\n",
    "x1_argmax = x1.argmax()\n",
    "x1_minimax = np.array([x1.min(), x1.max()])\n",
    "\n",
    "x2 = df[[\"x2\"]].values.ravel()\n",
    "x2_argmin = x2.argmin()\n",
    "x2_argmax = x2.argmax()\n",
    "x2_minimax = np.array([x2.min(), x2.max()])\n",
    "\n",
    "x3 = df[[\"x3\"]].values.ravel()\n",
    "x3_argmin = x3.argmin()\n",
    "x3_argmax = x3.argmax()\n",
    "x3_minimax = np.array([x3.min(), x3.max()])\n",
    "\n",
    "y = df[[\"y\"]].values.ravel()"
   ]
  },
  {
   "cell_type": "code",
   "execution_count": 5,
   "metadata": {},
   "outputs": [
    {
     "name": "stdout",
     "output_type": "stream",
     "text": [
      "[4.18757424 7.4385328  4.9554564 ] 39.03566133393714\n",
      "[4.18757424 7.4385328  4.9554564 ] 39.03566133393707\n"
     ]
    }
   ],
   "source": [
    "def model(x, y):\n",
    "    \"\"\"функцию, которая находит уравнение линейной регрессии\"\"\"\n",
    "    x = np.array(x)\n",
    "    y = np.array(y)\n",
    "    \n",
    "    x = np.column_stack((x, np.ones(x.shape[0])))\n",
    "    W_inverted = np.linalg.inv(x.T @ x)\n",
    "    model = W_inverted @ x.T @ y\n",
    "    model = model.ravel()\n",
    "    return model[:-1], model[-1]\n",
    "\n",
    "m = LinearRegression()\n",
    "m.fit(x, y)\n",
    "\n",
    "weights, intercept = model(x, y)\n",
    "\n",
    "print(weights, intercept)\n",
    "print(m.coef_, m.intercept_)"
   ]
  },
  {
   "cell_type": "code",
   "execution_count": 6,
   "metadata": {},
   "outputs": [
    {
     "data": {
      "text/plain": [
       "True"
      ]
     },
     "execution_count": 6,
     "metadata": {},
     "output_type": "execute_result"
    }
   ],
   "source": [
    "y_pred = x @ weights + intercept\n",
    "y_alt_pred = m.predict(x)\n",
    "y_pred.all() == y_alt_pred.all()"
   ]
  },
  {
   "cell_type": "markdown",
   "metadata": {},
   "source": [
    "графики совместных распределений x[1, 2, 3] (предикторов) и y (целевой переменной) с уравнением модели(зелёная линия - реализованная мной, красные точки(плюсы) - реализация из scipy)"
   ]
  },
  {
   "cell_type": "code",
   "execution_count": 7,
   "metadata": {},
   "outputs": [
    {
     "data": {
      "image/png": "[encoded data removed]",
      "text/plain": [
       "<Figure size 432x288 with 1 Axes>"
      ]
     },
     "metadata": {},
     "output_type": "display_data"
    }
   ],
   "source": [
    "sns.scatterplot(x1, y)\n",
    "plt.plot(x1_minimax, y_pred[[x1_argmin, x1_argmax]], 'g')\n",
    "plt.plot(x1_minimax, y_alt_pred[[x1_argmin, x1_argmax]], 'r+')\n",
    "plt.xlabel('x1')\n",
    "plt.ylabel('y')\n",
    "plt.show()"
   ]
  },
  {
   "cell_type": "code",
   "execution_count": 8,
   "metadata": {},
   "outputs": [
    {
     "data": {
      "image/png": "[encoded data removed]",
      "text/plain": [
       "<Figure size 432x288 with 1 Axes>"
      ]
     },
     "metadata": {},
     "output_type": "display_data"
    }
   ],
   "source": [
    "sns.scatterplot(x2, y)\n",
    "plt.plot(x2_minimax, y_pred[[x2_argmin, x2_argmax]], 'g')\n",
    "plt.plot(x2_minimax, y_alt_pred[[x2_argmin, x2_argmax]], 'r+')\n",
    "plt.xlabel('x2')\n",
    "plt.ylabel('y')\n",
    "plt.show()"
   ]
  },
  {
   "cell_type": "code",
   "execution_count": 9,
   "metadata": {},
   "outputs": [
    {
     "data": {
      "image/png": "[encoded data removed]",
      "text/plain": [
       "<Figure size 432x288 with 1 Axes>"
      ]
     },
     "metadata": {},
     "output_type": "display_data"
    }
   ],
   "source": [
    "sns.scatterplot(x3, y)\n",
    "plt.plot(x3_minimax, y_pred[[x3_argmin, x3_argmax]], 'g')\n",
    "plt.plot(x3_minimax, y_alt_pred[[x3_argmin, x3_argmax]], 'r+')\n",
    "plt.xlabel('x3')\n",
    "plt.ylabel('y')\n",
    "plt.show()"
   ]
  },
  {
   "cell_type": "markdown",
   "metadata": {},
   "source": [
    "график распределения остатков модели"
   ]
  },
  {
   "cell_type": "code",
   "execution_count": 10,
   "metadata": {},
   "outputs": [
    {
     "data": {
      "text/plain": [
       "<matplotlib.axes._subplots.AxesSubplot at 0x7f1d9c1c8ee0>"
      ]
     },
     "execution_count": 10,
     "metadata": {},
     "output_type": "execute_result"
    },
    {
     "data": {
      "image/png": "[encoded data removed]",
      "text/plain": [
       "<Figure size 432x288 with 1 Axes>"
      ]
     },
     "metadata": {},
     "output_type": "display_data"
    }
   ],
   "source": [
    "dy = y - y_pred\n",
    "sns.distplot(dy)"
   ]
  },
  {
   "cell_type": "markdown",
   "metadata": {},
   "source": [
    "проверка остатков на нормальность"
   ]
  },
  {
   "cell_type": "code",
   "execution_count": 11,
   "metadata": {},
   "outputs": [
    {
     "name": "stdout",
     "output_type": "stream",
     "text": [
      "confirm H0\n"
     ]
    }
   ],
   "source": [
    "_, p_shapiro = stats.shapiro(dy)\n",
    "# print(f\"{p_shapiro=}\")\n",
    "if p_shapiro >= alpha:\n",
    "    h_shapiro = 0\n",
    "    print(\"confirm H0\")\n",
    "else:\n",
    "    h_shapiro = 3\n",
    "    print(\"reject H0\")"
   ]
  },
  {
   "cell_type": "markdown",
   "metadata": {},
   "source": [
    "остатки имеют нормальное распределение\n",
    "\n",
    "проверка отсутствия систематической ошибки с помощью критерия Стьюдента"
   ]
  },
  {
   "cell_type": "code",
   "execution_count": 12,
   "metadata": {},
   "outputs": [
    {
     "name": "stdout",
     "output_type": "stream",
     "text": [
      "confirm H0\n"
     ]
    }
   ],
   "source": [
    "_, p_samp = stats.ttest_1samp(dy, 0)\n",
    "# print(f\"{p_samp=}\")\n",
    "if p_samp >= alpha:\n",
    "    h_samp = 0\n",
    "    print(\"confirm H0\")\n",
    "else:\n",
    "    h_samp = 1\n",
    "    print(\"reject H0\")"
   ]
  },
  {
   "cell_type": "markdown",
   "metadata": {},
   "source": [
    "подтверждение нулевой гипотезы -> систематическая ошибка отсутствует\n",
    "\n",
    "графики совместных распределений предикторов и эмпирических значений целевой переменной против остатков"
   ]
  },
  {
   "cell_type": "code",
   "execution_count": 13,
   "metadata": {},
   "outputs": [
    {
     "data": {
      "text/plain": [
       "Text(0, 0.5, 'остатки')"
      ]
     },
     "execution_count": 13,
     "metadata": {},
     "output_type": "execute_result"
    },
    {
     "data": {
      "image/png": "[encoded data removed]",
      "text/plain": [
       "<Figure size 432x288 with 1 Axes>"
      ]
     },
     "metadata": {},
     "output_type": "display_data"
    }
   ],
   "source": [
    "sns.scatterplot(x1, dy)\n",
    "plt.xlabel(\"x1\")\n",
    "plt.ylabel(\"остатки\")"
   ]
  },
  {
   "cell_type": "code",
   "execution_count": 14,
   "metadata": {},
   "outputs": [
    {
     "data": {
      "text/plain": [
       "Text(0, 0.5, 'остатки')"
      ]
     },
     "execution_count": 14,
     "metadata": {},
     "output_type": "execute_result"
    },
    {
     "data": {
      "image/png": "[encoded data removed]",
      "text/plain": [
       "<Figure size 432x288 with 1 Axes>"
      ]
     },
     "metadata": {},
     "output_type": "display_data"
    }
   ],
   "source": [
    "sns.scatterplot(x2, dy)\n",
    "plt.xlabel(\"x2\")\n",
    "plt.ylabel(\"остатки\")"
   ]
  },
  {
   "cell_type": "code",
   "execution_count": 15,
   "metadata": {},
   "outputs": [
    {
     "data": {
      "text/plain": [
       "Text(0, 0.5, 'остатки')"
      ]
     },
     "execution_count": 15,
     "metadata": {},
     "output_type": "execute_result"
    },
    {
     "data": {
      "image/png": "[encoded data removed]",
      "text/plain": [
       "<Figure size 432x288 with 1 Axes>"
      ]
     },
     "metadata": {},
     "output_type": "display_data"
    }
   ],
   "source": [
    "sns.scatterplot(x3, dy)\n",
    "plt.xlabel(\"x3\")\n",
    "plt.ylabel(\"остатки\")"
   ]
  },
  {
   "cell_type": "code",
   "execution_count": 16,
   "metadata": {},
   "outputs": [
    {
     "data": {
      "image/png": "[encoded data removed]",
      "text/plain": [
       "<Figure size 432x288 with 1 Axes>"
      ]
     },
     "metadata": {},
     "output_type": "display_data"
    }
   ],
   "source": [
    "sns.scatterplot(y, dy)\n",
    "plt.xlabel(\"предсказания\")\n",
    "plt.ylabel(\"остатки\")\n",
    "plt.show()"
   ]
  },
  {
   "cell_type": "markdown",
   "metadata": {},
   "source": [
    "проверка отсутствия линейной зависимости между всеми предикторами и остатками"
   ]
  },
  {
   "cell_type": "code",
   "execution_count": 17,
   "metadata": {},
   "outputs": [
    {
     "name": "stdout",
     "output_type": "stream",
     "text": [
      "(-0.25218774047313713, 0.8014241039349217)\n",
      "SpearmanrResult(correlation=-0.025466546654665464, pvalue=0.8014241039349217)\n"
     ]
    }
   ],
   "source": [
    "def spearman(x, y):\n",
    "    x = np.array(x)\n",
    "    y = np.array(y)\n",
    "    n = x.size\n",
    "    \n",
    "    x_ranked = stats.rankdata(x) #R\n",
    "    y_ranked = stats.rankdata(y) #S\n",
    "    \n",
    "    r = np.sum((\n",
    "        (x_ranked - x_ranked.mean()) * (y_ranked - y_ranked.mean()) /\n",
    "    #   --------------------------------\n",
    "        np.sqrt( np.sum((x_ranked - x_ranked.mean()) ** 2) * np.sum((y_ranked - y_ranked.mean()) ** 2))\n",
    "    ))\n",
    "    \n",
    "    stat = np.sqrt(n - 2) * r / np.sqrt(1 - r ** 2)\n",
    "    p = 2 * min(stats.t.cdf(stat, n - 2), 1 - stats.t.cdf(stat, n - 2))\n",
    "    \n",
    "    return stat, p\n",
    "\n",
    "print(spearman(x1, dy))\n",
    "print(stats.spearmanr(x1, dy))"
   ]
  },
  {
   "cell_type": "code",
   "execution_count": 18,
   "metadata": {},
   "outputs": [
    {
     "name": "stdout",
     "output_type": "stream",
     "text": [
      "all h0 are confirmed\n"
     ]
    }
   ],
   "source": [
    "_, p_spearman_x1 = spearman(x1, dy)\n",
    "_, p_spearman_x2 = spearman(x1, dy)\n",
    "_, p_spearman_x3 = spearman(x1, dy)\n",
    "if (p_spearman_x1 > alpha) and (p_spearman_x2 > alpha) and (p_spearman_x3 > alpha):\n",
    "    print(\"all h0 are confirmed\")\n",
    "else:\n",
    "    print(\"not all h0 are confirmed\")"
   ]
  },
  {
   "cell_type": "markdown",
   "metadata": {},
   "source": [
    "все нулевый гипотезы подтвердились, следовательно между всеми предикторами и остатками отсутствует линейная зависимость\n",
    "\n",
    "проверка отсутствия линейной зависимости между эмпирическими значениями целевой переменной и остатками"
   ]
  },
  {
   "cell_type": "code",
   "execution_count": 19,
   "metadata": {},
   "outputs": [
    {
     "name": "stdout",
     "output_type": "stream",
     "text": [
      "h0 confirmed\n"
     ]
    }
   ],
   "source": [
    "_, p_spearman_y_pred = spearman(y_pred, dy)\n",
    "if p_spearman_y_pred > alpha:\n",
    "    print(\"h0 confirmed\")\n",
    "else:\n",
    "    print(\"h0 rejected\")"
   ]
  },
  {
   "cell_type": "markdown",
   "metadata": {},
   "source": [
    "нулевая гипотезы подтвердились, следовательно между эмпирическими значениями целевой переменной и остатками отсутствует линейная зависимость\n",
    "\n",
    "вычислить коэффициент детерминации модели\n",
    "\n",
    "вычислить несмещенный коэффициент детерминации модели\n",
    "\n",
    "p = 4 потому, что 3 предиктора + 1 константа"
   ]
  },
  {
   "cell_type": "code",
   "execution_count": 20,
   "metadata": {},
   "outputs": [
    {
     "data": {
      "text/plain": [
       "(0.7866392406313074, 0.7799717169010357)"
      ]
     },
     "execution_count": 20,
     "metadata": {},
     "output_type": "execute_result"
    }
   ],
   "source": [
    "def deter(y_true, y_pred, p):\n",
    "    assert y_pred.size == y_true.size\n",
    "    n = y_pred.size\n",
    "    dy = y_true - y_pred\n",
    "    R_sqrt = 1 - np.sum(dy * dy) / np.sum((y - y.mean()) * (y - y.mean()))\n",
    "    R_sqrt_adj = 1 - (n - 1) / (n - p) * np.sum(dy * dy) / np.sum((y - y.mean()) * (y - y.mean()))\n",
    "    return R_sqrt, R_sqrt_adj\n",
    "\n",
    "r, r_adj = deter(y, y_pred, 4)\n",
    "r, r_adj"
   ]
  },
  {
   "cell_type": "markdown",
   "metadata": {},
   "source": [
    "коэффициент детерменации = 0.7866392406313074\n",
    "\n",
    "несмещенный коэффициент детерменации = 0.7799717169010357"
   ]
  },
  {
   "cell_type": "code",
   "execution_count": null,
   "metadata": {},
   "outputs": [],
   "source": []
  }
 ],
 "metadata": {
  "kernelspec": {
   "display_name": "Python 3",
   "language": "python",
   "name": "python3"
  },
  "language_info": {
   "codemirror_mode": {
    "name": "ipython",
    "version": 3
   },
   "file_extension": ".py",
   "mimetype": "text/x-python",
   "name": "python",
   "nbconvert_exporter": "python",
   "pygments_lexer": "ipython3",
   "version": "3.8.0"
  }
 },
 "nbformat": 4,
 "nbformat_minor": 4
}
