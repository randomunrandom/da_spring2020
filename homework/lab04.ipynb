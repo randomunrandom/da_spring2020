{
 "cells": [
  {
   "cell_type": "markdown",
   "metadata": {},
   "source": [
    "Лабораторная работа №4\n",
    "======================\n",
    "\n",
    "Необходимо решить следующие задачи из общего списка данной лабораторной работы: 3, 24, 8.\n",
    "    \n",
    "Для решения задач применить корректную процедуру, используя наиболее подходящие критерии (согласно условиям задачи, их мощности и предположениям).\n",
    "\n",
    "Уровень значимости принять равным 0,05 - в тех задачах, где он не указан.\n",
    "    \n",
    "Итоговый файл **.csv** должен содержать 3 строки по 4 числа в каждой: \n",
    "\n",
    "* номер задачи (3, 24, 8)\n",
    "* значение статистики, полученное при проверке гипотезы\n",
    "* p-значение статистики, полученной при проверке гипотезы\n",
    "* итоговая гипотеза - результат применения критерия (0, 1, 2 или 3)\n",
    "\n",
    "Формулировки заданий смотри [здесь](../data/lw4/projects/_content)"
   ]
  },
  {
   "cell_type": "code",
   "execution_count": 1,
   "metadata": {},
   "outputs": [],
   "source": [
    "from pathlib import Path\n",
    "\n",
    "from typing import List, Tuple\n",
    "import pandas as pd\n",
    "import numpy as np\n",
    "from scipy import stats\n",
    "\n",
    "\n",
    "root_path = Path(\".\")"
   ]
  },
  {
   "cell_type": "code",
   "execution_count": 2,
   "metadata": {},
   "outputs": [],
   "source": [
    "def create_csv_data(task_num: int) -> Path:\n",
    "    task2csv = {\n",
    "        3: \"\"\"Урожай,Осадки\n",
    "        27.57,4.15\n",
    "        29.06,5.46\n",
    "        34.12,6.43\n",
    "        28.67,5.44\n",
    "        30.93,5.72\n",
    "        33.00,6.37\n",
    "        33.22,7.57\n",
    "        23.25,2.02\n",
    "        29.39,6.88\n",
    "        15.81,3.45\n",
    "        31.93,6.02\n",
    "        28.25,2.07\n",
    "        22.40,2.41\n",
    "        33.33,5.81\n",
    "        26.87,4.20\"\"\",\n",
    "        8: \"\"\"Число детей,Благополучие\n",
    "        4,5\n",
    "        1,3\n",
    "        2,1\n",
    "        2,4\n",
    "        3,2\n",
    "        2,5\n",
    "        3,1\n",
    "        1,3\n",
    "        4,4\n",
    "        3,2\"\"\",\n",
    "        24: \"\"\"Возраст,NK-клетки\n",
    "        58.9,1.27\n",
    "        37.5,1.52\n",
    "        48.3,2.93\n",
    "        55.8,1.87\n",
    "        46.2,2.24\n",
    "        54.6,1.76\n",
    "        27.2,2.82\n",
    "        64.5,2.56\n",
    "        46.2,1.04\n",
    "        76.8,1.42\n",
    "        40.6,3.35\n",
    "        63,3.15\n",
    "        49,2.27\n",
    "        62.9,1.44\n",
    "        29,2.76\n",
    "        36,2.11\n",
    "        \"\"\"\n",
    "    }\n",
    "    if task_num not in task2csv:\n",
    "        raise ValueError(f\"Unknown task number {task_num}\") \n",
    "    csv = task2csv[task_num]\n",
    "    csv_path = root_path/f\"lab04_task{task_num:0>2}.csv\"\n",
    "    csv_path.write_text(csv)\n",
    "    return csv_path\n",
    "\n",
    "def mean(lst: List[float]) -> float:\n",
    "    return sum(lst)/len(lst)\n",
    "\n",
    "def var(lst: List[float]) -> float:\n",
    "    var = (\n",
    "        sum([(l_i - mean(lst))**2 for l_i in lst]) / \n",
    "    #   ------------------------------------------\n",
    "                         (len(lst)-1)\n",
    "    )\n",
    "    return var"
   ]
  },
  {
   "cell_type": "markdown",
   "metadata": {},
   "source": [
    "[задача №3](../data/lw4/projects/_content/КОР-3.pdf)\n",
    "----------------------------------------------------\n",
    "\n",
    "Имеются данные об урожайности земель в восточных графствах Англии (в\n",
    "центнерах на акр) и весеннем количестве осадков (в дюймах) за последние 15 лет.\n",
    "Выяснить, имеется ли статистическая зависимость между этими величинами, считая,\n",
    "что они имеют нормальное распределение. Уровень значимости примите равным 0,05."
   ]
  },
  {
   "cell_type": "code",
   "execution_count": 3,
   "metadata": {},
   "outputs": [
    {
     "name": "stdout",
     "output_type": "stream",
     "text": [
      "confirm H0 for both samples (normal distribution)\n"
     ]
    }
   ],
   "source": [
    "csv_03 = create_csv_data(3)\n",
    "df_03  = pd.read_csv(csv_03)\n",
    "\n",
    "alpha = 0.05\n",
    "\n",
    "lst = np.array([[row[\"Урожай\"], row[\"Осадки\"]] for _, row in df_03.iterrows()])\n",
    "s1 = [el[0] for el in lst]\n",
    "s2 = [el[1] for el in lst]\n",
    "\n",
    "s1_norm_s, s1_norm_p = stats.shapiro(s1)\n",
    "s2_norm_s, s2_norm_p = stats.shapiro(s2)\n",
    "if (s1_norm_p > alpha) and (s2_norm_s > alpha):\n",
    "    print(\"confirm H0 for both samples (normal distribution)\")\n",
    "else:\n",
    "    print(\"reject  H0 for both samples\")"
   ]
  },
  {
   "cell_type": "markdown",
   "metadata": {},
   "source": [
    "### Normal distribution in both samples -> Pirson"
   ]
  },
  {
   "cell_type": "code",
   "execution_count": 4,
   "metadata": {},
   "outputs": [
    {
     "name": "stdout",
     "output_type": "stream",
     "text": [
      "(0.7370191922758984, 0.0017197863962116777)\n"
     ]
    }
   ],
   "source": [
    "def pirson_test(x: List[float], y: List[float]) -> Tuple[float, float]:\n",
    "    # convert input to numpy array to ease calculations\n",
    "    x = np.array(x)\n",
    "    y = np.array(y)\n",
    "    \n",
    "    assert x.size == y.size\n",
    "    \n",
    "    x_mean = mean(x)\n",
    "    y_mean = mean(y)\n",
    "    \n",
    "    # substract val from every element of array\n",
    "    x_sub_m = x - x_mean\n",
    "    y_sub_m = y - y_mean\n",
    "    \n",
    "    r = (np.sum(x_sub_m*y_sub_m) /\n",
    "    #    ----------------------------------------------------\n",
    "         np.sqrt( np.sum(x_sub_m**2) * np.sum(y_sub_m**2) )\n",
    "    )\n",
    "    \n",
    "    n = x.size\n",
    "    dist = stats.beta(n/2 - 1, n/2 - 1, loc=-1, scale=2)\n",
    "    p = 2*dist.cdf(-abs(r))\n",
    "\n",
    "    \n",
    "    return r, p\n",
    "\n",
    "print(pirson_test(s1, s2))"
   ]
  },
  {
   "cell_type": "code",
   "execution_count": 5,
   "metadata": {},
   "outputs": [
    {
     "name": "stdout",
     "output_type": "stream",
     "text": [
      "realization same as in stats(for 5 numbers after delimetr)\n",
      "0.7370191922758984 0.0017197863962116777\n",
      "reject H0\n"
     ]
    }
   ],
   "source": [
    "stats_r_03, stats_p_03 = stats.pearsonr(s1, s2)\n",
    "r_03, p_03 = pirson_test(s1, s2)\n",
    "\n",
    "if (round(stats_r_03, 5) == round(r_03, 5)) and (round(stats_p_03, 5) == round(p_03, 5)):\n",
    "    print(\"realization same as in stats(for 5 numbers after delimetr)\")\n",
    "    print(r_03, p_03)\n",
    "else:\n",
    "    print(\"realization differes from stats\")\n",
    "    print(\"stats   mine\")\n",
    "    print(round(stats_r_03, 5), round(r_03, 5))\n",
    "    print(round(stats_p_03, 5), round(p_03, 5))\n",
    "\n",
    "if p_03 >= alpha:\n",
    "    h_03 = 0\n",
    "    print(\"confirm H0\")\n",
    "else:\n",
    "    h_03 = 3\n",
    "    print(\"reject H0\")"
   ]
  },
  {
   "cell_type": "markdown",
   "metadata": {},
   "source": [
    "[задача №8](../data/lw4/projects/_content/КОР-8.pdf)\n",
    "----------------------------------------------------\n",
    "\n",
    "Городской центр статистики собрал данные о количестве детей и материальном\n",
    "благополучии (по шкале от 1 до 5) десяти городских семей. Данные приведены в\n",
    "таблице. Проверьте гипотезу о независимости количества детей в семье от ее\n",
    "материального благополучия. Примите уровень значимости 0,05. "
   ]
  },
  {
   "cell_type": "code",
   "execution_count": 6,
   "metadata": {},
   "outputs": [
    {
     "name": "stdout",
     "output_type": "stream",
     "text": [
      "confirm H0 for both samples (normal distribution)\n"
     ]
    }
   ],
   "source": [
    "csv_08 = create_csv_data(8)\n",
    "df_08  = pd.read_csv(csv_08)\n",
    "\n",
    "alpha = 0.05\n",
    "\n",
    "lst = np.array([[row[\"Число детей\"], row[\"Благополучие\"]] for _, row in df_08.iterrows()])\n",
    "s1 = [el[0] for el in lst]\n",
    "s2 = [el[1] for el in lst]\n",
    "\n",
    "s1_norm_s, s1_norm_p = stats.shapiro(s1)\n",
    "s2_norm_s, s2_norm_p = stats.shapiro(s2)\n",
    "if (s1_norm_p > alpha) and (s2_norm_s > alpha):\n",
    "    print(\"confirm H0 for both samples (normal distribution)\")\n",
    "else:\n",
    "    print(\"reject  H0 for both samples\")"
   ]
  },
  {
   "cell_type": "markdown",
   "metadata": {},
   "source": [
    "### Normal distribution in both samples, but \"Благополучие\" can't be enumerated -> Spirman"
   ]
  },
  {
   "cell_type": "code",
   "execution_count": 7,
   "metadata": {},
   "outputs": [
    {
     "name": "stdout",
     "output_type": "stream",
     "text": [
      "(0.11430011430017145, 0.7532095147184963)\n"
     ]
    }
   ],
   "source": [
    "def spirman_test(x: List[float], y: List[float]) -> Tuple[float, float]:\n",
    "    # convert input to ranked numpy arrays\n",
    "    x = stats.rankdata(np.array(x))\n",
    "    y = stats.rankdata(np.array(y))\n",
    "    \n",
    "    return pirson_test(x, y)\n",
    "\n",
    "\n",
    "print(spirman_test(s1, s2))"
   ]
  },
  {
   "cell_type": "code",
   "execution_count": 8,
   "metadata": {},
   "outputs": [
    {
     "name": "stdout",
     "output_type": "stream",
     "text": [
      "realization same as in stats(for 5 numbers after delimetr)\n",
      "0.11430011430017145 0.7532095147184963\n",
      "confirm H0\n"
     ]
    }
   ],
   "source": [
    "stats_r_08, stats_p_08 = stats.spearmanr(s1, s2)\n",
    "r_08, p_08 = spirman_test(s1, s2)\n",
    "\n",
    "if (round(stats_r_08, 5) == round(r_08, 5)) and (round(stats_p_08, 5) == round(p_08, 5)):\n",
    "    print(\"realization same as in stats(for 5 numbers after delimetr)\")\n",
    "    print(r_08, p_08)\n",
    "else:\n",
    "    print(\"realization differes from stats\")\n",
    "    print(\"stats   mine\")\n",
    "    print(round(stats_r_08, 5), round(r_08, 5))\n",
    "    print(round(stats_p_08, 5), round(p_08, 5))\n",
    "\n",
    "if p_08 >= alpha:\n",
    "    h_08 = 0\n",
    "    print(\"confirm H0\")\n",
    "else:\n",
    "    h_08 = 3\n",
    "    print(\"reject H0\")"
   ]
  },
  {
   "cell_type": "markdown",
   "metadata": {},
   "source": [
    "[задача №24](../data/lw4/projects/_content/КОР-24.pdf)\n",
    "----------------------------------------------------\n",
    "\n",
    "В рамках исследований об изменениях иммунологических показателей крови на\n",
    "фоне развития раковых опухолей, проводится анализ взаимосвязи возраста подопытных\n",
    "мышей и их уровня NK-клеток. Данные приведены в таблице. Проверьте наличие\n",
    "взаимосвязи критерием Спирмена против альтернативы о том, что между параметрами\n",
    "существует отрицательная корреляция. Примите уровень значимости 0,05."
   ]
  },
  {
   "cell_type": "code",
   "execution_count": 9,
   "metadata": {},
   "outputs": [
    {
     "name": "stdout",
     "output_type": "stream",
     "text": [
      "confirm H0 for both samples (normal distribution)\n"
     ]
    }
   ],
   "source": [
    "csv_24 = create_csv_data(24)\n",
    "df_24  = pd.read_csv(csv_24)\n",
    "\n",
    "alpha = 0.05\n",
    "\n",
    "lst = np.array([[row[\"Возраст\"], row[\"NK-клетки\"]] for _, row in df_24.iterrows()])\n",
    "s1 = [el[0] for el in lst]\n",
    "s2 = [el[1] for el in lst]\n",
    "\n",
    "s1_norm_s, s1_norm_p = stats.shapiro(s1)\n",
    "s2_norm_s, s2_norm_p = stats.shapiro(s2)\n",
    "if (s1_norm_p > alpha) and (s2_norm_s > alpha):\n",
    "    print(\"confirm H0 for both samples (normal distribution)\")\n",
    "else:\n",
    "    print(\"reject  H0 for both samples\")"
   ]
  },
  {
   "cell_type": "markdown",
   "metadata": {},
   "source": [
    "### Normal distribution in both samples, but task requires Spihman -> Spirman"
   ]
  },
  {
   "cell_type": "code",
   "execution_count": 10,
   "metadata": {},
   "outputs": [
    {
     "name": "stdout",
     "output_type": "stream",
     "text": [
      "realization same as in stats(for 5 numbers)\n",
      "-0.2707874169444197 0.15519530632268022\n",
      "confirm H0\n"
     ]
    }
   ],
   "source": [
    "stats_r_24, stats_p_24 = stats.spearmanr(s1, s2)\n",
    "stats_p_24 /= 2\n",
    "r_24, p_24 = spirman_test(s1, s2)\n",
    "p_24 /= 2\n",
    "\n",
    "if (round(stats_r_24, 5) == round(r_24, 5)) and (round(stats_p_24, 5) == round(p_24, 5)):\n",
    "    print(\"realization same as in stats(for 5 numbers)\")\n",
    "    print(r_24, p_24)\n",
    "else:\n",
    "    print(\"realization differes from stats\")\n",
    "    print(\"stats   mine\")\n",
    "    print(round(stats_r_24, 5), round(p_24, 5))\n",
    "    print(round(stats_p_24, 5), round(r_24, 5))\n",
    "\n",
    "if p_24 >= alpha:\n",
    "    h_24 = 0\n",
    "    print(\"confirm H0\")\n",
    "else:\n",
    "    h_24 = 1\n",
    "    print(\"reject H0\")"
   ]
  },
  {
   "cell_type": "code",
   "execution_count": 11,
   "metadata": {},
   "outputs": [
    {
     "data": {
      "text/html": [
       "<div>\n",
       "<style scoped>\n",
       "    .dataframe tbody tr th:only-of-type {\n",
       "        vertical-align: middle;\n",
       "    }\n",
       "\n",
       "    .dataframe tbody tr th {\n",
       "        vertical-align: top;\n",
       "    }\n",
       "\n",
       "    .dataframe thead th {\n",
       "        text-align: right;\n",
       "    }\n",
       "</style>\n",
       "<table border=\"1\" class=\"dataframe\">\n",
       "  <thead>\n",
       "    <tr style=\"text-align: right;\">\n",
       "      <th></th>\n",
       "      <th>task</th>\n",
       "      <th>stat</th>\n",
       "      <th>p</th>\n",
       "      <th>h</th>\n",
       "    </tr>\n",
       "  </thead>\n",
       "  <tbody>\n",
       "    <tr>\n",
       "      <th>0</th>\n",
       "      <td>3</td>\n",
       "      <td>0.737019</td>\n",
       "      <td>0.001720</td>\n",
       "      <td>3</td>\n",
       "    </tr>\n",
       "    <tr>\n",
       "      <th>1</th>\n",
       "      <td>8</td>\n",
       "      <td>0.114300</td>\n",
       "      <td>0.753210</td>\n",
       "      <td>0</td>\n",
       "    </tr>\n",
       "    <tr>\n",
       "      <th>2</th>\n",
       "      <td>24</td>\n",
       "      <td>-0.270787</td>\n",
       "      <td>0.155195</td>\n",
       "      <td>0</td>\n",
       "    </tr>\n",
       "  </tbody>\n",
       "</table>\n",
       "</div>"
      ],
      "text/plain": [
       "   task      stat         p  h\n",
       "0     3  0.737019  0.001720  3\n",
       "1     8  0.114300  0.753210  0\n",
       "2    24 -0.270787  0.155195  0"
      ]
     },
     "metadata": {},
     "output_type": "display_data"
    }
   ],
   "source": [
    "data = {\n",
    "    \"task\": [3, 8, 24],\n",
    "    \"stat\": [r_03, r_08 ,r_24],\n",
    "    \"p\": [p_03, p_08, p_24],\n",
    "    \"h\": [h_03, h_08, h_24],\n",
    "}\n",
    "\n",
    "df = pd.DataFrame(data=data)\n",
    "display(df)\n",
    "\n",
    "csv_path = root_path / \"lab04.csv\"\n",
    "\n",
    "if csv_path.exists():\n",
    "    csv_path.unlink()\n",
    "\n",
    "df.to_csv(csv_path, index=False)"
   ]
  },
  {
   "cell_type": "code",
   "execution_count": null,
   "metadata": {},
   "outputs": [],
   "source": []
  }
 ],
 "metadata": {
  "kernelspec": {
   "display_name": "Python 3",
   "language": "python",
   "name": "python3"
  },
  "language_info": {
   "codemirror_mode": {
    "name": "ipython",
    "version": 3
   },
   "file_extension": ".py",
   "mimetype": "text/x-python",
   "name": "python",
   "nbconvert_exporter": "python",
   "pygments_lexer": "ipython3",
   "version": "3.8.1"
  }
 },
 "nbformat": 4,
 "nbformat_minor": 4
}
