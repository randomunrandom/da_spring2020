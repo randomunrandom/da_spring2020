{
 "cells": [
  {
   "cell_type": "markdown",
   "metadata": {},
   "source": [
    "# Lab 02"
   ]
  },
  {
   "cell_type": "markdown",
   "metadata": {},
   "source": [
    "Представлен набор данных о городских квартирах. Рассчитайте следующие величины:\n",
    "\n",
    "* Оценку отношения R параметров 'Полная площадь квартиры' (full_sq) и 'Количество комнат' (num_room);\n",
    "* стандартную ошибку данной оценки;\n",
    "* долю p квартир, у которых 'Материал стен' = 4;\n",
    "* левую и правые доверительные границы нормальной аппроксимации p, доверительная вероятность = 95.3%.\n",
    "\n",
    "Объем генеральной совокупности равен 41468.    \n",
    "\n",
    "*Примечание*. Под дисперсией и стандартным отклонением подразумеваются их выборочные (несмещенные) аналоги.\n",
    "    \n",
    "Итоговый файл **.csv** должен содержать 5 чисел, через запятую."
   ]
  },
  {
   "cell_type": "code",
   "execution_count": 1,
   "metadata": {},
   "outputs": [],
   "source": [
    "from math import sqrt\n",
    "from pathlib import Path\n",
    "from typing import List, Any\n",
    "\n",
    "import numpy as np\n",
    "\n",
    "from scipy.stats import norm\n",
    "import pandas as pd"
   ]
  },
  {
   "cell_type": "code",
   "execution_count": 2,
   "metadata": {},
   "outputs": [
    {
     "data": {
      "text/html": [
       "<div>\n",
       "<style scoped>\n",
       "    .dataframe tbody tr th:only-of-type {\n",
       "        vertical-align: middle;\n",
       "    }\n",
       "\n",
       "    .dataframe tbody tr th {\n",
       "        vertical-align: top;\n",
       "    }\n",
       "\n",
       "    .dataframe thead th {\n",
       "        text-align: right;\n",
       "    }\n",
       "</style>\n",
       "<table border=\"1\" class=\"dataframe\">\n",
       "  <thead>\n",
       "    <tr style=\"text-align: right;\">\n",
       "      <th></th>\n",
       "      <th>full_sq</th>\n",
       "      <th>life_sq</th>\n",
       "      <th>material</th>\n",
       "      <th>num_room</th>\n",
       "    </tr>\n",
       "  </thead>\n",
       "  <tbody>\n",
       "    <tr>\n",
       "      <th>0</th>\n",
       "      <td>41</td>\n",
       "      <td>27</td>\n",
       "      <td>2</td>\n",
       "      <td>2</td>\n",
       "    </tr>\n",
       "    <tr>\n",
       "      <th>1</th>\n",
       "      <td>53</td>\n",
       "      <td>30</td>\n",
       "      <td>1</td>\n",
       "      <td>2</td>\n",
       "    </tr>\n",
       "    <tr>\n",
       "      <th>2</th>\n",
       "      <td>46</td>\n",
       "      <td>29</td>\n",
       "      <td>1</td>\n",
       "      <td>2</td>\n",
       "    </tr>\n",
       "    <tr>\n",
       "      <th>3</th>\n",
       "      <td>46</td>\n",
       "      <td>30</td>\n",
       "      <td>1</td>\n",
       "      <td>2</td>\n",
       "    </tr>\n",
       "    <tr>\n",
       "      <th>4</th>\n",
       "      <td>38</td>\n",
       "      <td>19</td>\n",
       "      <td>2</td>\n",
       "      <td>1</td>\n",
       "    </tr>\n",
       "    <tr>\n",
       "      <th>...</th>\n",
       "      <td>...</td>\n",
       "      <td>...</td>\n",
       "      <td>...</td>\n",
       "      <td>...</td>\n",
       "    </tr>\n",
       "    <tr>\n",
       "      <th>7406</th>\n",
       "      <td>39</td>\n",
       "      <td>17</td>\n",
       "      <td>1</td>\n",
       "      <td>1</td>\n",
       "    </tr>\n",
       "    <tr>\n",
       "      <th>7407</th>\n",
       "      <td>81</td>\n",
       "      <td>41</td>\n",
       "      <td>4</td>\n",
       "      <td>2</td>\n",
       "    </tr>\n",
       "    <tr>\n",
       "      <th>7408</th>\n",
       "      <td>32</td>\n",
       "      <td>18</td>\n",
       "      <td>1</td>\n",
       "      <td>1</td>\n",
       "    </tr>\n",
       "    <tr>\n",
       "      <th>7409</th>\n",
       "      <td>40</td>\n",
       "      <td>25</td>\n",
       "      <td>1</td>\n",
       "      <td>2</td>\n",
       "    </tr>\n",
       "    <tr>\n",
       "      <th>7410</th>\n",
       "      <td>71</td>\n",
       "      <td>42</td>\n",
       "      <td>6</td>\n",
       "      <td>3</td>\n",
       "    </tr>\n",
       "  </tbody>\n",
       "</table>\n",
       "<p>7411 rows × 4 columns</p>\n",
       "</div>"
      ],
      "text/plain": [
       "      full_sq  life_sq  material  num_room\n",
       "0          41       27         2         2\n",
       "1          53       30         1         2\n",
       "2          46       29         1         2\n",
       "3          46       30         1         2\n",
       "4          38       19         2         1\n",
       "...       ...      ...       ...       ...\n",
       "7406       39       17         1         1\n",
       "7407       81       41         4         2\n",
       "7408       32       18         1         1\n",
       "7409       40       25         1         2\n",
       "7410       71       42         6         3\n",
       "\n",
       "[7411 rows x 4 columns]"
      ]
     },
     "metadata": {},
     "output_type": "display_data"
    }
   ],
   "source": [
    "N = 41468\n",
    "alpha = 1- (95.3/100)\n",
    "\n",
    "file_path = Path('.')\n",
    "data_path = file_path / '..' / 'data' / 'lw2' / 'projects' / '1032173841' / 'data.csv'\n",
    "data_path = data_path.resolve()\n",
    "\n",
    "data = pd.read_csv(data_path)\n",
    "n = len(data)\n",
    "f = n/N\n",
    "\n",
    "display(data)"
   ]
  },
  {
   "cell_type": "code",
   "execution_count": 3,
   "metadata": {},
   "outputs": [
    {
     "name": "stdout",
     "output_type": "stream",
     "text": [
      "R 27.356736111111115\n"
     ]
    }
   ],
   "source": [
    "def mean(lst: List[float]) -> float:\n",
    "    return sum(lst)/len(lst)\n",
    "\n",
    "R = mean(data.full_sq) / mean(data.num_room)\n",
    "print(\"R\", R)"
   ]
  },
  {
   "cell_type": "code",
   "execution_count": 4,
   "metadata": {},
   "outputs": [
    {
     "name": "stdout",
     "output_type": "stream",
     "text": [
      "std_err 0.08263028105835243\n"
     ]
    }
   ],
   "source": [
    "def std_err(X, Y, R):\n",
    "    err = (\n",
    "            sqrt(1-f)     * sqrt(sum([(y_i - R*x_i)**2 for x_i, y_i in zip(X, Y)])) /\n",
    "#       ---------------------------------------------------------------------------\n",
    "        (sqrt(n) * mean(X) * sqrt(n-1))\n",
    "    )\n",
    "    return err\n",
    "std = std_err(data.num_room, data.full_sq, R)\n",
    "print(\"std_err\", std)"
   ]
  },
  {
   "cell_type": "code",
   "execution_count": 5,
   "metadata": {},
   "outputs": [],
   "source": [
    "def median(lst: List[float]) -> float:\n",
    "    sort = sorted(lst)\n",
    "    mid = (len(lst) - 1) // 2\n",
    "    \n",
    "    if (len(lst) % 2) == 0:\n",
    "        return float(sort[mid])\n",
    "    else:\n",
    "        return float((sort[mid] + sort[mid + 1])/2)"
   ]
  },
  {
   "cell_type": "code",
   "execution_count": 6,
   "metadata": {},
   "outputs": [],
   "source": [
    "def var(lst: List[float]) -> float:\n",
    "    var = (\n",
    "        sum([(l_i - mean(lst))**2 for l_i in lst]) / \n",
    "    #   ------------------------------------------\n",
    "                         (len(lst)-1)\n",
    "    )\n",
    "    return var"
   ]
  },
  {
   "cell_type": "code",
   "execution_count": 7,
   "metadata": {},
   "outputs": [
    {
     "name": "stdout",
     "output_type": "stream",
     "text": [
      "a 438\n",
      "p 0.059101335852111726\n"
     ]
    }
   ],
   "source": [
    "a = len([m for m in data.material if m == 4])\n",
    "p = a/n\n",
    "q = 1 - p\n",
    "print(\"a\", a)\n",
    "print(\"p\", p)"
   ]
  },
  {
   "cell_type": "code",
   "execution_count": 8,
   "metadata": {},
   "outputs": [
    {
     "name": "stdout",
     "output_type": "stream",
     "text": [
      "0.06396506733080286 0.05902247871145574\n"
     ]
    }
   ],
   "source": [
    "t_l = norm.ppf(alpha / 2)\n",
    "t_r = norm.ppf((1-alpha) / 2)\n",
    "\n",
    "di_l = p - (t_l*sqrt(1-f)*sqrt(p*q/(n-1)) + 1/(2*n))\n",
    "di_r = p + (t_r*sqrt(1-f)*sqrt(p*q/(n-1)) + 1/(2*n))\n",
    "\n",
    "print(di_l, di_r)"
   ]
  },
  {
   "cell_type": "code",
   "execution_count": 9,
   "metadata": {},
   "outputs": [
    {
     "data": {
      "text/html": [
       "<div>\n",
       "<style scoped>\n",
       "    .dataframe tbody tr th:only-of-type {\n",
       "        vertical-align: middle;\n",
       "    }\n",
       "\n",
       "    .dataframe tbody tr th {\n",
       "        vertical-align: top;\n",
       "    }\n",
       "\n",
       "    .dataframe thead th {\n",
       "        text-align: right;\n",
       "    }\n",
       "</style>\n",
       "<table border=\"1\" class=\"dataframe\">\n",
       "  <thead>\n",
       "    <tr style=\"text-align: right;\">\n",
       "      <th></th>\n",
       "      <th>R</th>\n",
       "      <th>s_R</th>\n",
       "      <th>p</th>\n",
       "      <th>left</th>\n",
       "      <th>right</th>\n",
       "    </tr>\n",
       "  </thead>\n",
       "  <tbody>\n",
       "    <tr>\n",
       "      <th>0</th>\n",
       "      <td>27.356736</td>\n",
       "      <td>0.08263</td>\n",
       "      <td>0.059101</td>\n",
       "      <td>0.063965</td>\n",
       "      <td>0.059022</td>\n",
       "    </tr>\n",
       "  </tbody>\n",
       "</table>\n",
       "</div>"
      ],
      "text/plain": [
       "           R      s_R         p      left     right\n",
       "0  27.356736  0.08263  0.059101  0.063965  0.059022"
      ]
     },
     "metadata": {},
     "output_type": "display_data"
    }
   ],
   "source": [
    "data = {\n",
    "    'R':     [R],\n",
    "    's_R':   [std],\n",
    "    'p':     [p],\n",
    "    'left':  [di_l],\n",
    "    'right': [di_r],\n",
    "}\n",
    "\n",
    "df = pd.DataFrame(data=data)\n",
    "display(df)\n",
    "\n",
    "csv_path = Path('.') / 'lab02.csv'\n",
    "csv_path = csv_path.resolve()\n",
    "\n",
    "if csv_path.exists():\n",
    "    csv_path.unlink()\n",
    "\n",
    "df.to_csv(csv_path, index=False)"
   ]
  },
  {
   "cell_type": "code",
   "execution_count": null,
   "metadata": {},
   "outputs": [],
   "source": []
  }
 ],
 "metadata": {
  "file_extension": ".py",
  "kernelspec": {
   "display_name": "Python 3.8.1 64-bit ('py38': conda)",
   "language": "python",
   "name": "python38164bitpy38condaced4e950e5e54b6da88249f5264d995c"
  },
  "language_info": {
   "codemirror_mode": {
    "name": "ipython",
    "version": 3
   },
   "file_extension": ".py",
   "mimetype": "text/x-python",
   "name": "python",
   "nbconvert_exporter": "python",
   "pygments_lexer": "ipython3",
   "version": "3.8.1"
  },
  "mimetype": "text/x-python",
  "name": "python",
  "npconvert_exporter": "python",
  "pygments_lexer": "ipython3",
  "version": 3
 },
 "nbformat": 4,
 "nbformat_minor": 4
}
