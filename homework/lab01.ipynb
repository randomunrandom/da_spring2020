{
 "cells": [
  {
   "cell_type": "markdown",
   "metadata": {},
   "source": [
    "# Llab 01"
   ]
  },
  {
   "cell_type": "markdown",
   "metadata": {},
   "source": [
    "Рассчитайте среднее, медиану, дисперсию, стандартное отклонение, 1й и 3ю квартиль\\\n",
    "Для заданного значения N=30463 также рассчитайте 76.4% -ый доверительный интервал для суммы\\\n",
    "Построить гистограмму"
   ]
  },
  {
   "cell_type": "code",
   "execution_count": 1,
   "metadata": {},
   "outputs": [],
   "source": [
    "import math\n",
    "from pathlib import Path\n",
    "from typing import List, Any\n",
    "\n",
    "import numpy as np\n",
    "import matplotlib.pyplot as plt\n",
    "from matplotlib.ticker import PercentFormatter\n",
    "\n",
    "from scipy.stats import norm\n",
    "import pandas as pd"
   ]
  },
  {
   "cell_type": "code",
   "execution_count": 2,
   "metadata": {},
   "outputs": [
    {
     "name": "stdout",
     "output_type": "stream",
     "text": [
      "[42, 22, 55, 102, 59]\n"
     ]
    },
    {
     "data": {
      "text/html": [
       "<div>\n",
       "<style scoped>\n",
       "    .dataframe tbody tr th:only-of-type {\n",
       "        vertical-align: middle;\n",
       "    }\n",
       "\n",
       "    .dataframe tbody tr th {\n",
       "        vertical-align: top;\n",
       "    }\n",
       "\n",
       "    .dataframe thead th {\n",
       "        text-align: right;\n",
       "    }\n",
       "</style>\n",
       "<table border=\"1\" class=\"dataframe\">\n",
       "  <thead>\n",
       "    <tr style=\"text-align: right;\">\n",
       "      <th></th>\n",
       "      <th>0</th>\n",
       "    </tr>\n",
       "  </thead>\n",
       "  <tbody>\n",
       "    <tr>\n",
       "      <th>0</th>\n",
       "      <td>42</td>\n",
       "    </tr>\n",
       "    <tr>\n",
       "      <th>1</th>\n",
       "      <td>22</td>\n",
       "    </tr>\n",
       "    <tr>\n",
       "      <th>2</th>\n",
       "      <td>55</td>\n",
       "    </tr>\n",
       "    <tr>\n",
       "      <th>3</th>\n",
       "      <td>102</td>\n",
       "    </tr>\n",
       "    <tr>\n",
       "      <th>4</th>\n",
       "      <td>59</td>\n",
       "    </tr>\n",
       "  </tbody>\n",
       "</table>\n",
       "</div>"
      ],
      "text/plain": [
       "     0\n",
       "0   42\n",
       "1   22\n",
       "2   55\n",
       "3  102\n",
       "4   59"
      ]
     },
     "execution_count": 2,
     "metadata": {},
     "output_type": "execute_result"
    }
   ],
   "source": [
    "file_path = Path('.')\n",
    "data_path = file_path / '..' / 'data' / 'lw1' / 'projects' / '1032173841' / 'data.csv'\n",
    "data_path = data_path.resolve()\n",
    "\n",
    "data = pd.read_csv(data_path, header=None)\n",
    "lst = []\n",
    "for idx, row in data.iterrows():\n",
    "    lst.append(row.item())\n",
    "n = len(lst)\n",
    "    \n",
    "print(lst[:5])\n",
    "data.head()"
   ]
  },
  {
   "cell_type": "code",
   "execution_count": 3,
   "metadata": {},
   "outputs": [
    {
     "name": "stdout",
     "output_type": "stream",
     "text": [
      "mean = 54.4064602960969\n"
     ]
    }
   ],
   "source": [
    "def mean(lst: List[float]) -> float:\n",
    "    return sum(lst)/len(lst)\n",
    "\n",
    "assert mean(lst) == np.mean(lst)\n",
    "lst_mean = mean(lst)\n",
    "print(f\"mean = {lst_mean}\")"
   ]
  },
  {
   "cell_type": "code",
   "execution_count": 4,
   "metadata": {},
   "outputs": [
    {
     "name": "stdout",
     "output_type": "stream",
     "text": [
      "median = 49.0\n"
     ]
    }
   ],
   "source": [
    "def median(lst: List[float]) -> float:\n",
    "    sort = sorted(lst)\n",
    "    mid = (len(lst) - 1) // 2\n",
    "    \n",
    "    if (len(lst) % 2) == 0:\n",
    "        return float(sort[mid])\n",
    "    else:\n",
    "        return float((sort[mid] + sort[mid + 1])/2)\n",
    "    \n",
    "assert median(lst) == np.median(lst)\n",
    "lst_median = median(lst)\n",
    "print(f\"median = {lst_median}\")"
   ]
  },
  {
   "cell_type": "code",
   "execution_count": 5,
   "metadata": {},
   "outputs": [
    {
     "name": "stdout",
     "output_type": "stream",
     "text": [
      "566.03402828919 565.272205909258\n",
      "var = 566.03402828919\n"
     ]
    }
   ],
   "source": [
    "def var(lst: List[float]) -> float:\n",
    "    var = (\n",
    "        sum([(l_i - mean(lst))**2 for l_i in lst]) / \n",
    "    #   ------------------------------------------\n",
    "                         (len(lst)-1)\n",
    "    )\n",
    "    return var\n",
    "\n",
    "print(var(lst), np.var(lst))\n",
    "# assert var(lst) == np.var(lst)\n",
    "lst_var = var(lst)\n",
    "print(f\"var = {lst_var}\")"
   ]
  },
  {
   "cell_type": "code",
   "execution_count": 6,
   "metadata": {},
   "outputs": [
    {
     "name": "stdout",
     "output_type": "stream",
     "text": [
      "23.7914696538316 23.775453852855428\n",
      "23.7914696538316\n"
     ]
    }
   ],
   "source": [
    "def std(lst: List[float]) -> float:\n",
    "    return math.sqrt(var(lst))\n",
    "\n",
    "print(std(lst), np.std(lst))\n",
    "# assert std(lst) == np.std(lst)\n",
    "lst_std = std(lst)\n",
    "print(lst_std)"
   ]
  },
  {
   "cell_type": "code",
   "execution_count": 7,
   "metadata": {},
   "outputs": [
    {
     "name": "stdout",
     "output_type": "stream",
     "text": [
      "frst_kvar = 39\n"
     ]
    }
   ],
   "source": [
    "sort_lst = sorted(lst)\n",
    "frst_kvar = sort_lst[int(len(lst)* 0.25)]\n",
    "\n",
    "assert np.quantile(lst, 0.25) == frst_kvar\n",
    "print(f\"frst_kvar = {frst_kvar}\")"
   ]
  },
  {
   "cell_type": "code",
   "execution_count": 8,
   "metadata": {},
   "outputs": [
    {
     "name": "stdout",
     "output_type": "stream",
     "text": [
      "third_kvar = 63\n"
     ]
    }
   ],
   "source": [
    "sort_lst = sorted(lst)\n",
    "third_kvar = sort_lst[int(len(lst)* 0.75)]\n",
    "\n",
    "assert np.quantile(lst, 0.75) == third_kvar\n",
    "print(f\"third_kvar = {third_kvar}\")"
   ]
  },
  {
   "cell_type": "code",
   "execution_count": 9,
   "metadata": {},
   "outputs": [
    {
     "data": {
      "text/plain": [
       "1657384.0"
      ]
     },
     "execution_count": 9,
     "metadata": {},
     "output_type": "execute_result"
    }
   ],
   "source": [
    "N = 30463\n",
    "alpha = 1 - (76.4/100)\n",
    "\n",
    "Y_summ = N * mean(lst)\n",
    "Y_summ"
   ]
  },
  {
   "cell_type": "code",
   "execution_count": 10,
   "metadata": {},
   "outputs": [
    {
     "name": "stdout",
     "output_type": "stream",
     "text": [
      "1626261.6685381292 1649499.1224060408\n"
     ]
    }
   ],
   "source": [
    "std_mean_error = (\n",
    "    std(lst) * math.sqrt( 1 - (len(lst)/N) ) /\n",
    "#   ----------------------------------------\n",
    "            math.sqrt(len(lst))\n",
    ")\n",
    "\n",
    "t_l = norm.ppf(alpha / 2)\n",
    "t_r = norm.ppf((1-alpha) / 2)\n",
    "\n",
    "Y_mean_l = mean(lst) + t_l * std_mean_error\n",
    "Y_mean_r = mean(lst) + t_r * std_mean_error\n",
    "\n",
    "Y_summ_l = Y_mean_l * N\n",
    "Y_summ_r = Y_mean_r * N\n",
    "\n",
    "print(Y_summ_l, Y_summ_r)"
   ]
  },
  {
   "cell_type": "code",
   "execution_count": 11,
   "metadata": {},
   "outputs": [
    {
     "data": {
      "image/png": "[encoded data removed]",
      "text/plain": [
       "<Figure size 432x288 with 1 Axes>"
      ]
     },
     "metadata": {
      "needs_background": "light"
     },
     "output_type": "display_data"
    }
   ],
   "source": [
    "n_bins = 20\n",
    "fig, axs = plt.subplots(1, 1, tight_layout=True)\n",
    "\n",
    "n, bins, patches = axs.hist(lst, bins=n_bins, density=True)\n",
    "\n",
    "axs.grid(True)\n",
    "axs.yaxis.set_major_formatter(PercentFormatter(xmax=1))\n",
    "\n",
    "plt.title('$Histogram$')\n",
    "plt.show()"
   ]
  },
  {
   "cell_type": "code",
   "execution_count": 12,
   "metadata": {},
   "outputs": [
    {
     "data": {
      "text/html": [
       "<div>\n",
       "<style scoped>\n",
       "    .dataframe tbody tr th:only-of-type {\n",
       "        vertical-align: middle;\n",
       "    }\n",
       "\n",
       "    .dataframe tbody tr th {\n",
       "        vertical-align: top;\n",
       "    }\n",
       "\n",
       "    .dataframe thead th {\n",
       "        text-align: right;\n",
       "    }\n",
       "</style>\n",
       "<table border=\"1\" class=\"dataframe\">\n",
       "  <thead>\n",
       "    <tr style=\"text-align: right;\">\n",
       "      <th></th>\n",
       "      <th>mean</th>\n",
       "      <th>median</th>\n",
       "      <th>var</th>\n",
       "      <th>std</th>\n",
       "      <th>frst_kvart</th>\n",
       "      <th>third_kvart</th>\n",
       "      <th>Y_summ_left</th>\n",
       "      <th>Y_summ_right</th>\n",
       "    </tr>\n",
       "  </thead>\n",
       "  <tbody>\n",
       "    <tr>\n",
       "      <th>0</th>\n",
       "      <td>54.40646</td>\n",
       "      <td>49.0</td>\n",
       "      <td>566.034028</td>\n",
       "      <td>23.79147</td>\n",
       "      <td>39</td>\n",
       "      <td>63</td>\n",
       "      <td>1.626262e+06</td>\n",
       "      <td>1.649499e+06</td>\n",
       "    </tr>\n",
       "  </tbody>\n",
       "</table>\n",
       "</div>"
      ],
      "text/plain": [
       "       mean  median         var       std  frst_kvart  third_kvart  \\\n",
       "0  54.40646    49.0  566.034028  23.79147          39           63   \n",
       "\n",
       "    Y_summ_left  Y_summ_right  \n",
       "0  1.626262e+06  1.649499e+06  "
      ]
     },
     "metadata": {},
     "output_type": "display_data"
    }
   ],
   "source": [
    "data = {\n",
    "    'mean':         [lst_mean],\n",
    "    'median':       [lst_median],\n",
    "    'var':          [lst_var],\n",
    "    'std':          [lst_std],\n",
    "    'frst_kvart':   [frst_kvar],\n",
    "    'third_kvart':  [third_kvar],\n",
    "    'Y_summ_left':  [Y_summ_l],\n",
    "    'Y_summ_right': [Y_summ_r],\n",
    "}\n",
    "\n",
    "df = pd.DataFrame(data=data)\n",
    "display(df)\n",
    "\n",
    "csv_path = Path('.') / 'lab01.csv'\n",
    "csv_path = csv_path.resolve()\n",
    "\n",
    "if csv_path.exists():\n",
    "    csv_path.unlink()\n",
    "\n",
    "df.to_csv(csv_path, index=False)"
   ]
  },
  {
   "cell_type": "code",
   "execution_count": null,
   "metadata": {},
   "outputs": [],
   "source": []
  }
 ],
 "metadata": {
  "file_extension": ".py",
  "kernelspec": {
   "display_name": "Python 3.8.1 64-bit ('py38': conda)",
   "language": "python",
   "name": "python38164bitpy38condaced4e950e5e54b6da88249f5264d995c"
  },
  "language_info": {
   "codemirror_mode": {
    "name": "ipython",
    "version": 3
   },
   "file_extension": ".py",
   "mimetype": "text/x-python",
   "name": "python",
   "nbconvert_exporter": "python",
   "pygments_lexer": "ipython3",
   "version": "3.8.1"
  },
  "mimetype": "text/x-python",
  "name": "python",
  "npconvert_exporter": "python",
  "pygments_lexer": "ipython3",
  "version": 3
 },
 "nbformat": 4,
 "nbformat_minor": 4
}