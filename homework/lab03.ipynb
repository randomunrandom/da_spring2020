{
 "cells": [
  {
   "cell_type": "markdown",
   "metadata": {},
   "source": [
    "# Лабораторная работа 3\n",
    "Представлены два набора данных. Необходимо проверить гипотезы об однородности вида смещение и сжатие/растяжение против альтернатив о том, что между выборки имеется различие.\n",
    "    \n",
    "Для решения задачи применить корректную процедуру, используя наиболее подходящие критерии (согласно их мощности и предположениям).\n",
    "\n",
    "Уровень значимости принять равным 0,05.\n",
    "    \n",
    "Итоговый файл **.csv** должен содержать 6 чисел, через запятую: \n",
    "\n",
    "* значение статистики при проверке гипотезы об однородности вида смещение\n",
    "* p-значение статистики при проверке гипотезы об однородности вида смещение\n",
    "* итоговая гипотеза при проверке гипотезы об однородности вида смещение (0 или 1)\n",
    "* значение статистики при проверке гипотезы об однородности вида сжатие/растяжение\n",
    "* p-значение статистики при проверке гипотезы об однородности вида сжатие/растяжение\n",
    "* итоговая гипотеза при проверке гипотезы об однородности вида сжатие/растяжение (0 или 1)"
   ]
  },
  {
   "cell_type": "code",
   "execution_count": 1,
   "metadata": {},
   "outputs": [],
   "source": [
    "from math import sqrt\n",
    "from pathlib import Path\n",
    "from typing import List, Any, Tuple\n",
    "\n",
    "import numpy as np\n",
    "\n",
    "from scipy import stats\n",
    "import pandas as pd"
   ]
  },
  {
   "cell_type": "code",
   "execution_count": 2,
   "metadata": {},
   "outputs": [],
   "source": [
    "file_path = Path('.')\n",
    "data_path = file_path / '..' / 'data' / 'lw3' / 'projects' / '1032173841'\n",
    "data_path = data_path.resolve()\n",
    "\n",
    "s1 = np.array([row.item() for _, row in pd.read_csv(data_path/'sample1.csv', header=None).iterrows()])\n",
    "     \n",
    "s2 = np.array([row.item() for _, row in pd.read_csv(data_path/'sample2.csv', header=None).iterrows()])\n",
    "\n",
    "alpha = 0.05"
   ]
  },
  {
   "cell_type": "code",
   "execution_count": 3,
   "metadata": {},
   "outputs": [],
   "source": [
    "def mean(lst: List[float]) -> float:\n",
    "    return sum(lst)/len(lst)\n",
    "\n",
    "def var(lst: List[float]) -> float:\n",
    "    var = (\n",
    "        sum([(l_i - mean(lst))**2 for l_i in lst]) / \n",
    "    #   ------------------------------------------\n",
    "                         (len(lst)-1)\n",
    "    )\n",
    "    return var\n",
    "\n",
    "def rank(lst: List[float]) -> List[float]:\n",
    "    _srt: List[Tuple[float, int]] = list(enumerate(sorted(lst), 1))\n",
    "    srt = [[el[0], el[1]] for el in _srt]\n",
    "    \n",
    "    tmp: int = 0\n",
    "    for idx, val in srt:\n",
    "        if val == srt[idx-2][1]:\n",
    "            tmp += 1\n",
    "        else:\n",
    "            if tmp != 0:\n",
    "                new_idx = mean([el[0] for el in srt[idx-2-tmp:idx-1]])\n",
    "                for i in range(idx-2-tmp, idx-1):\n",
    "                    srt[i][0] = new_idx\n",
    "                tmp = 0\n",
    "    if tmp != 0:\n",
    "        new_idx = mean([el[0] for el in srt[idx-1-tmp:idx]])\n",
    "        for i in range(idx-1-tmp, idx):\n",
    "            srt[i][0] = new_idx\n",
    "        tmp = 0\n",
    "    \n",
    "    mp: Dict[float, float] = {}\n",
    "    \n",
    "    for idx, val in srt:\n",
    "        if val not in mp:\n",
    "            mp[val] = idx\n",
    "    \n",
    "    res: List[int] = [mp[el] for el in lst]\n",
    "    return res"
   ]
  },
  {
   "cell_type": "code",
   "execution_count": 4,
   "metadata": {},
   "outputs": [
    {
     "data": {
      "text/plain": [
       "(8546.662, 8546.662, True)"
      ]
     },
     "execution_count": 4,
     "metadata": {},
     "output_type": "execute_result"
    }
   ],
   "source": [
    "round(stats.tvar(s1), 5), round(var(s1), 5), round(stats.tvar(s1), 5) == round(var(s1), 5)"
   ]
  },
  {
   "cell_type": "code",
   "execution_count": 5,
   "metadata": {},
   "outputs": [
    {
     "name": "stdout",
     "output_type": "stream",
     "text": [
      "[1, 6.5, 2.5, 6.5, 6.5, 6.5, 2.5, 4] [1.  6.5 2.5 6.5 6.5 6.5 2.5 4. ] [ True  True  True  True  True  True  True  True]\n"
     ]
    }
   ],
   "source": [
    "tst = [0, 15, 3, 15, 15, 15, 3, 12]\n",
    "r = rank(tst)\n",
    "print(r, stats.rankdata(tst), r == stats.rankdata(tst))"
   ]
  },
  {
   "cell_type": "markdown",
   "metadata": {},
   "source": [
    "#### 1: check for normality"
   ]
  },
  {
   "cell_type": "code",
   "execution_count": 6,
   "metadata": {},
   "outputs": [
    {
     "name": "stdout",
     "output_type": "stream",
     "text": [
      "confirm H0 for both samples (normal distribution)\n"
     ]
    }
   ],
   "source": [
    "s1_norm_s, s1_norm_p = stats.shapiro(s1)\n",
    "s2_norm_s, s2_norm_p = stats.shapiro(s2)\n",
    "if (s1_norm_p > alpha) and (s2_norm_s > alpha):\n",
    "    print(\"confirm H0 for both samples (normal distribution)\")\n",
    "else:\n",
    "    print(\"reject  H0 for both samples\")"
   ]
  },
  {
   "cell_type": "markdown",
   "metadata": {},
   "source": [
    "#### samples have normal distribution, so we need to use Fisher test"
   ]
  },
  {
   "cell_type": "code",
   "execution_count": 7,
   "metadata": {},
   "outputs": [
    {
     "name": "stdout",
     "output_type": "stream",
     "text": [
      "(0.9816459432939638, 0.5319786290765001)\n"
     ]
    }
   ],
   "source": [
    "def fisher_test(x: List[float], y: List[float]) -> Tuple[float, float]:\n",
    "    statistic = var(s1) / var(s2)\n",
    "    p_value = 1 - stats.f.cdf(statistic, x.size - 1, y.size - 1)\n",
    "    return statistic, p_value\n",
    "\n",
    "print(fisher_test(s1, s2))"
   ]
  },
  {
   "cell_type": "code",
   "execution_count": 8,
   "metadata": {},
   "outputs": [
    {
     "name": "stdout",
     "output_type": "stream",
     "text": [
      "confirm H0\n"
     ]
    }
   ],
   "source": [
    "rast_s, rast_p = fisher_test(s2, s1)\n",
    "if rast_p >= alpha:\n",
    "    rast_h = 0\n",
    "    print(\"confirm H0\")\n",
    "else:\n",
    "    rast_h = 1\n",
    "    print(\"reject  H0\")"
   ]
  },
  {
   "cell_type": "markdown",
   "metadata": {},
   "source": [
    "#### H0 confirmed -> vars are equal -> Student(t-test)"
   ]
  },
  {
   "cell_type": "markdown",
   "metadata": {},
   "source": [
    "#### student"
   ]
  },
  {
   "cell_type": "code",
   "execution_count": 9,
   "metadata": {},
   "outputs": [],
   "source": [
    "def student(x: List[float], y: List[float]) -> Tuple[float, float]:\n",
    "    x_mean: float = mean(x)\n",
    "    y_mean: float = mean(y)\n",
    "    \n",
    "    s1: float = sum([(x_i - x_mean) ** 2 for x_i in x])\n",
    "    s2: float = sum([(y_i - y_mean) ** 2 for y_i in y])\n",
    "    \n",
    "    s_p = np.sqrt((s1 + s2) / (x.size + y.size - 2))\n",
    "    \n",
    "    statistic = (x_mean - y_mean) / (s_p * np.sqrt(1/y.size + 1/x.size))\n",
    "    p_value = 2 * (1 - stats.t.cdf(np.abs(statistic), x.size + y.size - 2))\n",
    "    return statistic, p_value"
   ]
  },
  {
   "cell_type": "code",
   "execution_count": 10,
   "metadata": {},
   "outputs": [
    {
     "name": "stdout",
     "output_type": "stream",
     "text": [
      "realization same as in stats\n",
      "0.9337511590444215 0.35190354593710804\n",
      "confirm H0\n"
     ]
    }
   ],
   "source": [
    "stats_odno_s, stats_odno_p = stats.ttest_ind(s1, s2)\n",
    "odno_s, odno_p = student(s1, s2)\n",
    "if (round(stats_odno_s, 5) == round(odno_s, 5)) and (round(stats_odno_p, 5) == round(odno_p, 5)):\n",
    "    print(\"realization same as in stats\")\n",
    "print(odno_s, odno_p)\n",
    "if odno_p >= alpha:\n",
    "    odno_h = 0\n",
    "    print(\"confirm H0\")\n",
    "else:\n",
    "    odno_h = 1\n",
    "    print(\"reject H0\")"
   ]
  },
  {
   "cell_type": "code",
   "execution_count": 11,
   "metadata": {},
   "outputs": [
    {
     "data": {
      "text/html": [
       "<div>\n",
       "<style scoped>\n",
       "    .dataframe tbody tr th:only-of-type {\n",
       "        vertical-align: middle;\n",
       "    }\n",
       "\n",
       "    .dataframe tbody tr th {\n",
       "        vertical-align: top;\n",
       "    }\n",
       "\n",
       "    .dataframe thead th {\n",
       "        text-align: right;\n",
       "    }\n",
       "</style>\n",
       "<table border=\"1\" class=\"dataframe\">\n",
       "  <thead>\n",
       "    <tr style=\"text-align: right;\">\n",
       "      <th></th>\n",
       "      <th>odno_s</th>\n",
       "      <th>odno_p</th>\n",
       "      <th>odno_h</th>\n",
       "      <th>rast_s</th>\n",
       "      <th>rast_p</th>\n",
       "      <th>rast_h</th>\n",
       "    </tr>\n",
       "  </thead>\n",
       "  <tbody>\n",
       "    <tr>\n",
       "      <th>0</th>\n",
       "      <td>0.933751</td>\n",
       "      <td>0.351904</td>\n",
       "      <td>0</td>\n",
       "      <td>0.981646</td>\n",
       "      <td>0.532377</td>\n",
       "      <td>0</td>\n",
       "    </tr>\n",
       "  </tbody>\n",
       "</table>\n",
       "</div>"
      ],
      "text/plain": [
       "     odno_s    odno_p  odno_h    rast_s    rast_p  rast_h\n",
       "0  0.933751  0.351904       0  0.981646  0.532377       0"
      ]
     },
     "metadata": {},
     "output_type": "display_data"
    }
   ],
   "source": [
    "data = {\n",
    "    'odno_s': [odno_s],\n",
    "    'odno_p': [odno_p],\n",
    "    'odno_h': [odno_h],\n",
    "    'rast_s': [rast_s],\n",
    "    'rast_p': [rast_p],\n",
    "    'rast_h': [rast_h],\n",
    "}\n",
    "\n",
    "df = pd.DataFrame(data=data)\n",
    "display(df)\n",
    "\n",
    "csv_path = Path('.') / 'lab03.csv'\n",
    "csv_path = csv_path.resolve()\n",
    "\n",
    "if csv_path.exists():\n",
    "    csv_path.unlink()\n",
    "\n",
    "df.to_csv(csv_path, index=False)"
   ]
  },
  {
   "cell_type": "code",
   "execution_count": null,
   "metadata": {},
   "outputs": [],
   "source": []
  }
 ],
 "metadata": {
  "kernelspec": {
   "display_name": "Python 3",
   "language": "python",
   "name": "python3"
  },
  "language_info": {
   "codemirror_mode": {
    "name": "ipython",
    "version": 3
   },
   "file_extension": ".py",
   "mimetype": "text/x-python",
   "name": "python",
   "nbconvert_exporter": "python",
   "pygments_lexer": "ipython3",
   "version": "3.8.1"
  }
 },
 "nbformat": 4,
 "nbformat_minor": 4
}
